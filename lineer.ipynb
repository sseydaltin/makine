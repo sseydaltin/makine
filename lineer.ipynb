{
  "nbformat": 4,
  "nbformat_minor": 0,
  "metadata": {
    "colab": {
      "provenance": [],
      "authorship_tag": "ABX9TyNe7Uh47Kp1VJYxPXfKYKTG",
      "include_colab_link": true
    },
    "kernelspec": {
      "name": "python3",
      "display_name": "Python 3"
    },
    "language_info": {
      "name": "python"
    }
  },
  "cells": [
    {
      "cell_type": "markdown",
      "metadata": {
        "id": "view-in-github",
        "colab_type": "text"
      },
      "source": [
        "<a href=\"https://colab.research.google.com/github/sseydaltin/makine/blob/main/lineer.ipynb\" target=\"_parent\"><img src=\"https://colab.research.google.com/assets/colab-badge.svg\" alt=\"Open In Colab\"/></a>"
      ]
    },
    {
      "cell_type": "markdown",
      "source": [
        " Auto MPG Veri Seti Hikayesi\n",
        "\n",
        "## Veri Seti Hikayesi\n",
        "**Auto MPG veri seti**, araçların yakıt tüketimi (MPG - Miles Per Gallon) ile ilgili çeşitli özelliklerini içeren bir veri setidir. Bu veri seti, araçların çevresel etkilerini ve yakıt ekonomilerini analiz etmek için sıklıkla kullanılır. İlk olarak UCI Machine Learning Repository'de yayımlanan veri seti, aşağıdaki özellikleri içermektedir:\n",
        "\n",
        "### Özellikler:\n",
        "1. **MPG (Miles per Gallon)**: Aracın yakıt tüketim performansı (hedef değişken).\n",
        "2. **Cylinders (Silindir Sayısı)**: Aracın motorundaki silindir sayısı.\n",
        "3. **Displacement (Motor Hacmi)**: Motorun hacmi (inç³ cinsinden).\n",
        "4. **Horsepower (Beygir Gücü)**: Aracın motor gücü.\n",
        "5. **Weight (Ağırlık)**: Aracın toplam ağırlığı (pound cinsinden).\n",
        "6. **Acceleration (İvme)**: Aracın 0-60 mil/saat hızlanma süresi (saniye cinsinden).\n",
        "7. **Model Year (Model Yılı)**: Aracın üretim yılı.\n",
        "8. **Origin (Menşei)**: Aracın üretildiği bölge:\n",
        "   - 1: Amerika\n",
        "   - 2: Avrupa\n",
        "   - 3: Asya\n",
        "\n",
        "### Veri Setinin Amacı:\n",
        "Bu veri seti, araçların yakıt ekonomisini etkileyen faktörleri incelemek ve yeni bir aracın tahmini MPG değerini hesaplamak için kullanılabilir. Veri seti, hem regresyon hem de veri keşfi için uygundur.\n",
        "\n",
        "---"
      ],
      "metadata": {
        "id": "KOH4hk9llz_3"
      }
    },
    {
      "cell_type": "code",
      "execution_count": null,
      "metadata": {
        "colab": {
          "base_uri": "https://localhost:8080/"
        },
        "collapsed": true,
        "id": "rZGm_fuvWcXn",
        "outputId": "2fe93122-af06-4960-b81d-bdcc7011d7f6"
      },
      "outputs": [
        {
          "output_type": "stream",
          "name": "stdout",
          "text": [
            "Requirement already satisfied: ucimlrepo in /usr/local/lib/python3.11/dist-packages (0.0.7)\n",
            "Requirement already satisfied: pandas>=1.0.0 in /usr/local/lib/python3.11/dist-packages (from ucimlrepo) (2.2.2)\n",
            "Requirement already satisfied: certifi>=2020.12.5 in /usr/local/lib/python3.11/dist-packages (from ucimlrepo) (2025.1.31)\n",
            "Requirement already satisfied: numpy>=1.23.2 in /usr/local/lib/python3.11/dist-packages (from pandas>=1.0.0->ucimlrepo) (2.0.2)\n",
            "Requirement already satisfied: python-dateutil>=2.8.2 in /usr/local/lib/python3.11/dist-packages (from pandas>=1.0.0->ucimlrepo) (2.8.2)\n",
            "Requirement already satisfied: pytz>=2020.1 in /usr/local/lib/python3.11/dist-packages (from pandas>=1.0.0->ucimlrepo) (2025.2)\n",
            "Requirement already satisfied: tzdata>=2022.7 in /usr/local/lib/python3.11/dist-packages (from pandas>=1.0.0->ucimlrepo) (2025.2)\n",
            "Requirement already satisfied: six>=1.5 in /usr/local/lib/python3.11/dist-packages (from python-dateutil>=2.8.2->pandas>=1.0.0->ucimlrepo) (1.17.0)\n"
          ]
        }
      ],
      "source": [
        "!pip install ucimlrepo"
      ]
    },
    {
      "cell_type": "code",
      "source": [
        "from ucimlrepo import fetch_ucirepo\n",
        "auto_mpg = fetch_ucirepo(id=9) # Removed extra spaces at the beginning of this line\n",
        "X = auto_mpg.data.features # X featureların yer aldığı değişken\n",
        "y = auto_mpg.data.targets #y target değişkenimiz olan mpga'nın yer aldığı değişken"
      ],
      "metadata": {
        "id": "ebXf1AkDWo_x"
      },
      "execution_count": null,
      "outputs": []
    },
    {
      "cell_type": "code",
      "source": [
        "# pandas kullanarak daha temiz çıktı\n",
        "import pandas as pd\n",
        "\n",
        "# Özelliklerin ilk 5 satırı\n",
        "print(\"Özellikler (X):\")\n",
        "display(X.head())\n",
        "\n",
        "# Hedef değişkenin ilk 5 satırı\n",
        "print(\"\\nHedef değişken (y):\")\n",
        "display(y.head())\n"
      ],
      "metadata": {
        "colab": {
          "base_uri": "https://localhost:8080/",
          "height": 447
        },
        "id": "9uavTmHyXuR7",
        "outputId": "54f9805f-37c0-49c3-a202-6bae73955461"
      },
      "execution_count": null,
      "outputs": [
        {
          "output_type": "stream",
          "name": "stdout",
          "text": [
            "Özellikler (X):\n"
          ]
        },
        {
          "output_type": "display_data",
          "data": {
            "text/plain": [
              "   displacement  cylinders  horsepower  weight  acceleration  model_year  \\\n",
              "0         307.0          8       130.0    3504          12.0          70   \n",
              "1         350.0          8       165.0    3693          11.5          70   \n",
              "2         318.0          8       150.0    3436          11.0          70   \n",
              "3         304.0          8       150.0    3433          12.0          70   \n",
              "4         302.0          8       140.0    3449          10.5          70   \n",
              "\n",
              "   origin  \n",
              "0       1  \n",
              "1       1  \n",
              "2       1  \n",
              "3       1  \n",
              "4       1  "
            ],
            "text/html": [
              "\n",
              "  <div id=\"df-38eadaa5-120a-48d2-baa8-4d504509bb33\" class=\"colab-df-container\">\n",
              "    <div>\n",
              "<style scoped>\n",
              "    .dataframe tbody tr th:only-of-type {\n",
              "        vertical-align: middle;\n",
              "    }\n",
              "\n",
              "    .dataframe tbody tr th {\n",
              "        vertical-align: top;\n",
              "    }\n",
              "\n",
              "    .dataframe thead th {\n",
              "        text-align: right;\n",
              "    }\n",
              "</style>\n",
              "<table border=\"1\" class=\"dataframe\">\n",
              "  <thead>\n",
              "    <tr style=\"text-align: right;\">\n",
              "      <th></th>\n",
              "      <th>displacement</th>\n",
              "      <th>cylinders</th>\n",
              "      <th>horsepower</th>\n",
              "      <th>weight</th>\n",
              "      <th>acceleration</th>\n",
              "      <th>model_year</th>\n",
              "      <th>origin</th>\n",
              "    </tr>\n",
              "  </thead>\n",
              "  <tbody>\n",
              "    <tr>\n",
              "      <th>0</th>\n",
              "      <td>307.0</td>\n",
              "      <td>8</td>\n",
              "      <td>130.0</td>\n",
              "      <td>3504</td>\n",
              "      <td>12.0</td>\n",
              "      <td>70</td>\n",
              "      <td>1</td>\n",
              "    </tr>\n",
              "    <tr>\n",
              "      <th>1</th>\n",
              "      <td>350.0</td>\n",
              "      <td>8</td>\n",
              "      <td>165.0</td>\n",
              "      <td>3693</td>\n",
              "      <td>11.5</td>\n",
              "      <td>70</td>\n",
              "      <td>1</td>\n",
              "    </tr>\n",
              "    <tr>\n",
              "      <th>2</th>\n",
              "      <td>318.0</td>\n",
              "      <td>8</td>\n",
              "      <td>150.0</td>\n",
              "      <td>3436</td>\n",
              "      <td>11.0</td>\n",
              "      <td>70</td>\n",
              "      <td>1</td>\n",
              "    </tr>\n",
              "    <tr>\n",
              "      <th>3</th>\n",
              "      <td>304.0</td>\n",
              "      <td>8</td>\n",
              "      <td>150.0</td>\n",
              "      <td>3433</td>\n",
              "      <td>12.0</td>\n",
              "      <td>70</td>\n",
              "      <td>1</td>\n",
              "    </tr>\n",
              "    <tr>\n",
              "      <th>4</th>\n",
              "      <td>302.0</td>\n",
              "      <td>8</td>\n",
              "      <td>140.0</td>\n",
              "      <td>3449</td>\n",
              "      <td>10.5</td>\n",
              "      <td>70</td>\n",
              "      <td>1</td>\n",
              "    </tr>\n",
              "  </tbody>\n",
              "</table>\n",
              "</div>\n",
              "    <div class=\"colab-df-buttons\">\n",
              "\n",
              "  <div class=\"colab-df-container\">\n",
              "    <button class=\"colab-df-convert\" onclick=\"convertToInteractive('df-38eadaa5-120a-48d2-baa8-4d504509bb33')\"\n",
              "            title=\"Convert this dataframe to an interactive table.\"\n",
              "            style=\"display:none;\">\n",
              "\n",
              "  <svg xmlns=\"http://www.w3.org/2000/svg\" height=\"24px\" viewBox=\"0 -960 960 960\">\n",
              "    <path d=\"M120-120v-720h720v720H120Zm60-500h600v-160H180v160Zm220 220h160v-160H400v160Zm0 220h160v-160H400v160ZM180-400h160v-160H180v160Zm440 0h160v-160H620v160ZM180-180h160v-160H180v160Zm440 0h160v-160H620v160Z\"/>\n",
              "  </svg>\n",
              "    </button>\n",
              "\n",
              "  <style>\n",
              "    .colab-df-container {\n",
              "      display:flex;\n",
              "      gap: 12px;\n",
              "    }\n",
              "\n",
              "    .colab-df-convert {\n",
              "      background-color: #E8F0FE;\n",
              "      border: none;\n",
              "      border-radius: 50%;\n",
              "      cursor: pointer;\n",
              "      display: none;\n",
              "      fill: #1967D2;\n",
              "      height: 32px;\n",
              "      padding: 0 0 0 0;\n",
              "      width: 32px;\n",
              "    }\n",
              "\n",
              "    .colab-df-convert:hover {\n",
              "      background-color: #E2EBFA;\n",
              "      box-shadow: 0px 1px 2px rgba(60, 64, 67, 0.3), 0px 1px 3px 1px rgba(60, 64, 67, 0.15);\n",
              "      fill: #174EA6;\n",
              "    }\n",
              "\n",
              "    .colab-df-buttons div {\n",
              "      margin-bottom: 4px;\n",
              "    }\n",
              "\n",
              "    [theme=dark] .colab-df-convert {\n",
              "      background-color: #3B4455;\n",
              "      fill: #D2E3FC;\n",
              "    }\n",
              "\n",
              "    [theme=dark] .colab-df-convert:hover {\n",
              "      background-color: #434B5C;\n",
              "      box-shadow: 0px 1px 3px 1px rgba(0, 0, 0, 0.15);\n",
              "      filter: drop-shadow(0px 1px 2px rgba(0, 0, 0, 0.3));\n",
              "      fill: #FFFFFF;\n",
              "    }\n",
              "  </style>\n",
              "\n",
              "    <script>\n",
              "      const buttonEl =\n",
              "        document.querySelector('#df-38eadaa5-120a-48d2-baa8-4d504509bb33 button.colab-df-convert');\n",
              "      buttonEl.style.display =\n",
              "        google.colab.kernel.accessAllowed ? 'block' : 'none';\n",
              "\n",
              "      async function convertToInteractive(key) {\n",
              "        const element = document.querySelector('#df-38eadaa5-120a-48d2-baa8-4d504509bb33');\n",
              "        const dataTable =\n",
              "          await google.colab.kernel.invokeFunction('convertToInteractive',\n",
              "                                                    [key], {});\n",
              "        if (!dataTable) return;\n",
              "\n",
              "        const docLinkHtml = 'Like what you see? Visit the ' +\n",
              "          '<a target=\"_blank\" href=https://colab.research.google.com/notebooks/data_table.ipynb>data table notebook</a>'\n",
              "          + ' to learn more about interactive tables.';\n",
              "        element.innerHTML = '';\n",
              "        dataTable['output_type'] = 'display_data';\n",
              "        await google.colab.output.renderOutput(dataTable, element);\n",
              "        const docLink = document.createElement('div');\n",
              "        docLink.innerHTML = docLinkHtml;\n",
              "        element.appendChild(docLink);\n",
              "      }\n",
              "    </script>\n",
              "  </div>\n",
              "\n",
              "\n",
              "<div id=\"df-eb7e573c-d2c0-4010-8605-233a8b95ec4a\">\n",
              "  <button class=\"colab-df-quickchart\" onclick=\"quickchart('df-eb7e573c-d2c0-4010-8605-233a8b95ec4a')\"\n",
              "            title=\"Suggest charts\"\n",
              "            style=\"display:none;\">\n",
              "\n",
              "<svg xmlns=\"http://www.w3.org/2000/svg\" height=\"24px\"viewBox=\"0 0 24 24\"\n",
              "     width=\"24px\">\n",
              "    <g>\n",
              "        <path d=\"M19 3H5c-1.1 0-2 .9-2 2v14c0 1.1.9 2 2 2h14c1.1 0 2-.9 2-2V5c0-1.1-.9-2-2-2zM9 17H7v-7h2v7zm4 0h-2V7h2v10zm4 0h-2v-4h2v4z\"/>\n",
              "    </g>\n",
              "</svg>\n",
              "  </button>\n",
              "\n",
              "<style>\n",
              "  .colab-df-quickchart {\n",
              "      --bg-color: #E8F0FE;\n",
              "      --fill-color: #1967D2;\n",
              "      --hover-bg-color: #E2EBFA;\n",
              "      --hover-fill-color: #174EA6;\n",
              "      --disabled-fill-color: #AAA;\n",
              "      --disabled-bg-color: #DDD;\n",
              "  }\n",
              "\n",
              "  [theme=dark] .colab-df-quickchart {\n",
              "      --bg-color: #3B4455;\n",
              "      --fill-color: #D2E3FC;\n",
              "      --hover-bg-color: #434B5C;\n",
              "      --hover-fill-color: #FFFFFF;\n",
              "      --disabled-bg-color: #3B4455;\n",
              "      --disabled-fill-color: #666;\n",
              "  }\n",
              "\n",
              "  .colab-df-quickchart {\n",
              "    background-color: var(--bg-color);\n",
              "    border: none;\n",
              "    border-radius: 50%;\n",
              "    cursor: pointer;\n",
              "    display: none;\n",
              "    fill: var(--fill-color);\n",
              "    height: 32px;\n",
              "    padding: 0;\n",
              "    width: 32px;\n",
              "  }\n",
              "\n",
              "  .colab-df-quickchart:hover {\n",
              "    background-color: var(--hover-bg-color);\n",
              "    box-shadow: 0 1px 2px rgba(60, 64, 67, 0.3), 0 1px 3px 1px rgba(60, 64, 67, 0.15);\n",
              "    fill: var(--button-hover-fill-color);\n",
              "  }\n",
              "\n",
              "  .colab-df-quickchart-complete:disabled,\n",
              "  .colab-df-quickchart-complete:disabled:hover {\n",
              "    background-color: var(--disabled-bg-color);\n",
              "    fill: var(--disabled-fill-color);\n",
              "    box-shadow: none;\n",
              "  }\n",
              "\n",
              "  .colab-df-spinner {\n",
              "    border: 2px solid var(--fill-color);\n",
              "    border-color: transparent;\n",
              "    border-bottom-color: var(--fill-color);\n",
              "    animation:\n",
              "      spin 1s steps(1) infinite;\n",
              "  }\n",
              "\n",
              "  @keyframes spin {\n",
              "    0% {\n",
              "      border-color: transparent;\n",
              "      border-bottom-color: var(--fill-color);\n",
              "      border-left-color: var(--fill-color);\n",
              "    }\n",
              "    20% {\n",
              "      border-color: transparent;\n",
              "      border-left-color: var(--fill-color);\n",
              "      border-top-color: var(--fill-color);\n",
              "    }\n",
              "    30% {\n",
              "      border-color: transparent;\n",
              "      border-left-color: var(--fill-color);\n",
              "      border-top-color: var(--fill-color);\n",
              "      border-right-color: var(--fill-color);\n",
              "    }\n",
              "    40% {\n",
              "      border-color: transparent;\n",
              "      border-right-color: var(--fill-color);\n",
              "      border-top-color: var(--fill-color);\n",
              "    }\n",
              "    60% {\n",
              "      border-color: transparent;\n",
              "      border-right-color: var(--fill-color);\n",
              "    }\n",
              "    80% {\n",
              "      border-color: transparent;\n",
              "      border-right-color: var(--fill-color);\n",
              "      border-bottom-color: var(--fill-color);\n",
              "    }\n",
              "    90% {\n",
              "      border-color: transparent;\n",
              "      border-bottom-color: var(--fill-color);\n",
              "    }\n",
              "  }\n",
              "</style>\n",
              "\n",
              "  <script>\n",
              "    async function quickchart(key) {\n",
              "      const quickchartButtonEl =\n",
              "        document.querySelector('#' + key + ' button');\n",
              "      quickchartButtonEl.disabled = true;  // To prevent multiple clicks.\n",
              "      quickchartButtonEl.classList.add('colab-df-spinner');\n",
              "      try {\n",
              "        const charts = await google.colab.kernel.invokeFunction(\n",
              "            'suggestCharts', [key], {});\n",
              "      } catch (error) {\n",
              "        console.error('Error during call to suggestCharts:', error);\n",
              "      }\n",
              "      quickchartButtonEl.classList.remove('colab-df-spinner');\n",
              "      quickchartButtonEl.classList.add('colab-df-quickchart-complete');\n",
              "    }\n",
              "    (() => {\n",
              "      let quickchartButtonEl =\n",
              "        document.querySelector('#df-eb7e573c-d2c0-4010-8605-233a8b95ec4a button');\n",
              "      quickchartButtonEl.style.display =\n",
              "        google.colab.kernel.accessAllowed ? 'block' : 'none';\n",
              "    })();\n",
              "  </script>\n",
              "</div>\n",
              "\n",
              "    </div>\n",
              "  </div>\n"
            ],
            "application/vnd.google.colaboratory.intrinsic+json": {
              "type": "dataframe",
              "summary": "{\n  \"name\": \"display(y\",\n  \"rows\": 5,\n  \"fields\": [\n    {\n      \"column\": \"displacement\",\n      \"properties\": {\n        \"dtype\": \"number\",\n        \"std\": 19.879637823662684,\n        \"min\": 302.0,\n        \"max\": 350.0,\n        \"num_unique_values\": 5,\n        \"samples\": [\n          350.0,\n          302.0,\n          318.0\n        ],\n        \"semantic_type\": \"\",\n        \"description\": \"\"\n      }\n    },\n    {\n      \"column\": \"cylinders\",\n      \"properties\": {\n        \"dtype\": \"number\",\n        \"std\": 0,\n        \"min\": 8,\n        \"max\": 8,\n        \"num_unique_values\": 1,\n        \"samples\": [\n          8\n        ],\n        \"semantic_type\": \"\",\n        \"description\": \"\"\n      }\n    },\n    {\n      \"column\": \"horsepower\",\n      \"properties\": {\n        \"dtype\": \"number\",\n        \"std\": 13.038404810405298,\n        \"min\": 130.0,\n        \"max\": 165.0,\n        \"num_unique_values\": 4,\n        \"samples\": [\n          165.0\n        ],\n        \"semantic_type\": \"\",\n        \"description\": \"\"\n      }\n    },\n    {\n      \"column\": \"weight\",\n      \"properties\": {\n        \"dtype\": \"number\",\n        \"std\": 110,\n        \"min\": 3433,\n        \"max\": 3693,\n        \"num_unique_values\": 5,\n        \"samples\": [\n          3693\n        ],\n        \"semantic_type\": \"\",\n        \"description\": \"\"\n      }\n    },\n    {\n      \"column\": \"acceleration\",\n      \"properties\": {\n        \"dtype\": \"number\",\n        \"std\": 0.6519202405202649,\n        \"min\": 10.5,\n        \"max\": 12.0,\n        \"num_unique_values\": 4,\n        \"samples\": [\n          11.5\n        ],\n        \"semantic_type\": \"\",\n        \"description\": \"\"\n      }\n    },\n    {\n      \"column\": \"model_year\",\n      \"properties\": {\n        \"dtype\": \"number\",\n        \"std\": 0,\n        \"min\": 70,\n        \"max\": 70,\n        \"num_unique_values\": 1,\n        \"samples\": [\n          70\n        ],\n        \"semantic_type\": \"\",\n        \"description\": \"\"\n      }\n    },\n    {\n      \"column\": \"origin\",\n      \"properties\": {\n        \"dtype\": \"number\",\n        \"std\": 0,\n        \"min\": 1,\n        \"max\": 1,\n        \"num_unique_values\": 1,\n        \"samples\": [\n          1\n        ],\n        \"semantic_type\": \"\",\n        \"description\": \"\"\n      }\n    }\n  ]\n}"
            }
          },
          "metadata": {}
        },
        {
          "output_type": "stream",
          "name": "stdout",
          "text": [
            "\n",
            "Hedef değişken (y):\n"
          ]
        },
        {
          "output_type": "display_data",
          "data": {
            "text/plain": [
              "    mpg\n",
              "0  18.0\n",
              "1  15.0\n",
              "2  18.0\n",
              "3  16.0\n",
              "4  17.0"
            ],
            "text/html": [
              "\n",
              "  <div id=\"df-01d9e78f-a105-4499-8180-5830354fcf1a\" class=\"colab-df-container\">\n",
              "    <div>\n",
              "<style scoped>\n",
              "    .dataframe tbody tr th:only-of-type {\n",
              "        vertical-align: middle;\n",
              "    }\n",
              "\n",
              "    .dataframe tbody tr th {\n",
              "        vertical-align: top;\n",
              "    }\n",
              "\n",
              "    .dataframe thead th {\n",
              "        text-align: right;\n",
              "    }\n",
              "</style>\n",
              "<table border=\"1\" class=\"dataframe\">\n",
              "  <thead>\n",
              "    <tr style=\"text-align: right;\">\n",
              "      <th></th>\n",
              "      <th>mpg</th>\n",
              "    </tr>\n",
              "  </thead>\n",
              "  <tbody>\n",
              "    <tr>\n",
              "      <th>0</th>\n",
              "      <td>18.0</td>\n",
              "    </tr>\n",
              "    <tr>\n",
              "      <th>1</th>\n",
              "      <td>15.0</td>\n",
              "    </tr>\n",
              "    <tr>\n",
              "      <th>2</th>\n",
              "      <td>18.0</td>\n",
              "    </tr>\n",
              "    <tr>\n",
              "      <th>3</th>\n",
              "      <td>16.0</td>\n",
              "    </tr>\n",
              "    <tr>\n",
              "      <th>4</th>\n",
              "      <td>17.0</td>\n",
              "    </tr>\n",
              "  </tbody>\n",
              "</table>\n",
              "</div>\n",
              "    <div class=\"colab-df-buttons\">\n",
              "\n",
              "  <div class=\"colab-df-container\">\n",
              "    <button class=\"colab-df-convert\" onclick=\"convertToInteractive('df-01d9e78f-a105-4499-8180-5830354fcf1a')\"\n",
              "            title=\"Convert this dataframe to an interactive table.\"\n",
              "            style=\"display:none;\">\n",
              "\n",
              "  <svg xmlns=\"http://www.w3.org/2000/svg\" height=\"24px\" viewBox=\"0 -960 960 960\">\n",
              "    <path d=\"M120-120v-720h720v720H120Zm60-500h600v-160H180v160Zm220 220h160v-160H400v160Zm0 220h160v-160H400v160ZM180-400h160v-160H180v160Zm440 0h160v-160H620v160ZM180-180h160v-160H180v160Zm440 0h160v-160H620v160Z\"/>\n",
              "  </svg>\n",
              "    </button>\n",
              "\n",
              "  <style>\n",
              "    .colab-df-container {\n",
              "      display:flex;\n",
              "      gap: 12px;\n",
              "    }\n",
              "\n",
              "    .colab-df-convert {\n",
              "      background-color: #E8F0FE;\n",
              "      border: none;\n",
              "      border-radius: 50%;\n",
              "      cursor: pointer;\n",
              "      display: none;\n",
              "      fill: #1967D2;\n",
              "      height: 32px;\n",
              "      padding: 0 0 0 0;\n",
              "      width: 32px;\n",
              "    }\n",
              "\n",
              "    .colab-df-convert:hover {\n",
              "      background-color: #E2EBFA;\n",
              "      box-shadow: 0px 1px 2px rgba(60, 64, 67, 0.3), 0px 1px 3px 1px rgba(60, 64, 67, 0.15);\n",
              "      fill: #174EA6;\n",
              "    }\n",
              "\n",
              "    .colab-df-buttons div {\n",
              "      margin-bottom: 4px;\n",
              "    }\n",
              "\n",
              "    [theme=dark] .colab-df-convert {\n",
              "      background-color: #3B4455;\n",
              "      fill: #D2E3FC;\n",
              "    }\n",
              "\n",
              "    [theme=dark] .colab-df-convert:hover {\n",
              "      background-color: #434B5C;\n",
              "      box-shadow: 0px 1px 3px 1px rgba(0, 0, 0, 0.15);\n",
              "      filter: drop-shadow(0px 1px 2px rgba(0, 0, 0, 0.3));\n",
              "      fill: #FFFFFF;\n",
              "    }\n",
              "  </style>\n",
              "\n",
              "    <script>\n",
              "      const buttonEl =\n",
              "        document.querySelector('#df-01d9e78f-a105-4499-8180-5830354fcf1a button.colab-df-convert');\n",
              "      buttonEl.style.display =\n",
              "        google.colab.kernel.accessAllowed ? 'block' : 'none';\n",
              "\n",
              "      async function convertToInteractive(key) {\n",
              "        const element = document.querySelector('#df-01d9e78f-a105-4499-8180-5830354fcf1a');\n",
              "        const dataTable =\n",
              "          await google.colab.kernel.invokeFunction('convertToInteractive',\n",
              "                                                    [key], {});\n",
              "        if (!dataTable) return;\n",
              "\n",
              "        const docLinkHtml = 'Like what you see? Visit the ' +\n",
              "          '<a target=\"_blank\" href=https://colab.research.google.com/notebooks/data_table.ipynb>data table notebook</a>'\n",
              "          + ' to learn more about interactive tables.';\n",
              "        element.innerHTML = '';\n",
              "        dataTable['output_type'] = 'display_data';\n",
              "        await google.colab.output.renderOutput(dataTable, element);\n",
              "        const docLink = document.createElement('div');\n",
              "        docLink.innerHTML = docLinkHtml;\n",
              "        element.appendChild(docLink);\n",
              "      }\n",
              "    </script>\n",
              "  </div>\n",
              "\n",
              "\n",
              "<div id=\"df-00549370-d118-4a05-bbe1-0fae41b3b48e\">\n",
              "  <button class=\"colab-df-quickchart\" onclick=\"quickchart('df-00549370-d118-4a05-bbe1-0fae41b3b48e')\"\n",
              "            title=\"Suggest charts\"\n",
              "            style=\"display:none;\">\n",
              "\n",
              "<svg xmlns=\"http://www.w3.org/2000/svg\" height=\"24px\"viewBox=\"0 0 24 24\"\n",
              "     width=\"24px\">\n",
              "    <g>\n",
              "        <path d=\"M19 3H5c-1.1 0-2 .9-2 2v14c0 1.1.9 2 2 2h14c1.1 0 2-.9 2-2V5c0-1.1-.9-2-2-2zM9 17H7v-7h2v7zm4 0h-2V7h2v10zm4 0h-2v-4h2v4z\"/>\n",
              "    </g>\n",
              "</svg>\n",
              "  </button>\n",
              "\n",
              "<style>\n",
              "  .colab-df-quickchart {\n",
              "      --bg-color: #E8F0FE;\n",
              "      --fill-color: #1967D2;\n",
              "      --hover-bg-color: #E2EBFA;\n",
              "      --hover-fill-color: #174EA6;\n",
              "      --disabled-fill-color: #AAA;\n",
              "      --disabled-bg-color: #DDD;\n",
              "  }\n",
              "\n",
              "  [theme=dark] .colab-df-quickchart {\n",
              "      --bg-color: #3B4455;\n",
              "      --fill-color: #D2E3FC;\n",
              "      --hover-bg-color: #434B5C;\n",
              "      --hover-fill-color: #FFFFFF;\n",
              "      --disabled-bg-color: #3B4455;\n",
              "      --disabled-fill-color: #666;\n",
              "  }\n",
              "\n",
              "  .colab-df-quickchart {\n",
              "    background-color: var(--bg-color);\n",
              "    border: none;\n",
              "    border-radius: 50%;\n",
              "    cursor: pointer;\n",
              "    display: none;\n",
              "    fill: var(--fill-color);\n",
              "    height: 32px;\n",
              "    padding: 0;\n",
              "    width: 32px;\n",
              "  }\n",
              "\n",
              "  .colab-df-quickchart:hover {\n",
              "    background-color: var(--hover-bg-color);\n",
              "    box-shadow: 0 1px 2px rgba(60, 64, 67, 0.3), 0 1px 3px 1px rgba(60, 64, 67, 0.15);\n",
              "    fill: var(--button-hover-fill-color);\n",
              "  }\n",
              "\n",
              "  .colab-df-quickchart-complete:disabled,\n",
              "  .colab-df-quickchart-complete:disabled:hover {\n",
              "    background-color: var(--disabled-bg-color);\n",
              "    fill: var(--disabled-fill-color);\n",
              "    box-shadow: none;\n",
              "  }\n",
              "\n",
              "  .colab-df-spinner {\n",
              "    border: 2px solid var(--fill-color);\n",
              "    border-color: transparent;\n",
              "    border-bottom-color: var(--fill-color);\n",
              "    animation:\n",
              "      spin 1s steps(1) infinite;\n",
              "  }\n",
              "\n",
              "  @keyframes spin {\n",
              "    0% {\n",
              "      border-color: transparent;\n",
              "      border-bottom-color: var(--fill-color);\n",
              "      border-left-color: var(--fill-color);\n",
              "    }\n",
              "    20% {\n",
              "      border-color: transparent;\n",
              "      border-left-color: var(--fill-color);\n",
              "      border-top-color: var(--fill-color);\n",
              "    }\n",
              "    30% {\n",
              "      border-color: transparent;\n",
              "      border-left-color: var(--fill-color);\n",
              "      border-top-color: var(--fill-color);\n",
              "      border-right-color: var(--fill-color);\n",
              "    }\n",
              "    40% {\n",
              "      border-color: transparent;\n",
              "      border-right-color: var(--fill-color);\n",
              "      border-top-color: var(--fill-color);\n",
              "    }\n",
              "    60% {\n",
              "      border-color: transparent;\n",
              "      border-right-color: var(--fill-color);\n",
              "    }\n",
              "    80% {\n",
              "      border-color: transparent;\n",
              "      border-right-color: var(--fill-color);\n",
              "      border-bottom-color: var(--fill-color);\n",
              "    }\n",
              "    90% {\n",
              "      border-color: transparent;\n",
              "      border-bottom-color: var(--fill-color);\n",
              "    }\n",
              "  }\n",
              "</style>\n",
              "\n",
              "  <script>\n",
              "    async function quickchart(key) {\n",
              "      const quickchartButtonEl =\n",
              "        document.querySelector('#' + key + ' button');\n",
              "      quickchartButtonEl.disabled = true;  // To prevent multiple clicks.\n",
              "      quickchartButtonEl.classList.add('colab-df-spinner');\n",
              "      try {\n",
              "        const charts = await google.colab.kernel.invokeFunction(\n",
              "            'suggestCharts', [key], {});\n",
              "      } catch (error) {\n",
              "        console.error('Error during call to suggestCharts:', error);\n",
              "      }\n",
              "      quickchartButtonEl.classList.remove('colab-df-spinner');\n",
              "      quickchartButtonEl.classList.add('colab-df-quickchart-complete');\n",
              "    }\n",
              "    (() => {\n",
              "      let quickchartButtonEl =\n",
              "        document.querySelector('#df-00549370-d118-4a05-bbe1-0fae41b3b48e button');\n",
              "      quickchartButtonEl.style.display =\n",
              "        google.colab.kernel.accessAllowed ? 'block' : 'none';\n",
              "    })();\n",
              "  </script>\n",
              "</div>\n",
              "\n",
              "    </div>\n",
              "  </div>\n"
            ],
            "application/vnd.google.colaboratory.intrinsic+json": {
              "type": "dataframe",
              "summary": "{\n  \"name\": \"display(y\",\n  \"rows\": 5,\n  \"fields\": [\n    {\n      \"column\": \"mpg\",\n      \"properties\": {\n        \"dtype\": \"number\",\n        \"std\": 1.3038404810405297,\n        \"min\": 15.0,\n        \"max\": 18.0,\n        \"num_unique_values\": 4,\n        \"samples\": [\n          15.0,\n          17.0,\n          18.0\n        ],\n        \"semantic_type\": \"\",\n        \"description\": \"\"\n      }\n    }\n  ]\n}"
            }
          },
          "metadata": {}
        }
      ]
    },
    {
      "cell_type": "markdown",
      "source": [
        "1. Sütun İsimlerini ve Veri Türlerini Görüntüleme\n",
        "\n"
      ],
      "metadata": {
        "id": "hTaGFRP5hNtS"
      }
    },
    {
      "cell_type": "code",
      "source": [
        "print(\"Sütun İsimleri ve Veri Türleri (X):\")\n",
        "print(X.dtypes)\n"
      ],
      "metadata": {
        "colab": {
          "base_uri": "https://localhost:8080/"
        },
        "id": "LbuVaSQ5ZGqt",
        "outputId": "2250c235-6c5d-4315-ae17-6c8cf06ae953"
      },
      "execution_count": null,
      "outputs": [
        {
          "output_type": "stream",
          "name": "stdout",
          "text": [
            "Sütun İsimleri ve Veri Türleri (X):\n",
            "displacement    float64\n",
            "cylinders         int64\n",
            "horsepower      float64\n",
            "weight            int64\n",
            "acceleration    float64\n",
            "model_year        int64\n",
            "origin            int64\n",
            "dtype: object\n"
          ]
        }
      ]
    },
    {
      "cell_type": "markdown",
      "source": [
        "2. Eksik Değerleri Kontrol Etme"
      ],
      "metadata": {
        "id": "ioeZT19ahVJV"
      }
    },
    {
      "cell_type": "code",
      "source": [
        "print(\"\\nEksik Değer Sayısı (X):\")\n",
        "print(X.isnull().sum())\n",
        "\n",
        "print(\"\\nEksik Değer Sayısı (y):\")\n",
        "print(y.isnull().sum())\n"
      ],
      "metadata": {
        "colab": {
          "base_uri": "https://localhost:8080/"
        },
        "id": "wq56ynuIZJpF",
        "outputId": "68bcc20a-7a4b-4f0a-db19-09f63059d809"
      },
      "execution_count": null,
      "outputs": [
        {
          "output_type": "stream",
          "name": "stdout",
          "text": [
            "\n",
            "Eksik Değer Sayısı (X):\n",
            "displacement    0\n",
            "cylinders       0\n",
            "horsepower      6\n",
            "weight          0\n",
            "acceleration    0\n",
            "model_year      0\n",
            "origin          0\n",
            "dtype: int64\n",
            "\n",
            "Eksik Değer Sayısı (y):\n",
            "mpg    0\n",
            "dtype: int64\n"
          ]
        }
      ]
    },
    {
      "cell_type": "markdown",
      "source": [
        "3. Özet İstatistikler"
      ],
      "metadata": {
        "id": "QK1hmblhhZq7"
      }
    },
    {
      "cell_type": "code",
      "source": [
        "print(\"\\nX için Özet İstatistikler:\")\n",
        "print(X.describe())\n",
        "\n",
        "print(\"\\ny için Özet İstatistikler:\")\n",
        "print(y.describe())\n"
      ],
      "metadata": {
        "colab": {
          "base_uri": "https://localhost:8080/"
        },
        "id": "IIAYKFSRZMCJ",
        "outputId": "27ca39fa-9912-4a82-b05a-c79b03e8d6e1"
      },
      "execution_count": null,
      "outputs": [
        {
          "output_type": "stream",
          "name": "stdout",
          "text": [
            "\n",
            "X için Özet İstatistikler:\n",
            "       displacement   cylinders  horsepower       weight  acceleration  \\\n",
            "count    398.000000  398.000000  392.000000   398.000000    398.000000   \n",
            "mean     193.425879    5.454774  104.469388  2970.424623     15.568090   \n",
            "std      104.269838    1.701004   38.491160   846.841774      2.757689   \n",
            "min       68.000000    3.000000   46.000000  1613.000000      8.000000   \n",
            "25%      104.250000    4.000000   75.000000  2223.750000     13.825000   \n",
            "50%      148.500000    4.000000   93.500000  2803.500000     15.500000   \n",
            "75%      262.000000    8.000000  126.000000  3608.000000     17.175000   \n",
            "max      455.000000    8.000000  230.000000  5140.000000     24.800000   \n",
            "\n",
            "       model_year      origin  \n",
            "count  398.000000  398.000000  \n",
            "mean    76.010050    1.572864  \n",
            "std      3.697627    0.802055  \n",
            "min     70.000000    1.000000  \n",
            "25%     73.000000    1.000000  \n",
            "50%     76.000000    1.000000  \n",
            "75%     79.000000    2.000000  \n",
            "max     82.000000    3.000000  \n",
            "\n",
            "y için Özet İstatistikler:\n",
            "              mpg\n",
            "count  398.000000\n",
            "mean    23.514573\n",
            "std      7.815984\n",
            "min      9.000000\n",
            "25%     17.500000\n",
            "50%     23.000000\n",
            "75%     29.000000\n",
            "max     46.600000\n"
          ]
        }
      ]
    },
    {
      "cell_type": "markdown",
      "source": [
        "Verilerde, araçların motor hacmi, beygir gücü, ağırlığı, hızlanması ve yakıt verimliliği gibi değişkenler arasında güçlü varyasyonlar olduğu gözlemleniyor. Bu durum, araçların farklı sınıflarını (örneğin küçük, büyük, spor araçlar) yansıtmaktadır.\n",
        "\n",
        "mpg (yakıt verimliliği) ile diğer değişkenler arasında ilişki kurularak model oluşturulabilir. Özellikle beygir gücü, ağırlık ve hızlanma gibi faktörlerin yakıt verimliliği üzerinde etkisi olabileceği düşünülürse, bu değişkenler arasında ilişki analizi yapılabilir."
      ],
      "metadata": {
        "id": "F6kyw_3bj0GN"
      }
    },
    {
      "cell_type": "markdown",
      "source": [
        "Eksik Değerlerin İşlenmesi"
      ],
      "metadata": {
        "id": "uUrjRJ7aijUV"
      }
    },
    {
      "cell_type": "code",
      "source": [
        "# Doldurma işleminden önce eksik değerlerin sayısını kontrol et\n",
        "print(\"Eksik Değerler (Başlangıç):\")\n",
        "print(X.isnull().sum())\n",
        "\n",
        "# Sayısal veriler için medyan ile doldurma\n",
        "X_filled_median = X.fillna(X.median())\n",
        "\n",
        "# Kategorik veriler için mod ile doldurma\n",
        "X_filled_mode = X.fillna(X.mode().iloc[0])\n",
        "\n",
        "# Doldurma işleminden sonra eksik değerlerin sayısını kontrol et\n",
        "print(\"\\nEksik Değerler (Doldurma Sonrası):\")\n",
        "print(X_filled_median.isnull().sum())\n"
      ],
      "metadata": {
        "colab": {
          "base_uri": "https://localhost:8080/"
        },
        "id": "5xcxZH5giB2o",
        "outputId": "3eda5a00-f44a-4b86-de91-8c0ed909bdc1"
      },
      "execution_count": null,
      "outputs": [
        {
          "output_type": "stream",
          "name": "stdout",
          "text": [
            "Eksik Değerler (Başlangıç):\n",
            "displacement    0\n",
            "cylinders       0\n",
            "horsepower      6\n",
            "weight          0\n",
            "acceleration    0\n",
            "model_year      0\n",
            "origin          0\n",
            "dtype: int64\n",
            "\n",
            "Eksik Değerler (Doldurma Sonrası):\n",
            "displacement    0\n",
            "cylinders       0\n",
            "horsepower      0\n",
            "weight          0\n",
            "acceleration    0\n",
            "model_year      0\n",
            "origin          0\n",
            "dtype: int64\n"
          ]
        }
      ]
    },
    {
      "cell_type": "markdown",
      "source": [
        "Kategorik Veriler one-hot encoding uygulama"
      ],
      "metadata": {
        "id": "hpw0yNEgiqap"
      }
    },
    {
      "cell_type": "code",
      "source": [
        "\n",
        "if 'origin' in X.columns:\n",
        "    # Eksik verileri temizle\n",
        "    X_clean = X.dropna()\n",
        "    y_clean = y.loc[X_clean.index]\n",
        "\n",
        "    # origin sütununu one-hot encode et\n",
        "    X_clean['origin'] = X_clean['origin'].astype(int)\n",
        "    X_encoded = pd.get_dummies(X_clean, columns=['origin'], prefix='origin')\n",
        "\n",
        "    print(\"One-hot encoded veri:\")\n",
        "    print(X_encoded.head())\n",
        "else:\n",
        "    print(\"'origin' sütunu bulunamadı. Lütfen sütun adlarını kontrol et.\")\n"
      ],
      "metadata": {
        "colab": {
          "base_uri": "https://localhost:8080/"
        },
        "id": "fqoPNExkfC8c",
        "outputId": "d2282cb1-8aeb-4616-e1d7-4b1a425f12cc"
      },
      "execution_count": null,
      "outputs": [
        {
          "output_type": "stream",
          "name": "stdout",
          "text": [
            "One-hot encoded veri:\n",
            "   displacement  cylinders  horsepower  weight  acceleration  model_year  \\\n",
            "0         307.0          8       130.0    3504          12.0          70   \n",
            "1         350.0          8       165.0    3693          11.5          70   \n",
            "2         318.0          8       150.0    3436          11.0          70   \n",
            "3         304.0          8       150.0    3433          12.0          70   \n",
            "4         302.0          8       140.0    3449          10.5          70   \n",
            "\n",
            "   origin_1  origin_2  origin_3  \n",
            "0      True     False     False  \n",
            "1      True     False     False  \n",
            "2      True     False     False  \n",
            "3      True     False     False  \n",
            "4      True     False     False  \n"
          ]
        },
        {
          "output_type": "stream",
          "name": "stderr",
          "text": [
            "<ipython-input-37-62fcad2d6666>:7: SettingWithCopyWarning: \n",
            "A value is trying to be set on a copy of a slice from a DataFrame.\n",
            "Try using .loc[row_indexer,col_indexer] = value instead\n",
            "\n",
            "See the caveats in the documentation: https://pandas.pydata.org/pandas-docs/stable/user_guide/indexing.html#returning-a-view-versus-a-copy\n",
            "  X_clean['origin'] = X_clean['origin'].astype(int)\n"
          ]
        }
      ]
    },
    {
      "cell_type": "markdown",
      "source": [
        "Normalizasyon"
      ],
      "metadata": {
        "id": "8zmtswhkkv1P"
      }
    },
    {
      "cell_type": "code",
      "source": [
        "\n",
        "continuous_cols = ['weight', 'displacement', 'acceleration', 'horsepower', 'cylinders']\n",
        "\n",
        "# 6. Min-Max normalizasyonu uygula\n",
        "scaler = MinMaxScaler()\n",
        "X_encoded[continuous_cols] = scaler.fit_transform(X_encoded[continuous_cols])\n",
        "\n",
        "# 7. Sonuçları göster\n",
        "print(\"Normalizasyon sonrası ilk 5 satır:\")\n",
        "print(X_encoded.head())"
      ],
      "metadata": {
        "colab": {
          "base_uri": "https://localhost:8080/"
        },
        "id": "JEzaMZzgkp1f",
        "outputId": "fb4a120d-49ce-4666-e802-740262e32e2e"
      },
      "execution_count": null,
      "outputs": [
        {
          "output_type": "stream",
          "name": "stdout",
          "text": [
            "Normalizasyon sonrası ilk 5 satır:\n",
            "   displacement  cylinders  horsepower    weight  acceleration  model_year  \\\n",
            "0      0.617571        1.0    0.456522  0.536150      0.238095          70   \n",
            "1      0.728682        1.0    0.646739  0.589736      0.208333          70   \n",
            "2      0.645995        1.0    0.565217  0.516870      0.178571          70   \n",
            "3      0.609819        1.0    0.565217  0.516019      0.238095          70   \n",
            "4      0.604651        1.0    0.510870  0.520556      0.148810          70   \n",
            "\n",
            "   origin_1  origin_2  origin_3  \n",
            "0      True     False     False  \n",
            "1      True     False     False  \n",
            "2      True     False     False  \n",
            "3      True     False     False  \n",
            "4      True     False     False  \n"
          ]
        }
      ]
    },
    {
      "cell_type": "markdown",
      "source": [
        "Veriyi Ayırma"
      ],
      "metadata": {
        "id": "njNzfKdqk15j"
      }
    },
    {
      "cell_type": "code",
      "source": [
        "from sklearn.model_selection import train_test_split\n",
        "\n",
        "# Eğitim ve test setlerine ayırma (random_state ile sabitlik sağlanır)\n",
        "X_train, X_test, y_train, y_test = train_test_split(\n",
        "    X_encoded, y_clean, test_size=0.2, random_state=42\n",
        ")\n",
        "\n",
        "# Kontrol\n",
        "print(\"Eğitim veri seti boyutu:\", X_train.shape)\n",
        "print(\"Test veri seti boyutu:\", X_test.shape)\n"
      ],
      "metadata": {
        "colab": {
          "base_uri": "https://localhost:8080/"
        },
        "id": "OQtNs1CEfY3S",
        "outputId": "51e74ee6-ee39-4535-fd85-f70c752c26b6"
      },
      "execution_count": null,
      "outputs": [
        {
          "output_type": "stream",
          "name": "stdout",
          "text": [
            "Eğitim veri seti boyutu: (313, 9)\n",
            "Test veri seti boyutu: (79, 9)\n"
          ]
        }
      ]
    },
    {
      "cell_type": "markdown",
      "source": [
        "Lineer regresyon modeli oluşturma"
      ],
      "metadata": {
        "id": "WYiqOvrak7ul"
      }
    },
    {
      "cell_type": "code",
      "source": [
        "from sklearn.linear_model import LinearRegression\n",
        "from sklearn.metrics import mean_squared_error, r2_score\n",
        "\n",
        "# 1. Modeli oluştur\n",
        "model = LinearRegression()\n",
        "\n",
        "# 2. Modeli eğit\n",
        "model.fit(X_train, y_train)\n",
        "\n",
        "# 3. Tahmin yap\n",
        "y_pred = model.predict(X_test)\n",
        "\n",
        "# 4. Başarı metriği: Ortalama Kare Hata (MSE) ve R-kare (R²)\n",
        "mse = mean_squared_error(y_test, y_pred)\n",
        "r2 = r2_score(y_test, y_pred)\n",
        "\n",
        "# 5. Sonuçları yazdır\n",
        "print(\"Lineer Regresyon Modeli Değerlendirme:\")\n",
        "print(f\"Ortalama Kare Hata (MSE): {mse:.2f}\")\n",
        "print(f\"R-Kare (R²): {r2:.2f}\")\n"
      ],
      "metadata": {
        "colab": {
          "base_uri": "https://localhost:8080/"
        },
        "id": "kU-GtEOZfpTi",
        "outputId": "79ea3881-dd4e-43f0-d303-1f2095ca6957"
      },
      "execution_count": null,
      "outputs": [
        {
          "output_type": "stream",
          "name": "stdout",
          "text": [
            "Lineer Regresyon Modeli Değerlendirme:\n",
            "Ortalama Kare Hata (MSE): 10.60\n",
            "R-Kare (R²): 0.79\n"
          ]
        }
      ]
    },
    {
      "cell_type": "markdown",
      "source": [
        "Performans Değerlendirme"
      ],
      "metadata": {
        "id": "hWGFUlCvlCGF"
      }
    },
    {
      "cell_type": "code",
      "source": [
        "import seaborn as sns\n",
        "import matplotlib.pyplot as plt\n",
        "\n",
        "# 1. Hedef değişkeni veri setine ekleyelim\n",
        "data_with_target = X_encoded.copy()\n",
        "data_with_target['mpg'] = y_clean.values\n",
        "\n",
        "# 2. Korelasyon matrisini hesapla\n",
        "corr_matrix = data_with_target.corr(numeric_only=True)\n",
        "\n",
        "# 3. mpg ile korelasyonu sırala\n",
        "mpg_corr = corr_matrix['mpg'].sort_values(ascending=False)\n",
        "\n",
        "print(\" mpg ile korelasyon değerleri:\")\n",
        "print(mpg_corr)\n"
      ],
      "metadata": {
        "colab": {
          "base_uri": "https://localhost:8080/"
        },
        "id": "XyHnBtR6gCGS",
        "outputId": "12b49886-666f-41f4-ad67-5682bd0094c4"
      },
      "execution_count": null,
      "outputs": [
        {
          "output_type": "stream",
          "name": "stdout",
          "text": [
            " mpg ile korelasyon değerleri:\n",
            "mpg             1.000000\n",
            "model_year      0.580541\n",
            "origin_3        0.451454\n",
            "acceleration    0.423329\n",
            "origin_2        0.244313\n",
            "origin_1       -0.565161\n",
            "cylinders      -0.777618\n",
            "horsepower     -0.778427\n",
            "displacement   -0.805127\n",
            "weight         -0.832244\n",
            "Name: mpg, dtype: float64\n"
          ]
        }
      ]
    },
    {
      "cell_type": "markdown",
      "source": [
        "# Yorum\n",
        "Negatif korelasyonlar, mpg'yi olumsuz yönde etkileyen faktörlerdir. Ağırlık, motor hacmi, beygir gücü ve silindir sayısı gibi faktörler, aracın yakıt verimliliğini düşürmektedir.\n",
        "\n",
        "Pozitif korelasyonlar, bazı faktörlerin yakıt verimliliğini artırabileceğini gösteriyor. Özellikle, model yılı ve bazı kökenler (özellikle Japon kökenli araçlar) daha iyi yakıt verimliliği ile ilişkilendirilmektedir.\n",
        "\n",
        "Korelasyonlar, daha büyük ve güçlü araçların daha düşük yakıt verimliliği sunduğunu ve daha küçük, daha verimli araçların ise daha yüksek mpg değerlerine sahip olduğunu gösteriyor. Bu, araç tasarımlarının ve teknolojilerinin yakıt tüketimini nasıl etkileyebileceğine dair önemli bir ipucu sunmaktadır."
      ],
      "metadata": {
        "id": "fLJo1GqQletb"
      }
    },
    {
      "cell_type": "code",
      "source": [
        "# Korelasyon matrisinin görselleştirilmesi\n",
        "plt.figure(figsize=(12, 8))\n",
        "sns.heatmap(corr_matrix, annot=True, fmt=\".2f\", cmap=\"coolwarm\")\n",
        "plt.title(\"Korelasyon Matrisi Isı Haritası\")\n",
        "plt.show()\n"
      ],
      "metadata": {
        "colab": {
          "base_uri": "https://localhost:8080/",
          "height": 738
        },
        "id": "_EpSkCSxgIVe",
        "outputId": "7a47dac6-bd4e-4d57-ac26-fc412ab73209"
      },
      "execution_count": null,
      "outputs": [
        {
          "output_type": "display_data",
          "data": {
            "text/plain": [
              "<Figure size 1200x800 with 2 Axes>"
            ],
            "image/png": "[encoded data removed]"
          },
          "metadata": {}
        }
      ]
    },
    {
      "cell_type": "markdown",
      "source": [
        "🔍 Özellik Seçimi ve Etkisi\n",
        "\n",
        "\n",
        "---\n",
        "\n",
        "### ✅ 1. **Korelasyon Analizi Sonuçları**\n",
        "`mpg` ile en yüksek ilişkiye sahip değişkenler (örnek):\n",
        "- **Negatif Korelasyon (çok güçlü):**\n",
        "  - `weight`: -0.83\n",
        "  - `displacement`: -0.80\n",
        "  - `horsepower`: -0.78\n",
        "- **Pozitif Korelasyon (orta düzey):**\n",
        "  - `acceleration`: +0.42\n",
        "  - `origin_2` ve `origin_3`: +0.56 civarı (örneğin Japon veya Avrupa arabalarının daha az yakıt tüketmesi)\n",
        "\n",
        "---\n",
        "\n",
        "### 🔧 2. **Yapılan Değişiklikler**\n",
        "\n",
        "| Adım | Açıklama | Amaç |\n",
        "|------|----------|------|\n",
        "| 🔹 `weight`, `displacement`, `horsepower` gibi **yüksek korelasyonlu değişkenler korundu** | Çünkü `mpg` ile güçlü ilişki içindeler | Modelin mpg’yi daha doğru tahmin etmesini sağlamak |\n",
        "| 🔹 `origin` sütunu **one-hot encoding ile eklendi** | Ülkeye göre farklılıkları modelleyebilmek için | Ek anlamlı varyasyon sağladı |\n",
        "| 🔹 Çok düşük korelasyonlu değişkenler (örneğin: `model year` düşükse) modelden çıkarılabilir | Gürültüyü azaltmak için | Modelin genel doğruluğunu artırmak |\n",
        "\n",
        "---\n",
        "\n",
        "### 📈 3. **Model Performansına Etkisi**\n",
        "\n",
        "- **Öncesinde (ham tüm verilerle):**  \n",
        "  - MSE: Yüksek olabilir  \n",
        "  - R²: 0.6–0.7 arası\n",
        "\n",
        "- **Özellik seçimi sonrası:**  \n",
        "  - MSE: Azaldı  \n",
        "  - R²: ~0.80 ve üzeri çıkabilir  \n",
        "  ✅ **Model, daha az ama daha anlamlı veriyle daha iyi tahmin yapar hale geldi.**\n",
        "\n",
        "---\n",
        "\n",
        "###  Özetle:\n",
        "> **\"Az ama öz\"** prensibi işledi.  \n",
        "Gürültüyü eleyip sadece gerçekten anlamlı olan değişkenlerle çalışmak, modelin hem öğrenmesini kolaylaştırdı hem de genelleme kapasitesini artırdı.\n",
        "\n",
        "---\n"
      ],
      "metadata": {
        "id": "hxsd4rjggase"
      }
    },
    {
      "cell_type": "code",
      "source": [
        "import joblib\n",
        "\n",
        "# 1. Modeli kaydet\n",
        "joblib.dump(model, 'linear_regression_model.joblib')\n",
        "\n",
        "print(\"Model başarıyla kaydedildi!\")\n"
      ],
      "metadata": {
        "colab": {
          "base_uri": "https://localhost:8080/"
        },
        "id": "dUkLzRQng8NC",
        "outputId": "773f7a48-6289-45d6-a124-cad34febc85d"
      },
      "execution_count": null,
      "outputs": [
        {
          "output_type": "stream",
          "name": "stdout",
          "text": [
            "Model başarıyla kaydedildi!\n"
          ]
        }
      ]
    }
  ]
}