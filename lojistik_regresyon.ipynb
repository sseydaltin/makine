{
  "nbformat": 4,
  "nbformat_minor": 0,
  "metadata": {
    "colab": {
      "provenance": [],
      "authorship_tag": "ABX9TyOotO7uFND1alYbzk/TEDfi",
      "include_colab_link": true
    },
    "kernelspec": {
      "name": "python3",
      "display_name": "Python 3"
    },
    "language_info": {
      "name": "python"
    }
  },
  "cells": [
    {
      "cell_type": "markdown",
      "metadata": {
        "id": "view-in-github",
        "colab_type": "text"
      },
      "source": [
        "<a href=\"https://colab.research.google.com/github/sseydaltin/makine/blob/main/lojistik_regresyon.ipynb\" target=\"_parent\"><img src=\"https://colab.research.google.com/assets/colab-badge.svg\" alt=\"Open In Colab\"/></a>"
      ]
    },
    {
      "cell_type": "markdown",
      "source": [
        "# Lojistik Regresyon: Üniversite Kabul Tahmini\n",
        "\n",
        "Veri Seti Hikayesi ve Amacı\n",
        "Veri Seti Adı: Admission Predict\n",
        "\n",
        "Bu veri seti, üniversiteye kabul başvurularını analiz etmek için kullanılır ve bir öğrencinin üniversiteye kabul edilme olasılığı ile ilgili çeşitli faktörleri içerir. Veride yer alan özellikler, öğrencinin akademik başarıları, test puanları ve kişisel bilgileri gibi faktörlerden oluşur. Amaç, öğrencinin kabul edilip edilmeyeceğini tahmin etmek ve buna etki eden ana faktörleri anlamaktır."
      ],
      "metadata": {
        "id": "nfhqbSvrW2Np"
      }
    },
    {
      "cell_type": "markdown",
      "source": [
        "### **1️⃣ Veri Setini Anlama ve Ön İşleme**  "
      ],
      "metadata": {
        "id": "UnM_H509YgMA"
      }
    },
    {
      "cell_type": "code",
      "source": [
        "import pandas as pd\n",
        "\n",
        "# Veri setini yükleyin\n",
        "df = pd.read_csv(\"/content/Admission_Predict.csv\")\n",
        "print(df.columns)\n"
      ],
      "metadata": {
        "colab": {
          "base_uri": "https://localhost:8080/"
        },
        "id": "qSFwpsVMWeXX",
        "outputId": "0a694eae-25be-40d5-d47d-039942b3ce7a"
      },
      "execution_count": 3,
      "outputs": [
        {
          "output_type": "stream",
          "name": "stdout",
          "text": [
            "Index(['Serial No.', 'GRE Score', 'TOEFL Score', 'University Rating', 'SOP',\n",
            "       'LOR ', 'CGPA', 'Research', 'Chance of Admit '],\n",
            "      dtype='object')\n"
          ]
        }
      ]
    },
    {
      "cell_type": "markdown",
      "source": [
        "**SÜTUNLARI TANIYALIM**"
      ],
      "metadata": {
        "id": "7HQ0IIfbXNSk"
      }
    },
    {
      "cell_type": "markdown",
      "source": [
        "| Sütun Adı             | Açıklama                                                                                                      |\n",
        "| --------------------- | ------------------------------------------------------------------------------------------------------------- |\n",
        "| **Serial No.**        | Öğrenciye atanmış sıra numarası (modelleme için gereksizdir, genellikle çıkarılır).                           |\n",
        "| **GRE Score**         | Öğrencinin GRE sınavından aldığı puan (0-340 arası).                                                          |\n",
        "| **TOEFL Score**       | TOEFL sınavından alınan puan (0-120 arası).                                                                   |\n",
        "| **University Rating** | Başvurulan üniversitenin sıralaması (1 ila 5 arasında).                                                       |\n",
        "| **SOP**               | Statement of Purpose (niyet mektubu) puanı (1 ila 5 arasında öğrenci tarafından verilen).                     |\n",
        "| **LOR**               | Letter of Recommendation (referans mektubu) puanı (1 ila 5 arasında).                                         |\n",
        "| **CGPA**              | Lisans not ortalaması (10 üzerinden).                                                                         |\n",
        "| **Research**          | Öğrencinin araştırma deneyimi olup olmadığı (1 = Evet, 0 = Hayır).                                            |\n",
        "| **Chance of Admit**   | Üniversiteye kabul edilme ihtimali (0.0 ile 1.0 arasında sürekli bir değer). Bu, bağımlı (hedef) değişkendir. |\n"
      ],
      "metadata": {
        "id": "Xdm43KJOWoaK"
      }
    },
    {
      "cell_type": "code",
      "execution_count": 5,
      "metadata": {
        "colab": {
          "base_uri": "https://localhost:8080/"
        },
        "id": "tkYJei2eVMsp",
        "outputId": "2cfa9f4d-3e78-45c4-d057-b527bc2fd7d2"
      },
      "outputs": [
        {
          "output_type": "stream",
          "name": "stdout",
          "text": [
            "   Serial No.  GRE Score  TOEFL Score  University Rating  SOP  LOR   CGPA  \\\n",
            "0           1        337          118                  4  4.5   4.5  9.65   \n",
            "1           2        324          107                  4  4.0   4.5  8.87   \n",
            "2           3        316          104                  3  3.0   3.5  8.00   \n",
            "3           4        322          110                  3  3.5   2.5  8.67   \n",
            "4           5        314          103                  2  2.0   3.0  8.21   \n",
            "\n",
            "   Research  Chance of Admit   \n",
            "0         1              0.92  \n",
            "1         1              0.76  \n",
            "2         1              0.72  \n",
            "3         1              0.80  \n",
            "4         0              0.65  \n"
          ]
        }
      ],
      "source": [
        "# İlk 5 satırı görüntüleyin\n",
        "print(df.head())\n"
      ]
    },
    {
      "cell_type": "markdown",
      "source": [
        "**Eksik Değer Kontrolü**"
      ],
      "metadata": {
        "id": "tnU8PrO3XcJC"
      }
    },
    {
      "cell_type": "code",
      "source": [
        "# Eksik değer sayısını göster\n",
        "print(df.isnull().sum())\n"
      ],
      "metadata": {
        "colab": {
          "base_uri": "https://localhost:8080/"
        },
        "id": "idTTdpJBXfxM",
        "outputId": "2d0b9d8c-6a0f-4240-e7f4-11d866ad4b21"
      },
      "execution_count": 6,
      "outputs": [
        {
          "output_type": "stream",
          "name": "stdout",
          "text": [
            "Serial No.           0\n",
            "GRE Score            0\n",
            "TOEFL Score          0\n",
            "University Rating    0\n",
            "SOP                  0\n",
            "LOR                  0\n",
            "CGPA                 0\n",
            "Research             0\n",
            "Chance of Admit      0\n",
            "dtype: int64\n"
          ]
        }
      ]
    },
    {
      "cell_type": "markdown",
      "source": [
        "**İkili Sınıflandırmaya Dönüştürme**"
      ],
      "metadata": {
        "id": "R28VVfa0Xw0j"
      }
    },
    {
      "cell_type": "code",
      "source": [
        "# Yeni bir sütun oluştur: Admitted\n",
        "df['Admitted'] = (df['Chance of Admit '] >= 0.75).astype(int)\n",
        "\n",
        "# Sonuçları kontrol et\n",
        "print(df[['Chance of Admit ', 'Admitted']].head())\n"
      ],
      "metadata": {
        "colab": {
          "base_uri": "https://localhost:8080/"
        },
        "id": "SCwWqVH6X0W8",
        "outputId": "b01a02cb-d10a-4423-a39d-37d2deafa215"
      },
      "execution_count": 7,
      "outputs": [
        {
          "output_type": "stream",
          "name": "stdout",
          "text": [
            "   Chance of Admit   Admitted\n",
            "0              0.92         1\n",
            "1              0.76         1\n",
            "2              0.72         0\n",
            "3              0.80         1\n",
            "4              0.65         0\n"
          ]
        }
      ]
    },
    {
      "cell_type": "markdown",
      "source": [
        " **Bağımsız Değişkenler**\n",
        "\n",
        "Kullanabileceğimiz sütunlar şunlardır:\n",
        "\n",
        "GRE Score\n",
        "\n",
        "TOEFL Score\n",
        "\n",
        "University Rating\n",
        "\n",
        "SOP\n",
        "\n",
        "LOR\n",
        "\n",
        "CGPA\n",
        "\n",
        "Research\n",
        "\n",
        "Serial No. anlamsız bir sıra numarasıdır, modele dahil edilmez.\n",
        "Chance of Admit hedefin dönüşümünde kullanıldı, artık hedef sütun Admitted."
      ],
      "metadata": {
        "id": "Upbd0gvmYDlw"
      }
    },
    {
      "cell_type": "code",
      "source": [
        "# Bağımsız değişkenler\n",
        "X = df[['GRE Score', 'TOEFL Score', 'University Rating', 'SOP', 'LOR ', 'CGPA', 'Research']]\n",
        "\n",
        "# Bağımlı değişken\n",
        "y = df['Admitted']\n"
      ],
      "metadata": {
        "id": "LTUMA7Y2YU-5"
      },
      "execution_count": 8,
      "outputs": []
    },
    {
      "cell_type": "markdown",
      "source": [
        "### **2️⃣ Veriyi Eğitim ve Test Setlerine Bölme**  "
      ],
      "metadata": {
        "id": "CpLRMEbMYiNH"
      }
    },
    {
      "cell_type": "markdown",
      "source": [
        "**Eğitim/Test Verisine Ayırma**"
      ],
      "metadata": {
        "id": "zj6dR6kdYpTM"
      }
    },
    {
      "cell_type": "code",
      "source": [
        "from sklearn.model_selection import train_test_split\n",
        "\n",
        "# Veriyi %80 eğitim, %20 test olarak ayır\n",
        "X_train, X_test, y_train, y_test = train_test_split(X, y, test_size=0.2, random_state=42)\n",
        "\n",
        "# Boyutları kontrol et\n",
        "print(\"Eğitim veri seti boyutu:\", X_train.shape)\n",
        "print(\"Test veri seti boyutu:\", X_test.shape)\n"
      ],
      "metadata": {
        "colab": {
          "base_uri": "https://localhost:8080/"
        },
        "id": "GhJop9o6Ypol",
        "outputId": "0dfeea99-865d-49fc-cfc8-1fa2ec372498"
      },
      "execution_count": 9,
      "outputs": [
        {
          "output_type": "stream",
          "name": "stdout",
          "text": [
            "Eğitim veri seti boyutu: (320, 7)\n",
            "Test veri seti boyutu: (80, 7)\n"
          ]
        }
      ]
    },
    {
      "cell_type": "markdown",
      "source": [
        "**📝 Açıklamalar:**\n",
        "\n",
        "test_size=0.2 → test verisi %20 olacak demektir.\n",
        "\n",
        "random_state=42 → sonuçların tekrar üretilebilir olmasını sağlar (sabit rasgelelik).\n",
        "\n",
        "X_train, y_train → eğitim verisi\n",
        "\n",
        "X_test, y_test → test verisi\n",
        "\n",
        "Artık lojistik regresyon aşamasına geçmeye hazırız."
      ],
      "metadata": {
        "id": "lMdhbpwFY3Sk"
      }
    },
    {
      "cell_type": "markdown",
      "source": [
        "**StandardScaler ile Veri Ölçeklendirme**"
      ],
      "metadata": {
        "id": "2VkYdMMwZA6n"
      }
    },
    {
      "cell_type": "code",
      "source": [
        "from sklearn.preprocessing import StandardScaler\n",
        "\n",
        "# Ölçekleyici nesnesini oluştur\n",
        "scaler = StandardScaler()\n",
        "\n",
        "# Sadece X (bağımsız değişkenler) ölçeklenir\n",
        "X_train_scaled = scaler.fit_transform(X_train)\n",
        "X_test_scaled = scaler.transform(X_test)\n"
      ],
      "metadata": {
        "id": "LjcGjOM6ZG75"
      },
      "execution_count": 10,
      "outputs": []
    },
    {
      "cell_type": "markdown",
      "source": [
        "**📝 Açıklamalar:**\n",
        "\n",
        "*fit_transform:* Eğitim verisi üzerinde hem fit (istatistikleri öğrenir) hem transform (dönüştürür) işlemi yapılır.\n",
        "\n",
        "*transform:* Test verisine yalnızca eğitimden öğrenilen bilgiler uygulanır.\n",
        "\n",
        "Bu işlem modelin aşırı öğrenmesini *(data leakage)* engeller."
      ],
      "metadata": {
        "id": "hGA17aDxZNDp"
      }
    },
    {
      "cell_type": "markdown",
      "source": [
        "### **3️⃣ Lojistik Regresyon Modelini Eğitme**"
      ],
      "metadata": {
        "id": "jQ3u4k_-ZXP0"
      }
    },
    {
      "cell_type": "code",
      "source": [
        "from sklearn.linear_model import LogisticRegression\n",
        "\n",
        "# Model nesnesini oluştur\n",
        "model = LogisticRegression()\n",
        "\n",
        "# Modeli eğit (fit et)\n",
        "model.fit(X_train_scaled, y_train)\n"
      ],
      "metadata": {
        "colab": {
          "base_uri": "https://localhost:8080/",
          "height": 80
        },
        "id": "4rENhO-tZgsk",
        "outputId": "609cb395-3683-42c7-c2a4-124bcb5738be"
      },
      "execution_count": 11,
      "outputs": [
        {
          "output_type": "execute_result",
          "data": {
            "text/plain": [
              "LogisticRegression()"
            ],
            "text/html": [
              "<style>#sk-container-id-1 {\n",
              "  /* Definition of color scheme common for light and dark mode */\n",
              "  --sklearn-color-text: #000;\n",
              "  --sklearn-color-text-muted: #666;\n",
              "  --sklearn-color-line: gray;\n",
              "  /* Definition of color scheme for unfitted estimators */\n",
              "  --sklearn-color-unfitted-level-0: #fff5e6;\n",
              "  --sklearn-color-unfitted-level-1: #f6e4d2;\n",
              "  --sklearn-color-unfitted-level-2: #ffe0b3;\n",
              "  --sklearn-color-unfitted-level-3: chocolate;\n",
              "  /* Definition of color scheme for fitted estimators */\n",
              "  --sklearn-color-fitted-level-0: #f0f8ff;\n",
              "  --sklearn-color-fitted-level-1: #d4ebff;\n",
              "  --sklearn-color-fitted-level-2: #b3dbfd;\n",
              "  --sklearn-color-fitted-level-3: cornflowerblue;\n",
              "\n",
              "  /* Specific color for light theme */\n",
              "  --sklearn-color-text-on-default-background: var(--sg-text-color, var(--theme-code-foreground, var(--jp-content-font-color1, black)));\n",
              "  --sklearn-color-background: var(--sg-background-color, var(--theme-background, var(--jp-layout-color0, white)));\n",
              "  --sklearn-color-border-box: var(--sg-text-color, var(--theme-code-foreground, var(--jp-content-font-color1, black)));\n",
              "  --sklearn-color-icon: #696969;\n",
              "\n",
              "  @media (prefers-color-scheme: dark) {\n",
              "    /* Redefinition of color scheme for dark theme */\n",
              "    --sklearn-color-text-on-default-background: var(--sg-text-color, var(--theme-code-foreground, var(--jp-content-font-color1, white)));\n",
              "    --sklearn-color-background: var(--sg-background-color, var(--theme-background, var(--jp-layout-color0, #111)));\n",
              "    --sklearn-color-border-box: var(--sg-text-color, var(--theme-code-foreground, var(--jp-content-font-color1, white)));\n",
              "    --sklearn-color-icon: #878787;\n",
              "  }\n",
              "}\n",
              "\n",
              "#sk-container-id-1 {\n",
              "  color: var(--sklearn-color-text);\n",
              "}\n",
              "\n",
              "#sk-container-id-1 pre {\n",
              "  padding: 0;\n",
              "}\n",
              "\n",
              "#sk-container-id-1 input.sk-hidden--visually {\n",
              "  border: 0;\n",
              "  clip: rect(1px 1px 1px 1px);\n",
              "  clip: rect(1px, 1px, 1px, 1px);\n",
              "  height: 1px;\n",
              "  margin: -1px;\n",
              "  overflow: hidden;\n",
              "  padding: 0;\n",
              "  position: absolute;\n",
              "  width: 1px;\n",
              "}\n",
              "\n",
              "#sk-container-id-1 div.sk-dashed-wrapped {\n",
              "  border: 1px dashed var(--sklearn-color-line);\n",
              "  margin: 0 0.4em 0.5em 0.4em;\n",
              "  box-sizing: border-box;\n",
              "  padding-bottom: 0.4em;\n",
              "  background-color: var(--sklearn-color-background);\n",
              "}\n",
              "\n",
              "#sk-container-id-1 div.sk-container {\n",
              "  /* jupyter's `normalize.less` sets `[hidden] { display: none; }`\n",
              "     but bootstrap.min.css set `[hidden] { display: none !important; }`\n",
              "     so we also need the `!important` here to be able to override the\n",
              "     default hidden behavior on the sphinx rendered scikit-learn.org.\n",
              "     See: https://github.com/scikit-learn/scikit-learn/issues/21755 */\n",
              "  display: inline-block !important;\n",
              "  position: relative;\n",
              "}\n",
              "\n",
              "#sk-container-id-1 div.sk-text-repr-fallback {\n",
              "  display: none;\n",
              "}\n",
              "\n",
              "div.sk-parallel-item,\n",
              "div.sk-serial,\n",
              "div.sk-item {\n",
              "  /* draw centered vertical line to link estimators */\n",
              "  background-image: linear-gradient(var(--sklearn-color-text-on-default-background), var(--sklearn-color-text-on-default-background));\n",
              "  background-size: 2px 100%;\n",
              "  background-repeat: no-repeat;\n",
              "  background-position: center center;\n",
              "}\n",
              "\n",
              "/* Parallel-specific style estimator block */\n",
              "\n",
              "#sk-container-id-1 div.sk-parallel-item::after {\n",
              "  content: \"\";\n",
              "  width: 100%;\n",
              "  border-bottom: 2px solid var(--sklearn-color-text-on-default-background);\n",
              "  flex-grow: 1;\n",
              "}\n",
              "\n",
              "#sk-container-id-1 div.sk-parallel {\n",
              "  display: flex;\n",
              "  align-items: stretch;\n",
              "  justify-content: center;\n",
              "  background-color: var(--sklearn-color-background);\n",
              "  position: relative;\n",
              "}\n",
              "\n",
              "#sk-container-id-1 div.sk-parallel-item {\n",
              "  display: flex;\n",
              "  flex-direction: column;\n",
              "}\n",
              "\n",
              "#sk-container-id-1 div.sk-parallel-item:first-child::after {\n",
              "  align-self: flex-end;\n",
              "  width: 50%;\n",
              "}\n",
              "\n",
              "#sk-container-id-1 div.sk-parallel-item:last-child::after {\n",
              "  align-self: flex-start;\n",
              "  width: 50%;\n",
              "}\n",
              "\n",
              "#sk-container-id-1 div.sk-parallel-item:only-child::after {\n",
              "  width: 0;\n",
              "}\n",
              "\n",
              "/* Serial-specific style estimator block */\n",
              "\n",
              "#sk-container-id-1 div.sk-serial {\n",
              "  display: flex;\n",
              "  flex-direction: column;\n",
              "  align-items: center;\n",
              "  background-color: var(--sklearn-color-background);\n",
              "  padding-right: 1em;\n",
              "  padding-left: 1em;\n",
              "}\n",
              "\n",
              "\n",
              "/* Toggleable style: style used for estimator/Pipeline/ColumnTransformer box that is\n",
              "clickable and can be expanded/collapsed.\n",
              "- Pipeline and ColumnTransformer use this feature and define the default style\n",
              "- Estimators will overwrite some part of the style using the `sk-estimator` class\n",
              "*/\n",
              "\n",
              "/* Pipeline and ColumnTransformer style (default) */\n",
              "\n",
              "#sk-container-id-1 div.sk-toggleable {\n",
              "  /* Default theme specific background. It is overwritten whether we have a\n",
              "  specific estimator or a Pipeline/ColumnTransformer */\n",
              "  background-color: var(--sklearn-color-background);\n",
              "}\n",
              "\n",
              "/* Toggleable label */\n",
              "#sk-container-id-1 label.sk-toggleable__label {\n",
              "  cursor: pointer;\n",
              "  display: flex;\n",
              "  width: 100%;\n",
              "  margin-bottom: 0;\n",
              "  padding: 0.5em;\n",
              "  box-sizing: border-box;\n",
              "  text-align: center;\n",
              "  align-items: start;\n",
              "  justify-content: space-between;\n",
              "  gap: 0.5em;\n",
              "}\n",
              "\n",
              "#sk-container-id-1 label.sk-toggleable__label .caption {\n",
              "  font-size: 0.6rem;\n",
              "  font-weight: lighter;\n",
              "  color: var(--sklearn-color-text-muted);\n",
              "}\n",
              "\n",
              "#sk-container-id-1 label.sk-toggleable__label-arrow:before {\n",
              "  /* Arrow on the left of the label */\n",
              "  content: \"▸\";\n",
              "  float: left;\n",
              "  margin-right: 0.25em;\n",
              "  color: var(--sklearn-color-icon);\n",
              "}\n",
              "\n",
              "#sk-container-id-1 label.sk-toggleable__label-arrow:hover:before {\n",
              "  color: var(--sklearn-color-text);\n",
              "}\n",
              "\n",
              "/* Toggleable content - dropdown */\n",
              "\n",
              "#sk-container-id-1 div.sk-toggleable__content {\n",
              "  max-height: 0;\n",
              "  max-width: 0;\n",
              "  overflow: hidden;\n",
              "  text-align: left;\n",
              "  /* unfitted */\n",
              "  background-color: var(--sklearn-color-unfitted-level-0);\n",
              "}\n",
              "\n",
              "#sk-container-id-1 div.sk-toggleable__content.fitted {\n",
              "  /* fitted */\n",
              "  background-color: var(--sklearn-color-fitted-level-0);\n",
              "}\n",
              "\n",
              "#sk-container-id-1 div.sk-toggleable__content pre {\n",
              "  margin: 0.2em;\n",
              "  border-radius: 0.25em;\n",
              "  color: var(--sklearn-color-text);\n",
              "  /* unfitted */\n",
              "  background-color: var(--sklearn-color-unfitted-level-0);\n",
              "}\n",
              "\n",
              "#sk-container-id-1 div.sk-toggleable__content.fitted pre {\n",
              "  /* unfitted */\n",
              "  background-color: var(--sklearn-color-fitted-level-0);\n",
              "}\n",
              "\n",
              "#sk-container-id-1 input.sk-toggleable__control:checked~div.sk-toggleable__content {\n",
              "  /* Expand drop-down */\n",
              "  max-height: 200px;\n",
              "  max-width: 100%;\n",
              "  overflow: auto;\n",
              "}\n",
              "\n",
              "#sk-container-id-1 input.sk-toggleable__control:checked~label.sk-toggleable__label-arrow:before {\n",
              "  content: \"▾\";\n",
              "}\n",
              "\n",
              "/* Pipeline/ColumnTransformer-specific style */\n",
              "\n",
              "#sk-container-id-1 div.sk-label input.sk-toggleable__control:checked~label.sk-toggleable__label {\n",
              "  color: var(--sklearn-color-text);\n",
              "  background-color: var(--sklearn-color-unfitted-level-2);\n",
              "}\n",
              "\n",
              "#sk-container-id-1 div.sk-label.fitted input.sk-toggleable__control:checked~label.sk-toggleable__label {\n",
              "  background-color: var(--sklearn-color-fitted-level-2);\n",
              "}\n",
              "\n",
              "/* Estimator-specific style */\n",
              "\n",
              "/* Colorize estimator box */\n",
              "#sk-container-id-1 div.sk-estimator input.sk-toggleable__control:checked~label.sk-toggleable__label {\n",
              "  /* unfitted */\n",
              "  background-color: var(--sklearn-color-unfitted-level-2);\n",
              "}\n",
              "\n",
              "#sk-container-id-1 div.sk-estimator.fitted input.sk-toggleable__control:checked~label.sk-toggleable__label {\n",
              "  /* fitted */\n",
              "  background-color: var(--sklearn-color-fitted-level-2);\n",
              "}\n",
              "\n",
              "#sk-container-id-1 div.sk-label label.sk-toggleable__label,\n",
              "#sk-container-id-1 div.sk-label label {\n",
              "  /* The background is the default theme color */\n",
              "  color: var(--sklearn-color-text-on-default-background);\n",
              "}\n",
              "\n",
              "/* On hover, darken the color of the background */\n",
              "#sk-container-id-1 div.sk-label:hover label.sk-toggleable__label {\n",
              "  color: var(--sklearn-color-text);\n",
              "  background-color: var(--sklearn-color-unfitted-level-2);\n",
              "}\n",
              "\n",
              "/* Label box, darken color on hover, fitted */\n",
              "#sk-container-id-1 div.sk-label.fitted:hover label.sk-toggleable__label.fitted {\n",
              "  color: var(--sklearn-color-text);\n",
              "  background-color: var(--sklearn-color-fitted-level-2);\n",
              "}\n",
              "\n",
              "/* Estimator label */\n",
              "\n",
              "#sk-container-id-1 div.sk-label label {\n",
              "  font-family: monospace;\n",
              "  font-weight: bold;\n",
              "  display: inline-block;\n",
              "  line-height: 1.2em;\n",
              "}\n",
              "\n",
              "#sk-container-id-1 div.sk-label-container {\n",
              "  text-align: center;\n",
              "}\n",
              "\n",
              "/* Estimator-specific */\n",
              "#sk-container-id-1 div.sk-estimator {\n",
              "  font-family: monospace;\n",
              "  border: 1px dotted var(--sklearn-color-border-box);\n",
              "  border-radius: 0.25em;\n",
              "  box-sizing: border-box;\n",
              "  margin-bottom: 0.5em;\n",
              "  /* unfitted */\n",
              "  background-color: var(--sklearn-color-unfitted-level-0);\n",
              "}\n",
              "\n",
              "#sk-container-id-1 div.sk-estimator.fitted {\n",
              "  /* fitted */\n",
              "  background-color: var(--sklearn-color-fitted-level-0);\n",
              "}\n",
              "\n",
              "/* on hover */\n",
              "#sk-container-id-1 div.sk-estimator:hover {\n",
              "  /* unfitted */\n",
              "  background-color: var(--sklearn-color-unfitted-level-2);\n",
              "}\n",
              "\n",
              "#sk-container-id-1 div.sk-estimator.fitted:hover {\n",
              "  /* fitted */\n",
              "  background-color: var(--sklearn-color-fitted-level-2);\n",
              "}\n",
              "\n",
              "/* Specification for estimator info (e.g. \"i\" and \"?\") */\n",
              "\n",
              "/* Common style for \"i\" and \"?\" */\n",
              "\n",
              ".sk-estimator-doc-link,\n",
              "a:link.sk-estimator-doc-link,\n",
              "a:visited.sk-estimator-doc-link {\n",
              "  float: right;\n",
              "  font-size: smaller;\n",
              "  line-height: 1em;\n",
              "  font-family: monospace;\n",
              "  background-color: var(--sklearn-color-background);\n",
              "  border-radius: 1em;\n",
              "  height: 1em;\n",
              "  width: 1em;\n",
              "  text-decoration: none !important;\n",
              "  margin-left: 0.5em;\n",
              "  text-align: center;\n",
              "  /* unfitted */\n",
              "  border: var(--sklearn-color-unfitted-level-1) 1pt solid;\n",
              "  color: var(--sklearn-color-unfitted-level-1);\n",
              "}\n",
              "\n",
              ".sk-estimator-doc-link.fitted,\n",
              "a:link.sk-estimator-doc-link.fitted,\n",
              "a:visited.sk-estimator-doc-link.fitted {\n",
              "  /* fitted */\n",
              "  border: var(--sklearn-color-fitted-level-1) 1pt solid;\n",
              "  color: var(--sklearn-color-fitted-level-1);\n",
              "}\n",
              "\n",
              "/* On hover */\n",
              "div.sk-estimator:hover .sk-estimator-doc-link:hover,\n",
              ".sk-estimator-doc-link:hover,\n",
              "div.sk-label-container:hover .sk-estimator-doc-link:hover,\n",
              ".sk-estimator-doc-link:hover {\n",
              "  /* unfitted */\n",
              "  background-color: var(--sklearn-color-unfitted-level-3);\n",
              "  color: var(--sklearn-color-background);\n",
              "  text-decoration: none;\n",
              "}\n",
              "\n",
              "div.sk-estimator.fitted:hover .sk-estimator-doc-link.fitted:hover,\n",
              ".sk-estimator-doc-link.fitted:hover,\n",
              "div.sk-label-container:hover .sk-estimator-doc-link.fitted:hover,\n",
              ".sk-estimator-doc-link.fitted:hover {\n",
              "  /* fitted */\n",
              "  background-color: var(--sklearn-color-fitted-level-3);\n",
              "  color: var(--sklearn-color-background);\n",
              "  text-decoration: none;\n",
              "}\n",
              "\n",
              "/* Span, style for the box shown on hovering the info icon */\n",
              ".sk-estimator-doc-link span {\n",
              "  display: none;\n",
              "  z-index: 9999;\n",
              "  position: relative;\n",
              "  font-weight: normal;\n",
              "  right: .2ex;\n",
              "  padding: .5ex;\n",
              "  margin: .5ex;\n",
              "  width: min-content;\n",
              "  min-width: 20ex;\n",
              "  max-width: 50ex;\n",
              "  color: var(--sklearn-color-text);\n",
              "  box-shadow: 2pt 2pt 4pt #999;\n",
              "  /* unfitted */\n",
              "  background: var(--sklearn-color-unfitted-level-0);\n",
              "  border: .5pt solid var(--sklearn-color-unfitted-level-3);\n",
              "}\n",
              "\n",
              ".sk-estimator-doc-link.fitted span {\n",
              "  /* fitted */\n",
              "  background: var(--sklearn-color-fitted-level-0);\n",
              "  border: var(--sklearn-color-fitted-level-3);\n",
              "}\n",
              "\n",
              ".sk-estimator-doc-link:hover span {\n",
              "  display: block;\n",
              "}\n",
              "\n",
              "/* \"?\"-specific style due to the `<a>` HTML tag */\n",
              "\n",
              "#sk-container-id-1 a.estimator_doc_link {\n",
              "  float: right;\n",
              "  font-size: 1rem;\n",
              "  line-height: 1em;\n",
              "  font-family: monospace;\n",
              "  background-color: var(--sklearn-color-background);\n",
              "  border-radius: 1rem;\n",
              "  height: 1rem;\n",
              "  width: 1rem;\n",
              "  text-decoration: none;\n",
              "  /* unfitted */\n",
              "  color: var(--sklearn-color-unfitted-level-1);\n",
              "  border: var(--sklearn-color-unfitted-level-1) 1pt solid;\n",
              "}\n",
              "\n",
              "#sk-container-id-1 a.estimator_doc_link.fitted {\n",
              "  /* fitted */\n",
              "  border: var(--sklearn-color-fitted-level-1) 1pt solid;\n",
              "  color: var(--sklearn-color-fitted-level-1);\n",
              "}\n",
              "\n",
              "/* On hover */\n",
              "#sk-container-id-1 a.estimator_doc_link:hover {\n",
              "  /* unfitted */\n",
              "  background-color: var(--sklearn-color-unfitted-level-3);\n",
              "  color: var(--sklearn-color-background);\n",
              "  text-decoration: none;\n",
              "}\n",
              "\n",
              "#sk-container-id-1 a.estimator_doc_link.fitted:hover {\n",
              "  /* fitted */\n",
              "  background-color: var(--sklearn-color-fitted-level-3);\n",
              "}\n",
              "</style><div id=\"sk-container-id-1\" class=\"sk-top-container\"><div class=\"sk-text-repr-fallback\"><pre>LogisticRegression()</pre><b>In a Jupyter environment, please rerun this cell to show the HTML representation or trust the notebook. <br />On GitHub, the HTML representation is unable to render, please try loading this page with nbviewer.org.</b></div><div class=\"sk-container\" hidden><div class=\"sk-item\"><div class=\"sk-estimator fitted sk-toggleable\"><input class=\"sk-toggleable__control sk-hidden--visually\" id=\"sk-estimator-id-1\" type=\"checkbox\" checked><label for=\"sk-estimator-id-1\" class=\"sk-toggleable__label fitted sk-toggleable__label-arrow\"><div><div>LogisticRegression</div></div><div><a class=\"sk-estimator-doc-link fitted\" rel=\"noreferrer\" target=\"_blank\" href=\"https://scikit-learn.org/1.6/modules/generated/sklearn.linear_model.LogisticRegression.html\">?<span>Documentation for LogisticRegression</span></a><span class=\"sk-estimator-doc-link fitted\">i<span>Fitted</span></span></div></label><div class=\"sk-toggleable__content fitted\"><pre>LogisticRegression()</pre></div> </div></div></div></div>"
            ]
          },
          "metadata": {},
          "execution_count": 11
        }
      ]
    },
    {
      "cell_type": "markdown",
      "source": [
        "*LogisticRegression()* → Lojistik regresyon modeli oluşturur.\n",
        "\n",
        "*.fit(X_train_scaled, y_train)* → Ölçeklenmiş eğitim verisi ile modeli eğitir."
      ],
      "metadata": {
        "id": "Fl_eBpqpZqRJ"
      }
    },
    {
      "cell_type": "markdown",
      "source": [
        "**Test Verisi Üzerinde Tahmin**"
      ],
      "metadata": {
        "id": "OHBAEQ8qZws0"
      }
    },
    {
      "cell_type": "code",
      "source": [
        "# Test verisi ile tahmin yap\n",
        "y_pred = model.predict(X_test_scaled)\n",
        "\n",
        "# İlk birkaç tahmini görelim\n",
        "print(\"Tahminler:\", y_pred[:10])\n",
        "print(\"Gerçek Değerler:\", y_test.values[:10])\n"
      ],
      "metadata": {
        "colab": {
          "base_uri": "https://localhost:8080/"
        },
        "id": "KoNEc34GZzvc",
        "outputId": "8da9b5f0-39c0-4a37-ade5-4a718c196646"
      },
      "execution_count": 12,
      "outputs": [
        {
          "output_type": "stream",
          "name": "stdout",
          "text": [
            "Tahminler: [0 1 1 1 0 1 0 0 0 1]\n",
            "Gerçek Değerler: [0 0 1 1 0 1 0 0 0 1]\n"
          ]
        }
      ]
    },
    {
      "cell_type": "markdown",
      "source": [
        "✅ Şimdi modelin doğruluk (accuracy) gibi metriklerle ne kadar iyi performans gösterdiğine bakalım."
      ],
      "metadata": {
        "id": "lz94JlpuaC0y"
      }
    },
    {
      "cell_type": "markdown",
      "source": [
        "### **4️⃣ Modeli Değerlendirme ve Analiz**  "
      ],
      "metadata": {
        "id": "D2xPlr6PZ8Nt"
      }
    },
    {
      "cell_type": "markdown",
      "source": [
        "**Doğruluk Oranı Hesaplama**"
      ],
      "metadata": {
        "id": "H5Ii9ybtaG39"
      }
    },
    {
      "cell_type": "code",
      "source": [
        "from sklearn.metrics import accuracy_score\n",
        "\n",
        "# Modelin doğruluk oranını hesapla\n",
        "accuracy = accuracy_score(y_test, y_pred)\n",
        "\n",
        "# Doğruluk oranını yazdır\n",
        "print(f\"Modelin Doğruluk Oranı: {accuracy:.4f}\")\n"
      ],
      "metadata": {
        "colab": {
          "base_uri": "https://localhost:8080/"
        },
        "id": "nHJOqqePaJyW",
        "outputId": "6f97abc9-576f-42fc-a7c7-90fd59126eba"
      },
      "execution_count": 13,
      "outputs": [
        {
          "output_type": "stream",
          "name": "stdout",
          "text": [
            "Modelin Doğruluk Oranı: 0.9125\n"
          ]
        }
      ]
    },
    {
      "cell_type": "markdown",
      "source": [
        "Yorum:\n",
        "Modelin doğruluk oranı %91.25 oldukça yüksek, bu da modelinin test verisi üzerinde doğru tahminler yaptığı anlamına geliyor."
      ],
      "metadata": {
        "id": "RccmLrxpaaRU"
      }
    },
    {
      "cell_type": "markdown",
      "source": [
        "**Karmaşıklık Matrisi (Confusion Matrix) Oluşturma**"
      ],
      "metadata": {
        "id": "RKaMyycSaipy"
      }
    },
    {
      "cell_type": "code",
      "source": [
        "from sklearn.metrics import confusion_matrix\n",
        "import seaborn as sns\n",
        "import matplotlib.pyplot as plt\n",
        "\n",
        "# Karmaşıklık matrisini oluştur\n",
        "cm = confusion_matrix(y_test, y_pred)\n",
        "\n",
        "# Görselleştirmek için ısı haritası kullan\n",
        "plt.figure(figsize=(6, 4))\n",
        "sns.heatmap(cm, annot=True, fmt='d', cmap='Blues', xticklabels=['Red', 'Admitted'], yticklabels=['Red', 'Admitted'])\n",
        "plt.xlabel('Tahmin Edilen')\n",
        "plt.ylabel('Gerçek Değer')\n",
        "plt.title('Karmaşıklık Matrisi')\n",
        "plt.show()\n"
      ],
      "metadata": {
        "colab": {
          "base_uri": "https://localhost:8080/",
          "height": 410
        },
        "id": "utjLWPJ4akGh",
        "outputId": "82beecfe-c25e-4cdb-facc-646dac12d0d8"
      },
      "execution_count": 14,
      "outputs": [
        {
          "output_type": "display_data",
          "data": {
            "text/plain": [
              "<Figure size 600x400 with 2 Axes>"
            ],
            "image/png": "[encoded data removed]"
          },
          "metadata": {}
        }
      ]
    },
    {
      "cell_type": "markdown",
      "source": [
        "Hatırlayalım:\n",
        "\n",
        "True Positive (TP): Gerçek kabul edilen öğrenciler, doğru kabul edilenler.\n",
        "\n",
        "True Negative (TN): Gerçek red edilen öğrenciler, doğru red edilenler.\n",
        "\n",
        "False Positive (FP): Gerçek red edilen öğrenciler, yanlış kabul edilenler.\n",
        "\n",
        "False Negative (FN): Gerçek kabul edilen öğrenciler, yanlış red edilenler."
      ],
      "metadata": {
        "id": "yNlp5XoiatJR"
      }
    },
    {
      "cell_type": "markdown",
      "source": [
        "**Precision, Recall ve F1-Score Hesaplama**"
      ],
      "metadata": {
        "id": "xg7ad8i4a5-Z"
      }
    },
    {
      "cell_type": "code",
      "source": [
        "from sklearn.metrics import classification_report\n",
        "\n",
        "# Precision, Recall ve F1-score değerlerini yazdır\n",
        "report = classification_report(y_test, y_pred, target_names=['Red', 'Admitted'])\n",
        "print(report)\n"
      ],
      "metadata": {
        "colab": {
          "base_uri": "https://localhost:8080/"
        },
        "id": "Iap7wsipa9h5",
        "outputId": "9e5be505-2ae7-469e-90ad-53ba1db43903"
      },
      "execution_count": 15,
      "outputs": [
        {
          "output_type": "stream",
          "name": "stdout",
          "text": [
            "              precision    recall  f1-score   support\n",
            "\n",
            "         Red       0.95      0.89      0.92        47\n",
            "    Admitted       0.86      0.94      0.90        33\n",
            "\n",
            "    accuracy                           0.91        80\n",
            "   macro avg       0.91      0.92      0.91        80\n",
            "weighted avg       0.92      0.91      0.91        80\n",
            "\n"
          ]
        }
      ]
    },
    {
      "cell_type": "code",
      "source": [
        "# Test verisi için tahmin edilen kabul olasılıkları\n",
        "y_prob = model.predict_proba(X_test_scaled)[:, 1]  # 1. sütun 'Admitted' sınıfının olasılığı\n",
        "\n",
        "# Gerçek değerler ile karşılaştırmak için ilk 10 tahminin olasılıklarını yazdır\n",
        "for i in range(10):\n",
        "    print(f\"Gerçek Değer: {y_test.iloc[i]}, Tahmin Edilen Olasılık: {y_prob[i]:.4f}\")\n"
      ],
      "metadata": {
        "colab": {
          "base_uri": "https://localhost:8080/"
        },
        "id": "TJ7Y7EbMbHsi",
        "outputId": "176198b0-a518-487a-96b4-cea78bd68229"
      },
      "execution_count": 16,
      "outputs": [
        {
          "output_type": "stream",
          "name": "stdout",
          "text": [
            "Gerçek Değer: 0, Tahmin Edilen Olasılık: 0.0820\n",
            "Gerçek Değer: 0, Tahmin Edilen Olasılık: 0.5204\n",
            "Gerçek Değer: 1, Tahmin Edilen Olasılık: 0.9971\n",
            "Gerçek Değer: 1, Tahmin Edilen Olasılık: 0.9452\n",
            "Gerçek Değer: 0, Tahmin Edilen Olasılık: 0.0134\n",
            "Gerçek Değer: 1, Tahmin Edilen Olasılık: 0.9969\n",
            "Gerçek Değer: 0, Tahmin Edilen Olasılık: 0.0024\n",
            "Gerçek Değer: 0, Tahmin Edilen Olasılık: 0.0029\n",
            "Gerçek Değer: 0, Tahmin Edilen Olasılık: 0.0566\n",
            "Gerçek Değer: 1, Tahmin Edilen Olasılık: 0.9538\n"
          ]
        }
      ]
    },
    {
      "cell_type": "markdown",
      "source": [
        "Yorum:\n",
        "\n",
        "Kabul edilenler için yüksek olasılıklar (0.95 ve üstü).\n",
        "\n",
        "Red edilenler için düşük olasılıklar (0.05 ve altı).\n",
        "\n",
        "Bu durum, modelin genellikle doğru tahminler yaptığına işaret eder."
      ],
      "metadata": {
        "id": "Ykxb0JvXbQqE"
      }
    },
    {
      "cell_type": "markdown",
      "source": [
        "### **5️⃣ Modelin Öğrenme Sürecini Takip Etme**  "
      ],
      "metadata": {
        "id": "5sYqzFbbbWra"
      }
    },
    {
      "cell_type": "markdown",
      "source": [
        "Hatırlatma\n",
        "\n",
        "**Ağırlıklar (Weights):**\n",
        "\n",
        "Modelin öğrenme sürecinde her bir özelliğe verilen önemi gösteren değerlerdir.\n",
        "\n",
        "Model, özelliklerin değerleri ile ağırlıkları çarparak tahminler yapar.\n",
        "\n",
        "**Iterasyonlar:**\n",
        "\n",
        "Modelin öğrenme sürecinde ağırlıkları güncelleme adımlarıdır.\n",
        "\n",
        "Her iterasyonda, model hatayı azaltmak için ağırlıkları biraz daha iyileştirir.\n",
        "\n",
        "**Özet:**\n",
        "Ağırlıklar: Özelliklerin model üzerindeki etkisi.\n",
        "\n",
        "Iterasyonlar: Modelin öğrenme sürecindeki her adım."
      ],
      "metadata": {
        "id": "XkX75wyCbz73"
      }
    },
    {
      "cell_type": "markdown",
      "source": [
        "**Modelin Ağırlıklarını ve Bias'ını Yazdırma**"
      ],
      "metadata": {
        "id": "nc1l5lN1bfDs"
      }
    },
    {
      "cell_type": "code",
      "source": [
        "# Modelin ağırlıkları (coefficients) ve bias'ı (intercept)\n",
        "weights = model.coef_\n",
        "bias = model.intercept_\n",
        "\n",
        "# Ağırlıkları ve bias'ı yazdır\n",
        "print(\"Ağırlıklar (W):\", weights)\n",
        "print(\"Bias (b):\", bias)\n"
      ],
      "metadata": {
        "colab": {
          "base_uri": "https://localhost:8080/"
        },
        "id": "3kfAyHrnbjdV",
        "outputId": "aa8bd29c-1b68-404f-c76e-4a1f57bc4564"
      },
      "execution_count": 17,
      "outputs": [
        {
          "output_type": "stream",
          "name": "stdout",
          "text": [
            "Ağırlıklar (W): [[0.71823304 0.34698431 0.30993856 0.42555718 0.25271671 1.76046183\n",
            "  0.41154067]]\n",
            "Bias (b): [-0.37879045]\n"
          ]
        }
      ]
    },
    {
      "cell_type": "markdown",
      "source": [
        "Yorum:\n",
        "\n",
        "En yüksek ağırlık CGPA'da (1.7605) bulunuyor, bu da modelin öğrencinin akademik geçmişini (CGPA) çok önemli bir faktör olarak kabul ettiğini gösteriyor.\n",
        "\n",
        "GRE ve TOEFL skorları da önemli, ancak CGPA kadar güçlü değil.\n",
        "\n",
        "Bias değeri negatif olduğu için, modelin tahminleri genellikle sıfırdan biraz daha düşük olacak, bu da red edilme olasılıklarının daha yüksek olduğu anlamına gelir."
      ],
      "metadata": {
        "id": "GzY1DxDWcTb8"
      }
    },
    {
      "cell_type": "markdown",
      "source": [
        "**Tol Parametresi ve Erken Durma**"
      ],
      "metadata": {
        "id": "ytr8FGNFcecr"
      }
    },
    {
      "cell_type": "code",
      "source": [
        "from sklearn.linear_model import LogisticRegression\n",
        "\n",
        "# Modeli oluşturma ve tol değeri belirleme\n",
        "model = LogisticRegression(max_iter=1000, tol=1e-4)\n",
        "\n",
        "# Modeli eğitim verisiyle eğitme\n",
        "model.fit(X_train_scaled, y_train)\n",
        "\n",
        "# Modelin tol değeri ve eğitim süresi hakkında bilgi\n",
        "print(\"Modelin tol değeri:\", model.tol)\n"
      ],
      "metadata": {
        "colab": {
          "base_uri": "https://localhost:8080/"
        },
        "id": "5YRYhJXEcjS7",
        "outputId": "d355f2e9-e15c-4c36-b1af-6262be76bab7"
      },
      "execution_count": 18,
      "outputs": [
        {
          "output_type": "stream",
          "name": "stdout",
          "text": [
            "Modelin tol değeri: 0.0001\n"
          ]
        }
      ]
    },
    {
      "cell_type": "markdown",
      "source": [
        "*tol = 0.0001:* Kayıp fonksiyonundaki değişiklik 0.0001'den küçükse, eğitim durur. Model, daha fazla iyileştirme yapılmadığını fark eder."
      ],
      "metadata": {
        "id": "oxJy8dLocxzc"
      }
    },
    {
      "cell_type": "markdown",
      "source": [
        "### **6️⃣ Sonuçları Yorumlama ve Modeli Geliştirme**  "
      ],
      "metadata": {
        "id": "A9qquri6c3Yp"
      }
    },
    {
      "cell_type": "markdown",
      "source": [
        "Modelin en önemli değişkenlerini belirlemek için, ağırlıkların (weights) büyüklüğüne bakabiliriz."
      ],
      "metadata": {
        "id": "AcRli15EdCQn"
      }
    },
    {
      "cell_type": "code",
      "source": [
        "import pandas as pd\n",
        "import numpy as np\n",
        "\n",
        "# Modelin ağırlıklarını al\n",
        "coefficients = model.coef_[0]\n",
        "\n",
        "# Özellik isimleri\n",
        "features = X_train.columns\n",
        "\n",
        "# Ağırlıklar ve özellikleri birleştir\n",
        "importance_df = pd.DataFrame({'Feature': features, 'Coefficient': coefficients})\n",
        "\n",
        "# Ağırlıkları büyüklüğe göre sıralayın\n",
        "importance_df['Absolute Coefficient'] = importance_df['Coefficient'].apply(np.abs)\n",
        "importance_df = importance_df.sort_values(by='Absolute Coefficient', ascending=False)\n",
        "\n",
        "# En önemli özellikleri göster\n",
        "print(importance_df[['Feature', 'Coefficient']])\n"
      ],
      "metadata": {
        "colab": {
          "base_uri": "https://localhost:8080/"
        },
        "id": "zWEr2a7jdClJ",
        "outputId": "105be634-b662-4930-bd98-87d900de058d"
      },
      "execution_count": 19,
      "outputs": [
        {
          "output_type": "stream",
          "name": "stdout",
          "text": [
            "             Feature  Coefficient\n",
            "5               CGPA     1.760462\n",
            "0          GRE Score     0.718233\n",
            "3                SOP     0.425557\n",
            "6           Research     0.411541\n",
            "1        TOEFL Score     0.346984\n",
            "2  University Rating     0.309939\n",
            "4               LOR      0.252717\n"
          ]
        }
      ]
    },
    {
      "cell_type": "markdown",
      "source": [
        "Yorum:\n",
        "\n",
        "En önemli değişkenler: CGPA, GRE Score, SOP, ve Research gibi akademik ve başvuru sürecindeki önemli faktörler.\n",
        "\n",
        "En az önemli değişkenler: LOR (Tavsiye Mektubu) ve University Rating gibi, ancak yine de etkisi olan özellikler."
      ],
      "metadata": {
        "id": "dbMnj2R4dYCt"
      }
    },
    {
      "cell_type": "markdown",
      "source": [
        "**Eşik Değeri Değiştirme ve Modeli Değerlendirme**"
      ],
      "metadata": {
        "id": "Dt0DY5jZdi4d"
      }
    },
    {
      "cell_type": "code",
      "source": [
        "from sklearn.metrics import accuracy_score, confusion_matrix, classification_report\n",
        "\n",
        "# Modelin tahmin edilen olasılıkları (predicted probabilities)\n",
        "y_pred_prob = model.predict_proba(X_test_scaled)[:, 1]\n",
        "\n",
        "# 0.7 ve 0.8 eşik değerleriyle tahminler yapalım\n",
        "thresholds = [0.7, 0.8]\n",
        "for threshold in thresholds:\n",
        "    y_pred_new = (y_pred_prob >= threshold).astype(int)\n",
        "\n",
        "    # Modelin doğruluğunu ve diğer metrikleri hesaplayalım\n",
        "    accuracy = accuracy_score(y_test, y_pred_new)\n",
        "    cm = confusion_matrix(y_test, y_pred_new)\n",
        "    report = classification_report(y_test, y_pred_new)\n",
        "\n",
        "    print(f\"\\nEşik Değeri: {threshold}\")\n",
        "    print(f\"Doğruluk Oranı: {accuracy:.4f}\")\n",
        "    print(\"Karmaşıklık Matrisi:\")\n",
        "    print(cm)\n",
        "    print(\"Sınıflandırma Raporu:\")\n",
        "    print(report)\n"
      ],
      "metadata": {
        "colab": {
          "base_uri": "https://localhost:8080/"
        },
        "id": "NiFHGa4CdmFv",
        "outputId": "4bf537fd-3218-4151-ca47-434dfb0f0ab5"
      },
      "execution_count": 20,
      "outputs": [
        {
          "output_type": "stream",
          "name": "stdout",
          "text": [
            "\n",
            "Eşik Değeri: 0.7\n",
            "Doğruluk Oranı: 0.9375\n",
            "Karmaşıklık Matrisi:\n",
            "[[45  2]\n",
            " [ 3 30]]\n",
            "Sınıflandırma Raporu:\n",
            "              precision    recall  f1-score   support\n",
            "\n",
            "           0       0.94      0.96      0.95        47\n",
            "           1       0.94      0.91      0.92        33\n",
            "\n",
            "    accuracy                           0.94        80\n",
            "   macro avg       0.94      0.93      0.94        80\n",
            "weighted avg       0.94      0.94      0.94        80\n",
            "\n",
            "\n",
            "Eşik Değeri: 0.8\n",
            "Doğruluk Oranı: 0.9500\n",
            "Karmaşıklık Matrisi:\n",
            "[[46  1]\n",
            " [ 3 30]]\n",
            "Sınıflandırma Raporu:\n",
            "              precision    recall  f1-score   support\n",
            "\n",
            "           0       0.94      0.98      0.96        47\n",
            "           1       0.97      0.91      0.94        33\n",
            "\n",
            "    accuracy                           0.95        80\n",
            "   macro avg       0.95      0.94      0.95        80\n",
            "weighted avg       0.95      0.95      0.95        80\n",
            "\n"
          ]
        }
      ]
    },
    {
      "cell_type": "markdown",
      "source": [
        "Yorum:\n",
        "\n",
        "**Eşik Değeri 0.7:**\n",
        "\n",
        " Model, 1 sınıfını kabul etmek için daha düşük bir güvenle hareket ediyor, bu da recall'ı artırıyor, ancak precision'ı biraz düşürüyor. Yani, daha fazla yanlış negatif (FN) tahmin yapılıyor. Doğruluk biraz daha düşük.\n",
        "\n",
        "**Eşik Değeri 0.8:**\n",
        "\n",
        " Model daha yüksek bir güvenle 1 sınıfını kabul ediyor, bu da precision'ı artırıyor ve yanlış pozitif sayısını azaltıyor. Ancak, recall'da 0 sınıfı dışında düşüş yaşanıyor. Doğruluk daha yüksek, çünkü model daha güvenli tahminler yapıyor.\n",
        "\n",
        "Sonuç olarak:\n",
        "\n",
        "Eşik 0.8 ile daha az yanlış pozitif (FP) ve daha yüksek doğruluk oranı elde ediyorsunuz, ancak recall biraz düşüyor.\n",
        "\n",
        "Eşik 0.7 ile model daha dikkatli olup bazı yanlış negatifleri telafi edebiliyor."
      ],
      "metadata": {
        "id": "S8Ks6l2YdxYH"
      }
    },
    {
      "cell_type": "markdown",
      "source": [
        "### Modelin Geliştirilmesi İçin Öneriler\n",
        "\n",
        "1. **Daha Fazla Özellik Eklemek**: Yeni veri noktaları veya özellik mühendisliğiyle (örneğin, GRE ve TOEFL puanlarının kombinasyonu) modelin bilgi yelpazesini genişletebiliriz.\n",
        "\n",
        "2. **Farklı Modeller Denemek**: Lojistik regresyon dışında, **SVM**, **Random Forest**, veya **XGBoost** gibi modelleri deneyebiliriz. Bu modeller genellikle daha güçlü sonuçlar verebilir.\n",
        "\n",
        "3. **Model Parametrelerini Optimize Etmek**: **GridSearchCV** veya **RandomizedSearchCV** kullanarak hiperparametre optimizasyonu yapabiliriz. **Regularization** (L1/L2) ile overfitting’i önleyebiliriz.\n",
        "\n",
        "4. **Dengesiz Veri Seti Durumu**: **SMOTE** ile veri dengesizliğini giderebilir veya **class\\_weight** ile modelin azınlık sınıfına ağırlık vermesini sağlayabiliriz.\n",
        "\n",
        "5. **Veri Temizliği ve Zenginleştirme**: Aykırı değerleri temizleyip ve eksik verileri daha sofistike yöntemlerle doldurabiliriz. Verimizi çeşitlendirmek için simülasyonlar veya benzer öğrenci verisi oluşturabiliriz.\n",
        "\n",
        "6. **Veri Ölçeklendirme ve Aykırı Değerler**: Veriyi **standartlaştırın**, aykırı değerleri temizleyerek modelin daha iyi genelleme yapmasını sağlayabiliriz.\n",
        "\n",
        "7. **Performans Metrikleri**: **ROC AUC** veya **cross-validation** ile modelin doğruluğunu daha güvenilir şekilde ölçebiliriz.\n",
        "\n",
        "\n"
      ],
      "metadata": {
        "id": "NSgaP6JXeKRb"
      }
    }
  ]
}