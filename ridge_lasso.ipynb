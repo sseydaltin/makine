{
  "nbformat": 4,
  "nbformat_minor": 0,
  "metadata": {
    "colab": {
      "provenance": [],
      "authorship_tag": "ABX9TyNVlJZruepDzOAZjjNQ8HwJ",
      "include_colab_link": true
    },
    "kernelspec": {
      "name": "python3",
      "display_name": "Python 3"
    },
    "language_info": {
      "name": "python"
    }
  },
  "cells": [
    {
      "cell_type": "markdown",
      "metadata": {
        "id": "view-in-github",
        "colab_type": "text"
      },
      "source": [
        "<a href=\"https://colab.research.google.com/github/sseydaltin/makine/blob/main/ridge_lasso.ipynb\" target=\"_parent\"><img src=\"https://colab.research.google.com/assets/colab-badge.svg\" alt=\"Open In Colab\"/></a>"
      ]
    },
    {
      "cell_type": "markdown",
      "source": [
        "# HITTERS Veri Seti"
      ],
      "metadata": {
        "id": "lysR5nsAjME1"
      }
    },
    {
      "cell_type": "markdown",
      "source": [
        "Hitter veri seti genellikle beyzbol oyuncularının performans verilerini içeren bir veri kümesidir. Bu veri seti, 1986 yılı itibariyle Amerikan beyzbol ligindeki oyunculara ait çeşitli özellikleri ve performanslarını içerir.\n",
        "\n",
        "**Hikaye ve Amaç:**\n",
        "\n",
        "Veri seti, oyuncuların maaş tahminlerini yapmayı amaçlayan bir çalışma için kullanılabilir. Amaç, oyuncunun performansını belirleyen faktörlerin (örneğin, yapılan home run'lar, vuruşlar, yürüyüşler vb.) maaşı üzerinde nasıl bir etkiye sahip olduğunu incelemektir. Bu, oyuncuların maaşlarının hangi faktörlere dayandığını anlamak ve buna bağlı olarak tahminler yapmak için kullanılabilir."
      ],
      "metadata": {
        "id": "x1RYqmzDpuia"
      }
    },
    {
      "cell_type": "code",
      "execution_count": 1,
      "metadata": {
        "id": "83-xQmz-jBvY"
      },
      "outputs": [],
      "source": [
        "import pandas as pd\n",
        "from sklearn.model_selection import train_test_split\n",
        "from sklearn.linear_model import LinearRegression, Ridge, Lasso\n",
        "from sklearn.metrics import mean_squared_error, r2_score\n",
        "import numpy as np\n"
      ]
    },
    {
      "cell_type": "markdown",
      "source": [
        "Veri Yüklemesi"
      ],
      "metadata": {
        "id": "wDGtlJMnjXJJ"
      }
    },
    {
      "cell_type": "code",
      "source": [
        "file_path = 'hitters_processed.pkl'\n",
        "data = pd.read_pickle('/content/hitters_processed.pkl')"
      ],
      "metadata": {
        "id": "UoXs4UbTjaeq"
      },
      "execution_count": 5,
      "outputs": []
    },
    {
      "cell_type": "code",
      "source": [
        "print(data.shape)\n",
        "print(data.head())\n"
      ],
      "metadata": {
        "colab": {
          "base_uri": "https://localhost:8080/"
        },
        "id": "T6-09vchj8zx",
        "outputId": "648df77e-63d2-4bc7-8b7f-4c4ec09d584e"
      },
      "execution_count": 6,
      "outputs": [
        {
          "output_type": "stream",
          "name": "stdout",
          "text": [
            "(263, 39)\n",
            "      AtBat      Hits     HmRun      Runs       RBI     Walks     Years  \\\n",
            "1 -0.602900 -0.595675 -0.529975 -1.207183 -0.522128 -0.096826  1.408945   \n",
            "2  0.512542  0.492260  0.738195  0.442494  0.794576  1.614738 -0.905036   \n",
            "3  0.628167  0.736490  0.968772  0.403216  1.026936 -0.189343  0.777859   \n",
            "4 -0.562092 -0.462459 -0.184110 -0.618013 -0.367222 -0.513153 -1.115398   \n",
            "5  1.294712  1.358167 -0.875840  0.756718 -0.018682 -0.281860  0.777859   \n",
            "\n",
            "     CAtBat     CHits    CHmRun  ...  NEW_CHm_CAT  NEW_Diff_Atbat  \\\n",
            "1  0.373366  0.200587  0.109509  ...    -0.272565       -0.003834   \n",
            "2 -0.460668 -0.418475  0.011934  ...     1.012006       -1.149114   \n",
            "3  1.369180  1.412506  2.304938  ...     0.837941       -0.740787   \n",
            "4 -1.021870 -1.001506 -0.817450  ...     0.431502        0.471475   \n",
            "5  0.811634  0.688630 -0.703613  ...    -1.345732        1.085953   \n",
            "\n",
            "   NEW_Diff_Hits  NEW_Diff_HmRun  NEW_Diff_Runs  NEW_Diff_RBI  NEW_Diff_Walks  \\\n",
            "1       0.092772       -0.280053      -0.472938     -0.213465        0.154611   \n",
            "2      -1.228948       -1.282599      -1.009645     -1.676331       -1.500668   \n",
            "3      -0.619326       -0.402001      -1.098162     -0.598802       -0.358041   \n",
            "4       0.550872        0.101198       0.294723      0.402771        0.243729   \n",
            "5       1.443302       -0.240259       1.036259      0.487560        0.511532   \n",
            "\n",
            "   League_N  Division_W  NewLeague_N  \n",
            "1      True        True         True  \n",
            "2     False        True        False  \n",
            "3      True       False         True  \n",
            "4      True       False         True  \n",
            "5     False        True        False  \n",
            "\n",
            "[5 rows x 39 columns]\n"
          ]
        }
      ]
    },
    {
      "cell_type": "markdown",
      "source": [
        "**Hedef ve Özelliklerin Ayrılması**"
      ],
      "metadata": {
        "id": "W-gUxlzxkKY5"
      }
    },
    {
      "cell_type": "code",
      "source": [
        "X = data.drop(columns=['Salary'])  # Bağımsız değişkenler\n",
        "y = data['Salary']                 # Bağımlı değişken (hedef)"
      ],
      "metadata": {
        "id": "L5dxZeYXkMxn"
      },
      "execution_count": 7,
      "outputs": []
    },
    {
      "cell_type": "markdown",
      "source": [
        "**Eğitim ve Test Verisi Ayrımı**"
      ],
      "metadata": {
        "id": "xpW670ezkQ4B"
      }
    },
    {
      "cell_type": "code",
      "source": [
        "from sklearn.model_selection import train_test_split\n",
        "\n",
        "X_train, X_test, y_train, y_test = train_test_split(\n",
        "    X, y, test_size=0.2, random_state=42\n",
        ")"
      ],
      "metadata": {
        "id": "KUqSfcizkTzL"
      },
      "execution_count": 8,
      "outputs": []
    },
    {
      "cell_type": "markdown",
      "source": [
        "**Lineer Regresyon Modeli Kurma ve Eğitme**"
      ],
      "metadata": {
        "id": "0rg1wNJHkeJL"
      }
    },
    {
      "cell_type": "code",
      "source": [
        "from sklearn.linear_model import LinearRegression\n",
        "from sklearn.metrics import mean_squared_error, r2_score\n",
        "\n",
        "# Modeli oluştur\n",
        "lr_model = LinearRegression()\n",
        "\n",
        "# Modeli eğit\n",
        "lr_model.fit(X_train, y_train)\n",
        "\n",
        "# Test verisi üzerinde tahmin yap\n",
        "y_pred = lr_model.predict(X_test)\n",
        "\n",
        "# MSE ve R2 skorlarını hesapla\n",
        "mse = mean_squared_error(y_test, y_pred)\n",
        "r2 = r2_score(y_test, y_pred)\n",
        "\n",
        "print(f\"Lineer Regresyon - MSE: {mse:.2f}\")\n",
        "print(f\"Lineer Regresyon - R2 Skoru: {r2:.2f}\")\n"
      ],
      "metadata": {
        "colab": {
          "base_uri": "https://localhost:8080/"
        },
        "id": "38hJe_pRkfBD",
        "outputId": "1e18433c-22c3-4259-9a8c-b3004d9518d6"
      },
      "execution_count": 9,
      "outputs": [
        {
          "output_type": "stream",
          "name": "stdout",
          "text": [
            "Lineer Regresyon - MSE: 42335.52\n",
            "Lineer Regresyon - R2 Skoru: 0.70\n"
          ]
        }
      ]
    },
    {
      "cell_type": "markdown",
      "source": [
        "**Sonuçların Yorumu**\n",
        "\n",
        "**📉 Mean Squared Error (MSE):** 42335.52\n",
        "\n",
        "Bu, tahminlerin ne kadar sapma gösterdiğini gösterir.\n",
        "\n",
        "Ortalama olarak modelin yaptığı tahminlerin kare farkı 42.335 civarında. MSE değeri bağlamdan bağımsız tek başına çok anlamlı olmasa da, diğer modellerle karşılaştırma için idealdir.\n",
        "\n",
        "\n",
        "Özellikle maaş gibi parasal bir değeri tahmin ederken 42 bin dolarlık bir hata görece büyük olabilir — ama verinin ölçeğine bağlı.\n",
        "\n",
        "\n",
        "**📈 R² Skoru:** 0.70\n",
        "\n",
        "Bu, modelin bağımlı değişkendeki (Salary) değişkenliğin %70’ini açıkladığını gösterir.\n",
        "\n",
        "\n",
        "%70'lik açıklama oranı istatistiksel olarak gayet kabul edilebilir. Ancak %30'luk kısmın açıklanmadığını da unutmamalıyız.\n",
        "\n",
        "\n",
        "Daha yüksek doğruluk isteniyorsa Ridge veya Lasso gibi düzenlileştirme teknikleriyle model iyileştirilebilir."
      ],
      "metadata": {
        "id": "AKxCrJIvkuVl"
      }
    },
    {
      "cell_type": "markdown",
      "source": [
        "**Ridge ve Lasso Hatırlatma**\n",
        "\n",
        "idge ve Lasso regresyon, Lineer Regresyon modeline benzer ancak düzenlileştirme (regularization) tekniği kullanarak aşırı öğrenmeyi (overfitting) önlemeyi amaçlar. Özellikle çok sayıda öznitelik (feature) olduğunda veya bunlar arasında çoklu doğrusal bağlantı (multicollinearity) varsa oldukça işe yararlar.\n",
        "\n",
        "**Ridge Regresyon (L2 Regularization)**\n",
        "\n",
        "Temel fikir: Katsayıların (coef) karelerinin toplamına bir ceza ekler.\n",
        "\n",
        "Bu ceza, çok büyük katsayıların değerlerini küçülterek modelin karmaşıklığını azaltır.\n",
        "\n",
        "Hiçbir katsayıyı sıfırlamaz, sadece küçültür.\n",
        "\n",
        "Multicollinearity varsa Ridge, katsayıları dengeleyerek daha istikrarlı tahminler üretir.\n",
        "\n",
        " **Lasso Regresyon (L1 Regularization)**\n",
        "\n",
        "Temel fikir: Katsayıların mutlak değerlerinin toplamına ceza uygular.\n",
        "\n",
        "Bu sayede bazı katsayıları tamamen sıfıra indirir → özellik seçimi (feature selection) gibi davranır.\n",
        "\n",
        "Gereksiz değişkenleri modelden çıkarabilir.\n",
        "\n",
        "Özellikle yüksek boyutlu veri setlerinde kullanışlıdır."
      ],
      "metadata": {
        "id": "bzLWW6Bslf3T"
      }
    },
    {
      "cell_type": "markdown",
      "source": [
        "**Ridge Regresyon**"
      ],
      "metadata": {
        "id": "p8xj37m6lG7X"
      }
    },
    {
      "cell_type": "code",
      "source": [
        "from sklearn.linear_model import Ridge\n",
        "\n",
        "ridge_model = Ridge(alpha=1.0)  # alpha = düzenlileştirme parametresi\n",
        "ridge_model.fit(X_train, y_train)\n",
        "\n",
        "y_pred_ridge = ridge_model.predict(X_test)\n",
        "\n",
        "mse_ridge = mean_squared_error(y_test, y_pred_ridge)\n",
        "r2_ridge = r2_score(y_test, y_pred_ridge)\n",
        "\n",
        "print(f\"Ridge Regresyon - MSE: {mse_ridge:.2f}\")\n",
        "print(f\"Ridge Regresyon - R2 Skoru: {r2_ridge:.2f}\")\n"
      ],
      "metadata": {
        "colab": {
          "base_uri": "https://localhost:8080/"
        },
        "id": "RXvtJyvRlISV",
        "outputId": "4477b428-89dd-4c5f-dd99-8496fe915716"
      },
      "execution_count": 10,
      "outputs": [
        {
          "output_type": "stream",
          "name": "stdout",
          "text": [
            "Ridge Regresyon - MSE: 48202.13\n",
            "Ridge Regresyon - R2 Skoru: 0.66\n"
          ]
        }
      ]
    },
    {
      "cell_type": "markdown",
      "source": [
        "**Yorum:**\n",
        "\n",
        "MSE'nin Lineer Regresyona göre arttığını görüyoruz\n",
        "(42,335 → 48,202). Bu, modelin tahmin hatalarının biraz daha büyüdüğünü gösteriyor.\n",
        "\n",
        "R² skoru da düştü (0.70 → 0.66), yani model açıklayıcılığını biraz kaybetmiş."
      ],
      "metadata": {
        "id": "J_YUCYZKmUYv"
      }
    },
    {
      "cell_type": "markdown",
      "source": [
        "**Lasso Regresyon**"
      ],
      "metadata": {
        "id": "tSKi1NmylLpR"
      }
    },
    {
      "cell_type": "code",
      "source": [
        "from sklearn.linear_model import Lasso\n",
        "\n",
        "lasso_model = Lasso(alpha=1.0)  # alpha = düzenlileştirme katsayısı\n",
        "lasso_model.fit(X_train, y_train)\n",
        "\n",
        "y_pred_lasso = lasso_model.predict(X_test)\n",
        "\n",
        "mse_lasso = mean_squared_error(y_test, y_pred_lasso)\n",
        "r2_lasso = r2_score(y_test, y_pred_lasso)\n",
        "\n",
        "print(f\"Lasso Regresyon - MSE: {mse_lasso:.2f}\")\n",
        "print(f\"Lasso Regresyon - R2 Skoru: {r2_lasso:.2f}\")\n"
      ],
      "metadata": {
        "colab": {
          "base_uri": "https://localhost:8080/"
        },
        "id": "KmSsXLI-lPtB",
        "outputId": "14b18dfc-7a28-4446-fe4b-3d1cd631b7f2"
      },
      "execution_count": 11,
      "outputs": [
        {
          "output_type": "stream",
          "name": "stdout",
          "text": [
            "Lasso Regresyon - MSE: 51137.66\n",
            "Lasso Regresyon - R2 Skoru: 0.64\n"
          ]
        },
        {
          "output_type": "stream",
          "name": "stderr",
          "text": [
            "/usr/local/lib/python3.11/dist-packages/sklearn/linear_model/_coordinate_descent.py:695: ConvergenceWarning: Objective did not converge. You might want to increase the number of iterations, check the scale of the features or consider increasing regularisation. Duality gap: 7.562e+03, tolerance: 3.462e+03\n",
            "  model = cd_fast.enet_coordinate_descent(\n"
          ]
        }
      ]
    },
    {
      "cell_type": "markdown",
      "source": [
        "**Yorum:**\n",
        "\n",
        "Lasso'nun MSE değeri Ridge ve Lineer regresyona göre daha yüksek. Bu, modelin tahmin hatalarının biraz daha fazla olduğunu gösteriyor.\n",
        "\n",
        "R² skoru da en düşük seviyede (0.64), yani maaş değişkenindeki varyansın sadece %64’ünü açıklayabiliyor."
      ],
      "metadata": {
        "id": "P10KirbFma9d"
      }
    },
    {
      "cell_type": "markdown",
      "source": [
        "**ALPHA DEĞERİ BULMA**\n",
        "\n",
        "Nasıl Alpha Değeri Bulunur?\n",
        "\n",
        "✅ Cross-validation (Çapraz Doğrulama) yöntemi kullanılır.\n",
        "\n",
        "Amaç: alpha değerini sistematik şekilde test etmek.\n",
        "\n",
        "Kullanılan araçlar: RidgeCV ve LassoCV (Scikit-learn’de hazır olarak geliyor).\n",
        "\n",
        "Bu sınıflar, farklı alpha değerlerini dener ve en düşük hata veren değeri seçer."
      ],
      "metadata": {
        "id": "_ktjSJitmtfh"
      }
    },
    {
      "cell_type": "code",
      "source": [
        "from sklearn.linear_model import RidgeCV, LassoCV\n",
        "\n",
        "# Denenecek alpha değerleri\n",
        "alphas = np.logspace(-3, 3, 100)\n",
        "\n",
        "# Ridge için en iyi alpha\n",
        "ridge_cv = RidgeCV(alphas=alphas, store_cv_values=True)\n",
        "ridge_cv.fit(X_train, y_train)\n",
        "best_alpha_ridge = ridge_cv.alpha_\n",
        "\n",
        "# Lasso için en iyi alpha (5 katlı CV)\n",
        "lasso_cv = LassoCV(alphas=alphas, cv=5, max_iter=10000)\n",
        "lasso_cv.fit(X_train, y_train)\n",
        "best_alpha_lasso = lasso_cv.alpha_\n",
        "\n",
        "print(f\"En iyi Ridge alpha: {best_alpha_ridge:.4f}\")\n",
        "print(f\"En iyi Lasso alpha: {best_alpha_lasso:.4f}\")\n"
      ],
      "metadata": {
        "colab": {
          "base_uri": "https://localhost:8080/"
        },
        "id": "sYUy1v4rm8PP",
        "outputId": "66dc373a-b0f0-4fd5-9366-0d7ea82968f8"
      },
      "execution_count": 12,
      "outputs": [
        {
          "output_type": "stream",
          "name": "stderr",
          "text": [
            "/usr/local/lib/python3.11/dist-packages/sklearn/linear_model/_ridge.py:2385: FutureWarning: 'store_cv_values' is deprecated in version 1.5 and will be removed in 1.7. Use 'store_cv_results' instead.\n",
            "  warnings.warn(\n"
          ]
        },
        {
          "output_type": "stream",
          "name": "stdout",
          "text": [
            "En iyi Ridge alpha: 4.3288\n",
            "En iyi Lasso alpha: 2.1544\n"
          ]
        }
      ]
    },
    {
      "cell_type": "markdown",
      "source": [
        "**Modelleri En İyi Alpha ile Tekrar Eğitme**"
      ],
      "metadata": {
        "id": "14gPzS0lnBqV"
      }
    },
    {
      "cell_type": "code",
      "source": [
        "# Ridge yeniden eğitme\n",
        "ridge_best = Ridge(alpha=best_alpha_ridge)\n",
        "ridge_best.fit(X_train, y_train)\n",
        "y_pred_ridge_best = ridge_best.predict(X_test)\n",
        "mse_ridge_best = mean_squared_error(y_test, y_pred_ridge_best)\n",
        "r2_ridge_best = r2_score(y_test, y_pred_ridge_best)\n",
        "\n",
        "# Lasso yeniden eğitme\n",
        "lasso_best = Lasso(alpha=best_alpha_lasso, max_iter=10000)\n",
        "lasso_best.fit(X_train, y_train)\n",
        "y_pred_lasso_best = lasso_best.predict(X_test)\n",
        "mse_lasso_best = mean_squared_error(y_test, y_pred_lasso_best)\n",
        "r2_lasso_best = r2_score(y_test, y_pred_lasso_best)\n",
        "\n",
        "print(f\"En iyi Ridge - MSE: {mse_ridge_best:.2f}, R2: {r2_ridge_best:.2f}\")\n",
        "print(f\"En iyi Lasso - MSE: {mse_lasso_best:.2f}, R2: {r2_lasso_best:.2f}\")\n"
      ],
      "metadata": {
        "colab": {
          "base_uri": "https://localhost:8080/"
        },
        "id": "VlsA6XagnDAR",
        "outputId": "2a8ffed7-3482-4978-aa16-b3e9330b319f"
      },
      "execution_count": 13,
      "outputs": [
        {
          "output_type": "stream",
          "name": "stdout",
          "text": [
            "En iyi Ridge - MSE: 56973.88, R2: 0.59\n",
            "En iyi Lasso - MSE: 62017.82, R2: 0.56\n"
          ]
        }
      ]
    },
    {
      "cell_type": "markdown",
      "source": [
        "** Yorum:**\n",
        "\n",
        "Ridge Modeli:\n",
        "\n",
        "MSE: Önceki modelden (48,202) daha yüksek.\n",
        "\n",
        "R² Skoru: Daha düşük (0.66 → 0.59).\n",
        "\n",
        "Sonuç: Ridge'in en iyi alpha değeri ile model performansında düşüş gözlemleniyor. Bu, düzenlileştirmenin (regularization) modelin doğruluğunu pekiştirmek yerine fazla sadeleştirdiğini gösteriyor.\n",
        "\n",
        "Lasso Modeli:\n",
        "\n",
        "MSE: Önceki modelden (51,137) daha yüksek.\n",
        "\n",
        "R² Skoru: Yine düşük (0.64 → 0.56).\n",
        "\n",
        "Sonuç: Lasso'nun performansındaki düşüş, büyük ihtimalle bazı önemli değişkenlerin sıfırlanmasından kaynaklanıyor. Lasso, özellik seçiminde daha agresif olduğu için bazen önemli değişkenleri çıkarabiliyor."
      ],
      "metadata": {
        "id": "gg-cp-nrnVzl"
      }
    },
    {
      "cell_type": "markdown",
      "source": [
        "**Polinom Özellikler Ekleyerek Modeli Yeniden Değerlendirme**\n",
        "\n",
        "1- PolynomialFeatures kullanarak bağımsız değişkenleri dönüştüreceğiz.\n",
        "\n",
        "2- Bu dönüştürülmüş veriyi kullanarak modelleri eğiteceğiz."
      ],
      "metadata": {
        "id": "7bDMxGVBnneb"
      }
    },
    {
      "cell_type": "markdown",
      "source": [
        "**Polinom Özellikler Ekleyip Modelleri Eğitme**"
      ],
      "metadata": {
        "id": "UkEXzn71ntmu"
      }
    },
    {
      "cell_type": "code",
      "source": [
        "from sklearn.preprocessing import PolynomialFeatures\n",
        "\n",
        "# Polinom özellik ekleme (derece 2)\n",
        "poly = PolynomialFeatures(degree=2)\n",
        "X_train_poly = poly.fit_transform(X_train)\n",
        "X_test_poly = poly.transform(X_test)\n",
        "\n",
        "# Ridge Modeli (Polinom özelliklerle)\n",
        "ridge_poly = Ridge(alpha=best_alpha_ridge)\n",
        "ridge_poly.fit(X_train_poly, y_train)\n",
        "y_pred_ridge_poly = ridge_poly.predict(X_test_poly)\n",
        "mse_ridge_poly = mean_squared_error(y_test, y_pred_ridge_poly)\n",
        "r2_ridge_poly = r2_score(y_test, y_pred_ridge_poly)\n",
        "\n",
        "# Lasso Modeli (Polinom özelliklerle)\n",
        "lasso_poly = Lasso(alpha=best_alpha_lasso, max_iter=10000)\n",
        "lasso_poly.fit(X_train_poly, y_train)\n",
        "y_pred_lasso_poly = lasso_poly.predict(X_test_poly)\n",
        "mse_lasso_poly = mean_squared_error(y_test, y_pred_lasso_poly)\n",
        "r2_lasso_poly = r2_score(y_test, y_pred_lasso_poly)\n",
        "\n",
        "# Sonuçları yazdır\n",
        "print(f\"Polinom Özelliklerle Ridge - MSE: {mse_ridge_poly:.2f}, R2: {r2_ridge_poly:.2f}\")\n",
        "print(f\"Polinom Özelliklerle Lasso - MSE: {mse_lasso_poly:.2f}, R2: {r2_lasso_poly:.2f}\")\n"
      ],
      "metadata": {
        "colab": {
          "base_uri": "https://localhost:8080/"
        },
        "id": "aJuOdea_nwaB",
        "outputId": "0c4934c9-1596-4e7e-815a-81c47b3699f9"
      },
      "execution_count": 14,
      "outputs": [
        {
          "output_type": "stream",
          "name": "stdout",
          "text": [
            "Polinom Özelliklerle Ridge - MSE: 77190.35, R2: 0.45\n",
            "Polinom Özelliklerle Lasso - MSE: 69779.92, R2: 0.50\n"
          ]
        }
      ]
    },
    {
      "cell_type": "markdown",
      "source": [
        "**Yorum:**\n",
        "\n",
        "MSE'nin arttığını ve R² skorlarının düştüğünü görüyoruz.\n",
        "\n",
        "Ridge ve Lasso modellerinin MSE'leri, polinom özellikler eklenmeden önceki haline göre çok daha yüksek oldu.\n",
        "\n",
        "R² skorları da azaldı (0.59 → 0.45 ve 0.56 → 0.50).\n",
        "\n",
        "Polinom özellikler eklemek, modelin doğrusal olmayan ilişkileri öğrenmesine yardımcı olabilir, ancak burada modelin karmaşıklığını artırdı ve aşırı öğrenmeye (overfitting) yol açtı."
      ],
      "metadata": {
        "id": "WOX9AU_uozuF"
      }
    },
    {
      "cell_type": "markdown",
      "source": [
        "# NELER YAPTIK?\n",
        "\n",
        "\n",
        "\n",
        "1. **Veri Yükleme**: Modellemeye hazır veriyi yükledik ve hedef değişkeni `Salary` olarak belirledik.\n",
        "2. **Lineer Regresyon**: İlk olarak lineer regresyon modeli eğittik:\n",
        "   - **MSE**: `42,335.52`, **R²**: `0.70`.\n",
        "3. **Ridge ve Lasso Modelleri**: Ridge ve Lasso regresyonları ile düzenlileştirme yaptık:\n",
        "   - **Ridge**: MSE: `48,202.13`, R²: `0.66`\n",
        "   - **Lasso**: MSE: `51,137.66`, R²: `0.64`\n",
        "4. **En İyi Alpha Değerleri**: Ridge ve Lasso için en uygun `alpha` değerlerini bulduk:\n",
        "   - **Ridge**: MSE: `56,973.88`, R²: `0.59`\n",
        "   - **Lasso**: MSE: `62,017.82`, R²: `0.56`\n",
        "5. **Polinom Özellikler**: Polinom özellikler ekleyerek modelleri yeniden eğittik:\n",
        "   - **Ridge**: MSE: `77,190.35`, R²: `0.45`\n",
        "   - **Lasso**: MSE: `69,779.92`, R²: `0.50`\n",
        "\n",
        "### Sonuç:\n",
        "- **Lineer Regresyon** en iyi performansı verdi.\n",
        "- **Ridge ve Lasso** ile düzenlileştirme, doğruluğu biraz düşürse de aşırı öğrenmeyi engellemeye yardımcı olabilir.\n",
        "- **Polinom özellikler** eklemek modelin karmaşıklığını artırdı, ancak performans düşüşüne neden oldu.\n"
      ],
      "metadata": {
        "id": "VYVy7ExGpPSy"
      }
    }
  ]
}