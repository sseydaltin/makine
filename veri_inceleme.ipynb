{
  "nbformat": 4,
  "nbformat_minor": 0,
  "metadata": {
    "colab": {
      "provenance": [],
      "mount_file_id": "12F1-kn2AVFQFjVZ0oiElwaffJFsrs2hH",
      "authorship_tag": "ABX9TyNhEKtMT6jQ0pAJRNMbO1zG",
      "include_colab_link": true
    },
    "kernelspec": {
      "name": "python3",
      "display_name": "Python 3"
    },
    "language_info": {
      "name": "python"
    }
  },
  "cells": [
    {
      "cell_type": "markdown",
      "metadata": {
        "id": "view-in-github",
        "colab_type": "text"
      },
      "source": [
        "<a href=\"https://colab.research.google.com/github/sseydaltin/makine/blob/main/veri_inceleme.ipynb\" target=\"_parent\"><img src=\"https://colab.research.google.com/assets/colab-badge.svg\" alt=\"Open In Colab\"/></a>"
      ]
    },
    {
      "cell_type": "markdown",
      "source": [
        "# 1. Veri Yükleme ve İnceleme"
      ],
      "metadata": {
        "id": "IYzXP7T0qFyU"
      }
    },
    {
      "cell_type": "code",
      "execution_count": null,
      "metadata": {
        "colab": {
          "base_uri": "https://localhost:8080/"
        },
        "id": "ECVGeUJHo8ZR",
        "outputId": "38678228-9735-4e31-cb67-f2650dae472c"
      },
      "outputs": [
        {
          "output_type": "stream",
          "name": "stdout",
          "text": [
            "İlk 5 Satır:\n",
            "    id  age     sex    dataset               cp  trestbps   chol    fbs  \\\n",
            "0   1   63    Male  Cleveland   typical angina     145.0  233.0   True   \n",
            "1   2   67    Male  Cleveland     asymptomatic     160.0  286.0  False   \n",
            "2   3   67    Male  Cleveland     asymptomatic     120.0  229.0  False   \n",
            "3   4   37    Male  Cleveland      non-anginal     130.0  250.0  False   \n",
            "4   5   41  Female  Cleveland  atypical angina     130.0  204.0  False   \n",
            "\n",
            "          restecg  thalch  exang  oldpeak        slope   ca  \\\n",
            "0  lv hypertrophy   150.0  False      2.3  downsloping  0.0   \n",
            "1  lv hypertrophy   108.0   True      1.5         flat  3.0   \n",
            "2  lv hypertrophy   129.0   True      2.6         flat  2.0   \n",
            "3          normal   187.0  False      3.5  downsloping  0.0   \n",
            "4  lv hypertrophy   172.0  False      1.4    upsloping  0.0   \n",
            "\n",
            "                thal  num  \n",
            "0       fixed defect    0  \n",
            "1             normal    2  \n",
            "2  reversable defect    1  \n",
            "3             normal    0  \n",
            "4             normal    0  \n",
            "\n",
            "Veri Seti Bilgisi:\n",
            "\n",
            "<class 'pandas.core.frame.DataFrame'>\n",
            "RangeIndex: 920 entries, 0 to 919\n",
            "Data columns (total 16 columns):\n",
            " #   Column    Non-Null Count  Dtype  \n",
            "---  ------    --------------  -----  \n",
            " 0   id        920 non-null    int64  \n",
            " 1   age       920 non-null    int64  \n",
            " 2   sex       920 non-null    object \n",
            " 3   dataset   920 non-null    object \n",
            " 4   cp        920 non-null    object \n",
            " 5   trestbps  861 non-null    float64\n",
            " 6   chol      890 non-null    float64\n",
            " 7   fbs       830 non-null    object \n",
            " 8   restecg   918 non-null    object \n",
            " 9   thalch    865 non-null    float64\n",
            " 10  exang     865 non-null    object \n",
            " 11  oldpeak   858 non-null    float64\n",
            " 12  slope     611 non-null    object \n",
            " 13  ca        309 non-null    float64\n",
            " 14  thal      434 non-null    object \n",
            " 15  num       920 non-null    int64  \n",
            "dtypes: float64(5), int64(3), object(8)\n",
            "memory usage: 115.1+ KB\n",
            "None\n",
            "\n",
            "İstatistiksel Özet:\n",
            "\n",
            "               id         age    trestbps        chol      thalch     oldpeak  \\\n",
            "count  920.000000  920.000000  861.000000  890.000000  865.000000  858.000000   \n",
            "mean   460.500000   53.510870  132.132404  199.130337  137.545665    0.878788   \n",
            "std    265.725422    9.424685   19.066070  110.780810   25.926276    1.091226   \n",
            "min      1.000000   28.000000    0.000000    0.000000   60.000000   -2.600000   \n",
            "25%    230.750000   47.000000  120.000000  175.000000  120.000000    0.000000   \n",
            "50%    460.500000   54.000000  130.000000  223.000000  140.000000    0.500000   \n",
            "75%    690.250000   60.000000  140.000000  268.000000  157.000000    1.500000   \n",
            "max    920.000000   77.000000  200.000000  603.000000  202.000000    6.200000   \n",
            "\n",
            "               ca         num  \n",
            "count  309.000000  920.000000  \n",
            "mean     0.676375    0.995652  \n",
            "std      0.935653    1.142693  \n",
            "min      0.000000    0.000000  \n",
            "25%      0.000000    0.000000  \n",
            "50%      0.000000    1.000000  \n",
            "75%      1.000000    2.000000  \n",
            "max      3.000000    4.000000  \n",
            "\n",
            "Eksik Değerler:\n",
            "\n",
            "id            0\n",
            "age           0\n",
            "sex           0\n",
            "dataset       0\n",
            "cp            0\n",
            "trestbps     59\n",
            "chol         30\n",
            "fbs          90\n",
            "restecg       2\n",
            "thalch       55\n",
            "exang        55\n",
            "oldpeak      62\n",
            "slope       309\n",
            "ca          611\n",
            "thal        486\n",
            "num           0\n",
            "dtype: int64\n"
          ]
        }
      ],
      "source": [
        "import pandas as pd\n",
        "\n",
        "# Veri setini yükleme\n",
        "df = pd.read_csv('/content/heart_disease_uci.csv')\n",
        "\n",
        "# Veri setinin ilk birkaç satırını görüntüleme\n",
        "print(\"İlk 5 Satır:\\n\", df.head())\n",
        "\n",
        "# Veri setinin genel bilgilerini inceleme\n",
        "print(\"\\nVeri Seti Bilgisi:\\n\")\n",
        "print(df.info())\n",
        "\n",
        "# Temel istatistiksel bilgiler\n",
        "print(\"\\nİstatistiksel Özet:\\n\")\n",
        "print(df.describe())\n",
        "\n",
        "# Eksik değer kontrolü\n",
        "print(\"\\nEksik Değerler:\\n\")\n",
        "print(df.isnull().sum())\n"
      ]
    },
    {
      "cell_type": "markdown",
      "source": [
        "# 2. Kategorik ve Sayısal Sütunları Ayırma"
      ],
      "metadata": {
        "id": "oOJ9qmLzqBa0"
      }
    },
    {
      "cell_type": "code",
      "source": [
        "# Kategorik ve sayısal sütunları belirleme\n",
        "categorical_columns = df.select_dtypes(include=['object', 'category']).columns\n",
        "numeric_columns = df.select_dtypes(include=['float64', 'int64']).columns\n",
        "\n",
        "# Sonuçları ekrana yazdırma\n",
        "print(\"Kategorik Sütunlar:\", list(categorical_columns))\n",
        "print(\"Sayısal Sütunlar:\", list(numeric_columns))\n"
      ],
      "metadata": {
        "colab": {
          "base_uri": "https://localhost:8080/"
        },
        "id": "nzodbZDHqZxr",
        "outputId": "400b57a2-077e-48db-a624-ae2b6497e07d"
      },
      "execution_count": null,
      "outputs": [
        {
          "output_type": "stream",
          "name": "stdout",
          "text": [
            "Kategorik Sütunlar: ['sex', 'dataset', 'cp', 'fbs', 'restecg', 'exang', 'slope', 'thal']\n",
            "Sayısal Sütunlar: ['id', 'age', 'trestbps', 'chol', 'thalch', 'oldpeak', 'ca', 'num']\n"
          ]
        }
      ]
    },
    {
      "cell_type": "markdown",
      "source": [
        "# 3. Eksik Veri Analizi"
      ],
      "metadata": {
        "id": "Uqaf8reNqoDc"
      }
    },
    {
      "cell_type": "code",
      "source": [
        "# Eksik değerleri kontrol etme\n",
        "missing_values = df.isnull().sum()\n",
        "print(\"Eksik Değerler:\\n\", missing_values[missing_values > 0])\n",
        "\n",
        "# Eksik veri doldurma (sayısal değişkenler için medyan ile doldurma)\n",
        "df.fillna(df.median(numeric_only=True), inplace=True)\n",
        "\n",
        "# Kategorik sütunlardaki eksik değerleri belirleme\n",
        "missing_categorical = df.select_dtypes(include=['object', 'category']).isnull().sum()\n",
        "missing_categorical = missing_categorical[missing_categorical > 0] # Sadece eksik değer içeren sütunları seç\n",
        "\n",
        "for col in missing_categorical.index:  # Sadece eksik verisi olan sütunlarda işlem yap\n",
        "    df[col].fillna(df[col].mode()[0], inplace=True)\n",
        "\n",
        "\n",
        "# Eksik değerleri tekrar kontrol etme\n",
        "print(\"\\nEksik Değerler (Doldurma Sonrası):\\n\", df.isnull().sum().sum())"
      ],
      "metadata": {
        "colab": {
          "base_uri": "https://localhost:8080/"
        },
        "id": "LJFuzW5Yqpld",
        "outputId": "7faee100-cdaf-4950-9dc5-7ba041cb2cdc"
      },
      "execution_count": null,
      "outputs": [
        {
          "output_type": "stream",
          "name": "stdout",
          "text": [
            "Eksik Değerler:\n",
            " trestbps     59\n",
            "chol         30\n",
            "fbs          90\n",
            "restecg       2\n",
            "thalch       55\n",
            "exang        55\n",
            "oldpeak      62\n",
            "slope       309\n",
            "ca          611\n",
            "thal        486\n",
            "dtype: int64\n",
            "\n",
            "Eksik Değerler (Doldurma Sonrası):\n",
            " 0\n"
          ]
        },
        {
          "output_type": "stream",
          "name": "stderr",
          "text": [
            "<ipython-input-6-ea858718d8fe>:13: FutureWarning: A value is trying to be set on a copy of a DataFrame or Series through chained assignment using an inplace method.\n",
            "The behavior will change in pandas 3.0. This inplace method will never work because the intermediate object on which we are setting values always behaves as a copy.\n",
            "\n",
            "For example, when doing 'df[col].method(value, inplace=True)', try using 'df.method({col: value}, inplace=True)' or df[col] = df[col].method(value) instead, to perform the operation inplace on the original object.\n",
            "\n",
            "\n",
            "  df[col].fillna(df[col].mode()[0], inplace=True)\n",
            "<ipython-input-6-ea858718d8fe>:13: FutureWarning: Downcasting object dtype arrays on .fillna, .ffill, .bfill is deprecated and will change in a future version. Call result.infer_objects(copy=False) instead. To opt-in to the future behavior, set `pd.set_option('future.no_silent_downcasting', True)`\n",
            "  df[col].fillna(df[col].mode()[0], inplace=True)\n"
          ]
        }
      ]
    },
    {
      "cell_type": "markdown",
      "source": [
        "# 4. Encoding İşlemleri"
      ],
      "metadata": {
        "id": "pi-QUS0orCIT"
      }
    },
    {
      "source": [
        "from sklearn.preprocessing import LabelEncoder\n",
        "import pandas as pd\n",
        "\n",
        "# Label Encoding uygulanacak sütunlar (sıralı kategoriler)\n",
        "label_encoding_columns = ['slope']  # Örnek olarak 'slope' seçildi, ihtiyaca göre genişletilebilir\n",
        "\n",
        "for col in label_encoding_columns:\n",
        "    label_encoder = LabelEncoder()\n",
        "    df[col] = label_encoder.fit_transform(df[col])\n",
        "\n",
        "# One-Hot Encoding uygulanacak sütunlar (sıralı olmayan kategoriler)\n",
        "# Check if the columns are in the DataFrame before encoding\n",
        "one_hot_encoding_columns = ['dataset', 'cp', 'restecg']\n",
        "one_hot_encoding_columns = [col for col in one_hot_encoding_columns if col in df.columns]\n",
        "# If not empty, apply one-hot encoding\n",
        "if one_hot_encoding_columns:\n",
        "    df = pd.get_dummies(df, columns=one_hot_encoding_columns, drop_first=True)\n",
        "\n",
        "# Sonucu kontrol etme\n",
        "print(\"Veri setinin güncellenmiş hali:\\n\", df.head())"
      ],
      "cell_type": "code",
      "metadata": {
        "colab": {
          "base_uri": "https://localhost:8080/"
        },
        "id": "iwQvISdpuYGs",
        "outputId": "86cd9dd2-87ca-4d85-a491-080e3451df7b"
      },
      "execution_count": null,
      "outputs": [
        {
          "output_type": "stream",
          "name": "stdout",
          "text": [
            "Veri setinin güncellenmiş hali:\n",
            "    id  age     sex  trestbps   chol    fbs  thalch  exang  oldpeak  slope  \\\n",
            "0   1   63    Male     145.0  233.0   True   150.0  False      2.3      0   \n",
            "1   2   67    Male     160.0  286.0  False   108.0   True      1.5      1   \n",
            "2   3   67    Male     120.0  229.0  False   129.0   True      2.6      1   \n",
            "3   4   37    Male     130.0  250.0  False   187.0  False      3.5      0   \n",
            "4   5   41  Female     130.0  204.0  False   172.0  False      1.4      2   \n",
            "\n",
            "   ...               thal num  dataset_Hungary  dataset_Switzerland  \\\n",
            "0  ...       fixed defect   0            False                False   \n",
            "1  ...             normal   2            False                False   \n",
            "2  ...  reversable defect   1            False                False   \n",
            "3  ...             normal   0            False                False   \n",
            "4  ...             normal   0            False                False   \n",
            "\n",
            "   dataset_VA Long Beach  cp_atypical angina  cp_non-anginal  \\\n",
            "0                  False               False           False   \n",
            "1                  False               False           False   \n",
            "2                  False               False           False   \n",
            "3                  False               False            True   \n",
            "4                  False                True           False   \n",
            "\n",
            "   cp_typical angina  restecg_normal  restecg_st-t abnormality  \n",
            "0               True           False                     False  \n",
            "1              False           False                     False  \n",
            "2              False           False                     False  \n",
            "3              False            True                     False  \n",
            "4              False           False                     False  \n",
            "\n",
            "[5 rows x 21 columns]\n"
          ]
        }
      ]
    },
    {
      "cell_type": "markdown",
      "source": [
        "# 5. Standartlaştırma İşlemi"
      ],
      "metadata": {
        "id": "nINQxlXyrZHs"
      }
    },
    {
      "cell_type": "code",
      "source": [
        "import pandas as pd\n",
        "from sklearn.preprocessing import StandardScaler\n",
        "\n",
        "# Assuming 'cleaned_heart_disease.csv' is the output from the previous steps\n",
        "df = pd.read_csv('/content/heart_disease_uci.csv') # Load the dataframe\n",
        "\n",
        "# Hedef değişkeni belirleme\n",
        "target_column = 'target'\n",
        "\n",
        "# Sayısal sütunları hedef değişken hariç olacak şekilde belirleme\n",
        "numeric_columns = [col for col in df.select_dtypes(include=['float64', 'int64']).columns if col != target_column]\n",
        "\n",
        "# StandardScaler ile standartlaştırma\n",
        "scaler = StandardScaler()\n",
        "df[numeric_columns] = scaler.fit_transform(df[numeric_columns])\n",
        "\n",
        "# Güncellenmiş veri setini görüntüleme\n",
        "print(\"Standartlaştırılmış veri setinin ilk 5 satırı:\\n\", df.head())"
      ],
      "metadata": {
        "colab": {
          "base_uri": "https://localhost:8080/"
        },
        "id": "W054aYzyrarE",
        "outputId": "d4b80131-5a1c-44dd-99d3-3ebd4f7fd540"
      },
      "execution_count": null,
      "outputs": [
        {
          "output_type": "stream",
          "name": "stdout",
          "text": [
            "Standartlaştırılmış veri setinin ilk 5 satırı:\n",
            "          id       age     sex    dataset               cp  trestbps      chol  \\\n",
            "0 -1.730169  1.007386    Male  Cleveland   typical angina  0.675287  0.305908   \n",
            "1 -1.726404  1.432034    Male  Cleveland     asymptomatic  1.462483  0.784599   \n",
            "2 -1.722639  1.432034    Male  Cleveland     asymptomatic -0.636705  0.269780   \n",
            "3 -1.718873 -1.752828    Male  Cleveland      non-anginal -0.111908  0.459450   \n",
            "4 -1.715108 -1.328180  Female  Cleveland  atypical angina -0.111908  0.043982   \n",
            "\n",
            "     fbs         restecg    thalch  exang   oldpeak        slope        ca  \\\n",
            "0   True  lv hypertrophy  0.480653  False  1.303159  downsloping -0.724064   \n",
            "1  False  lv hypertrophy -1.140262   True  0.569611         flat  2.487454   \n",
            "2  False  lv hypertrophy -0.329805   True  1.578239         flat  1.416948   \n",
            "3  False          normal  1.908602  False  2.403480  downsloping -0.724064   \n",
            "4  False  lv hypertrophy  1.329704  False  0.477918    upsloping -0.724064   \n",
            "\n",
            "                thal       num  \n",
            "0       fixed defect -0.871794  \n",
            "1             normal  0.879408  \n",
            "2  reversable defect  0.003807  \n",
            "3             normal -0.871794  \n",
            "4             normal -0.871794  \n"
          ]
        }
      ]
    },
    {
      "cell_type": "markdown",
      "source": [
        "# 6.Verinin Son Halini csv olarak kaydedin"
      ],
      "metadata": {
        "id": "GWQN1yMKuo2k"
      }
    },
    {
      "cell_type": "code",
      "source": [
        "# Veri setini 'cleaned_heart_disease.csv' adıyla kaydetme\n",
        "df.to_csv('cleaned_heart_disease.csv', index=False)\n",
        "\n",
        "print(\"Veri seti başarıyla kaydedildi!\")\n"
      ],
      "metadata": {
        "colab": {
          "base_uri": "https://localhost:8080/"
        },
        "id": "YTtadzdEusok",
        "outputId": "994f9f71-bb3d-4f57-c906-147cb2b1a769"
      },
      "execution_count": null,
      "outputs": [
        {
          "output_type": "stream",
          "name": "stdout",
          "text": [
            "Veri seti başarıyla kaydedildi!\n"
          ]
        }
      ]
    }
  ]
}