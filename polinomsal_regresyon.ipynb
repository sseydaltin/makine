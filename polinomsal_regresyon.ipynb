{
  "nbformat": 4,
  "nbformat_minor": 0,
  "metadata": {
    "colab": {
      "provenance": [],
      "authorship_tag": "ABX9TyNvSHMeorl6bFHoD6B/cacw",
      "include_colab_link": true
    },
    "kernelspec": {
      "name": "python3",
      "display_name": "Python 3"
    },
    "language_info": {
      "name": "python"
    }
  },
  "cells": [
    {
      "cell_type": "markdown",
      "metadata": {
        "id": "view-in-github",
        "colab_type": "text"
      },
      "source": [
        "<a href=\"https://colab.research.google.com/github/sseydaltin/makine/blob/main/polinomsal_regresyon.ipynb\" target=\"_parent\"><img src=\"https://colab.research.google.com/assets/colab-badge.svg\" alt=\"Open In Colab\"/></a>"
      ]
    },
    {
      "cell_type": "markdown",
      "source": [
        "#  POLİNOMSAL REGRESYON (Insurance Dataset)"
      ],
      "metadata": {
        "id": "uh6batv3gBlh"
      }
    },
    {
      "cell_type": "markdown",
      "source": [
        "**VERİSETİNİ TANIYALIM**\n",
        "\n",
        "Bu veri seti, bireylerin sağlık sigortası için ödedikleri primleri ve bu primleri etkileyen demografik, sağlık ve bölgesel faktörleri içermektedir. Veri seti, sigorta şirketlerinin müşteri profillerini anlamalarına ve doğru fiyatlandırma stratejileri geliştirmelerine yardımcı olmak amacıyla oluşturulmuştur. Aynı zamanda bireylerin sigorta primlerini hangi faktörlerin artırdığı veya azalttığı hakkında bilgi edinmelerine olanak tanır.\n",
        "\n",
        "Veri Setinin Amacı:\n",
        "\n",
        "•\n",
        "Sağlık sigortası primlerini tahmin etmek.\n",
        "\n",
        "•\n",
        "Sigorta primlerini etkileyen en önemli faktörleri belirlemek.\n",
        "\n",
        "•\n",
        "Risk analizi yaparak farklı müşteri gruplarını değerlendirmek."
      ],
      "metadata": {
        "id": "YYQt2rhQgMWv"
      }
    },
    {
      "cell_type": "markdown",
      "source": [
        "**Veri Setinin Amacı:**\n",
        "- Sağlık sigortası primlerini tahmin etmek.\n",
        "- Sigorta primlerini etkileyen en önemli faktörleri belirlemek.\n",
        "- Risk analizi yaparak farklı müşteri gruplarını değerlendirmek.\n",
        "\n",
        "**Veri Setindeki Değişkenler:**\n",
        "1. **Age (Yaş):** Sigorta yaptıran kişinin yaşı. Yaş arttıkça sağlık riskleri de artar.\n",
        "2. **Sex (Cinsiyet):** Sigorta yaptıranın cinsiyeti (erkek/kadın).\n",
        "3. **BMI (Vücut Kitle İndeksi):** Kişinin kilo ve boyuna göre hesaplanan sağlık göstergesi.\n",
        "4. **Children (Çocuk Sayısı):** Sigorta kapsamındaki çocuk sayısı.\n",
        "5. **Smoker (Sigara Kullanımı):** Sigara içip içmediği bilgisi. Sigara içmek, sağlık risklerini ciddi şekilde artırır.\n",
        "6. **Region (Bölge):** Kişinin yaşadığı coğrafi bölge (northeast, northwest, southeast, southwest).\n",
        "7. **Charges (Sigorta Ücreti):** Sağlık sigortası için ödenen prim miktarı (hedef değişken).\n",
        "\n",
        "**Kullanım Alanları:**\n",
        "- **Sigorta Şirketleri:** Yeni müşteriler için prim tahmini yaparak doğru fiyatlandırma stratejileri geliştirmek.\n",
        "- **Bireyler:** Sağlık davranışlarının (örneğin, sigara kullanımı veya BMI kontrolü) prim üzerindeki etkisini anlamak.\n",
        "\n",
        "Bu veri seti, hem sağlık sigortası alanında stratejik kararlar almak için hem de veri analizi ve makine öğrenmesi projeleri için bir kaynak sunar."
      ],
      "metadata": {
        "id": "l73UAqBWgmzs"
      }
    },
    {
      "cell_type": "markdown",
      "source": [
        "### **1. Veri Setinin Keşfi ve Hazırlığı**"
      ],
      "metadata": {
        "id": "-drChvEpgtWS"
      }
    },
    {
      "cell_type": "markdown",
      "source": [
        "1. Veri Setini Yükleme ve İlk İnceleme"
      ],
      "metadata": {
        "id": "Jd_Enb4BhiF8"
      }
    },
    {
      "cell_type": "code",
      "source": [
        "import pandas as pd\n",
        "\n",
        "# Veri setini yükle\n",
        "df = pd.read_csv(\"/content/insurance.csv\")\n",
        "\n",
        "# İlk 5 satıra göz at\n",
        "print(df.head())\n",
        "\n",
        "# Veri tipi bilgileri ve eksik değer kontrolü\n",
        "print(df.info())\n",
        "\n",
        "# Temel istatistikler\n",
        "print(df.describe())\n"
      ],
      "metadata": {
        "colab": {
          "base_uri": "https://localhost:8080/"
        },
        "id": "rA7Pc1N9hkMu",
        "outputId": "531f6e7a-9333-460d-9786-aaef02945a28"
      },
      "execution_count": 1,
      "outputs": [
        {
          "output_type": "stream",
          "name": "stdout",
          "text": [
            "   age     sex     bmi  children smoker     region      charges\n",
            "0   19  female  27.900         0    yes  southwest  16884.92400\n",
            "1   18    male  33.770         1     no  southeast   1725.55230\n",
            "2   28    male  33.000         3     no  southeast   4449.46200\n",
            "3   33    male  22.705         0     no  northwest  21984.47061\n",
            "4   32    male  28.880         0     no  northwest   3866.85520\n",
            "<class 'pandas.core.frame.DataFrame'>\n",
            "RangeIndex: 1338 entries, 0 to 1337\n",
            "Data columns (total 7 columns):\n",
            " #   Column    Non-Null Count  Dtype  \n",
            "---  ------    --------------  -----  \n",
            " 0   age       1338 non-null   int64  \n",
            " 1   sex       1338 non-null   object \n",
            " 2   bmi       1338 non-null   float64\n",
            " 3   children  1338 non-null   int64  \n",
            " 4   smoker    1338 non-null   object \n",
            " 5   region    1338 non-null   object \n",
            " 6   charges   1338 non-null   float64\n",
            "dtypes: float64(2), int64(2), object(3)\n",
            "memory usage: 73.3+ KB\n",
            "None\n",
            "               age          bmi     children       charges\n",
            "count  1338.000000  1338.000000  1338.000000   1338.000000\n",
            "mean     39.207025    30.663397     1.094918  13270.422265\n",
            "std      14.049960     6.098187     1.205493  12110.011237\n",
            "min      18.000000    15.960000     0.000000   1121.873900\n",
            "25%      27.000000    26.296250     0.000000   4740.287150\n",
            "50%      39.000000    30.400000     1.000000   9382.033000\n",
            "75%      51.000000    34.693750     2.000000  16639.912515\n",
            "max      64.000000    53.130000     5.000000  63770.428010\n"
          ]
        }
      ]
    },
    {
      "cell_type": "markdown",
      "source": [
        " 2. Kategorik ve Sayısal Değişkenleri Belirleme"
      ],
      "metadata": {
        "id": "vzaCs0B0hqGM"
      }
    },
    {
      "cell_type": "code",
      "source": [
        "# Sayısal değişkenler\n",
        "numerical_cols = df.select_dtypes(include=[\"int64\", \"float64\"]).columns.tolist()\n",
        "print(\"Sayısal Değişkenler:\", numerical_cols)\n",
        "\n",
        "# Kategorik değişkenler\n",
        "categorical_cols = df.select_dtypes(include=[\"object\", \"category\"]).columns.tolist()\n",
        "print(\"Kategorik Değişkenler:\", categorical_cols)\n"
      ],
      "metadata": {
        "colab": {
          "base_uri": "https://localhost:8080/"
        },
        "id": "vLoZxKWShwX2",
        "outputId": "d515fc20-d3bb-409f-c024-8606353bb242"
      },
      "execution_count": 2,
      "outputs": [
        {
          "output_type": "stream",
          "name": "stdout",
          "text": [
            "Sayısal Değişkenler: ['age', 'bmi', 'children', 'charges']\n",
            "Kategorik Değişkenler: ['sex', 'smoker', 'region']\n"
          ]
        }
      ]
    },
    {
      "cell_type": "markdown",
      "source": [
        " 3. Sayısal Değişkenleri Standartlaştırma"
      ],
      "metadata": {
        "id": "c99P68hMhykt"
      }
    },
    {
      "cell_type": "code",
      "source": [
        "from sklearn.preprocessing import StandardScaler\n",
        "\n",
        "scaler = StandardScaler()\n",
        "df[numerical_cols] = scaler.fit_transform(df[numerical_cols])\n",
        "\n",
        "print(\"Standartlaştırılmış sayısal veriler:\")\n",
        "print(df[numerical_cols].head())\n"
      ],
      "metadata": {
        "colab": {
          "base_uri": "https://localhost:8080/"
        },
        "id": "klOo86-sh2QS",
        "outputId": "565da995-6112-40f1-e53f-7852ca2084ce"
      },
      "execution_count": 3,
      "outputs": [
        {
          "output_type": "stream",
          "name": "stdout",
          "text": [
            "Standartlaştırılmış sayısal veriler:\n",
            "        age       bmi  children   charges\n",
            "0 -1.438764 -0.453320 -0.908614  0.298584\n",
            "1 -1.509965  0.509621 -0.078767 -0.953689\n",
            "2 -0.797954  0.383307  1.580926 -0.728675\n",
            "3 -0.441948 -1.305531 -0.908614  0.719843\n",
            "4 -0.513149 -0.292556 -0.908614 -0.776802\n"
          ]
        }
      ]
    },
    {
      "cell_type": "markdown",
      "source": [
        "4. Kategorik Değişkenleri One-Hot Encoding ile Dönüştürme"
      ],
      "metadata": {
        "id": "vD8NepEYh6br"
      }
    },
    {
      "cell_type": "code",
      "source": [
        "df = pd.get_dummies(df, columns=categorical_cols, drop_first=True)\n",
        "\n",
        "print(\"One-hot encoding sonrası veri:\")\n",
        "print(df.head())\n"
      ],
      "metadata": {
        "colab": {
          "base_uri": "https://localhost:8080/"
        },
        "id": "BkXoERPQh7l2",
        "outputId": "fb7f4eaa-7ec0-4f01-95ae-dd9f5aa85d48"
      },
      "execution_count": 4,
      "outputs": [
        {
          "output_type": "stream",
          "name": "stdout",
          "text": [
            "One-hot encoding sonrası veri:\n",
            "        age       bmi  children   charges  sex_male  smoker_yes  \\\n",
            "0 -1.438764 -0.453320 -0.908614  0.298584     False        True   \n",
            "1 -1.509965  0.509621 -0.078767 -0.953689      True       False   \n",
            "2 -0.797954  0.383307  1.580926 -0.728675      True       False   \n",
            "3 -0.441948 -1.305531 -0.908614  0.719843      True       False   \n",
            "4 -0.513149 -0.292556 -0.908614 -0.776802      True       False   \n",
            "\n",
            "   region_northwest  region_southeast  region_southwest  \n",
            "0             False             False              True  \n",
            "1             False              True             False  \n",
            "2             False              True             False  \n",
            "3              True             False             False  \n",
            "4              True             False             False  \n"
          ]
        }
      ]
    },
    {
      "cell_type": "markdown",
      "source": [
        "### **2. Veri Görselleştirme ve İlişki Analizi**"
      ],
      "metadata": {
        "id": "zscHyjqkiPtg"
      }
    },
    {
      "cell_type": "markdown",
      "source": [
        "1. charges Değişkeninin Dağılım Grafiği"
      ],
      "metadata": {
        "id": "w7U4_CRRiSp9"
      }
    },
    {
      "cell_type": "code",
      "source": [
        "import matplotlib.pyplot as plt\n",
        "import seaborn as sns\n",
        "\n",
        "plt.figure(figsize=(10, 6))\n",
        "sns.histplot(df['charges'], kde=True, bins=40, color='skyblue')\n",
        "plt.title('Sigorta Ücretleri (charges) Dağılımı')\n",
        "plt.xlabel('Charges')\n",
        "plt.ylabel('Frekans')\n",
        "plt.tight_layout()\n",
        "plt.show()\n"
      ],
      "metadata": {
        "colab": {
          "base_uri": "https://localhost:8080/",
          "height": 607
        },
        "id": "U3Wla1cQiUhT",
        "outputId": "a98999ae-e177-447b-a6a0-714c564516f7"
      },
      "execution_count": 6,
      "outputs": [
        {
          "output_type": "display_data",
          "data": {
            "text/plain": [
              "<Figure size 1000x600 with 1 Axes>"
            ],
            "image/png": "[encoded data removed]"
          },
          "metadata": {}
        }
      ]
    },
    {
      "cell_type": "markdown",
      "source": [
        " Yorum:\n",
        "\n",
        "Sağa Çarpık (Right-skewed): Sigorta ücretlerinin çoğu 5.000–15.000 aralığında yoğunlaşmışken, 30.000 ve üzeri gibi yüksek ücretler az sayıda kişide görülüyor.\n",
        "\n",
        "\n",
        "Aykırı Değerler: Çok yüksek sigorta ücretleri muhtemelen sigara içen ya da kronik hastalığı olan kişilerden kaynaklanıyor olabilir."
      ],
      "metadata": {
        "id": "bVC2a9xMkCGo"
      }
    },
    {
      "cell_type": "markdown",
      "source": [
        "2. Korelasyon Matrisi ve Isı Haritası"
      ],
      "metadata": {
        "id": "AO4BFtAEkNbb"
      }
    },
    {
      "cell_type": "code",
      "source": [
        "# Sayısal değişkenler için korelasyon matrisi\n",
        "correlation_matrix = df.corr(numeric_only=True)\n",
        "\n",
        "# Korelasyon ısı haritası\n",
        "plt.figure(figsize=(8, 6))\n",
        "sns.heatmap(correlation_matrix, annot=True, cmap='coolwarm', fmt=\".2f\")\n",
        "plt.title('Korelasyon Matrisi')\n",
        "plt.tight_layout()\n",
        "plt.show()\n"
      ],
      "metadata": {
        "colab": {
          "base_uri": "https://localhost:8080/",
          "height": 607
        },
        "id": "gKNZ7dkpkOZo",
        "outputId": "d70db23b-d030-4777-994c-10fb2d9d68d1"
      },
      "execution_count": 7,
      "outputs": [
        {
          "output_type": "display_data",
          "data": {
            "text/plain": [
              "<Figure size 800x600 with 2 Axes>"
            ],
            "image/png": "[encoded data removed]"
          },
          "metadata": {}
        }
      ]
    },
    {
      "cell_type": "markdown",
      "source": [
        "Yorum:\n",
        "\n",
        "charges ile en yüksek korelasyon: smoker, age ve bmi değişkenlerinde gözlenir.\n",
        "\n",
        "\n",
        "smoker (sigara içme durumu) özellikle güçlü pozitif ilişki gösterir.\n",
        "\n",
        "\n",
        "children (çocuk sayısı) ile charges arasında çok düşük ilişki vardır."
      ],
      "metadata": {
        "id": "JOxeC_RGkSQU"
      }
    },
    {
      "cell_type": "markdown",
      "source": [
        " 3. Sigorta Ücretlerini En Çok Etkileyen Değişkenler\n",
        "\n",
        "En Etkili Değişken: smoker (sigara içme durumu) – sigara içenlerin charges değeri dramatik şekilde artar.\n",
        "\n",
        "Yaş: Yaş arttıkça charges da genellikle artar.\n",
        "\n",
        "BMI (vücut kitle indeksi): Özellikle 30'un üzerinde olan bireylerde charges yükselme eğilimindedir."
      ],
      "metadata": {
        "id": "jC4KX123kYOE"
      }
    },
    {
      "cell_type": "markdown",
      "source": [
        "**3. Lineer Regresyon Modeli**"
      ],
      "metadata": {
        "id": "jw84i0Gyk3xw"
      }
    },
    {
      "cell_type": "markdown",
      "source": [
        "1. Bağımlı ve Bağımsız Değişkenleri Ayırma"
      ],
      "metadata": {
        "id": "cN1Ya25hk68U"
      }
    },
    {
      "cell_type": "code",
      "source": [
        "# 'charges' bağımlı değişken, diğer sütunlar bağımsız değişken\n",
        "X = df.drop('charges', axis=1)\n",
        "y = df['charges']\n"
      ],
      "metadata": {
        "id": "41WrLOb8k9VM"
      },
      "execution_count": 17,
      "outputs": []
    },
    {
      "cell_type": "markdown",
      "source": [
        "2. Kategorik Değişkenleri Dönüştürme ve Veriyi Eğitim/Test Olarak Ayırma (%80 - %20)"
      ],
      "metadata": {
        "id": "MHH-O1X-lBje"
      }
    },
    {
      "cell_type": "code",
      "source": [
        "from sklearn.model_selection import train_test_split\n",
        "\n",
        "# Veriyi %80 eğitim, %20 test olarak ayır\n",
        "X_train, X_test, y_train, y_test = train_test_split(X, y, test_size=0.2, random_state=42)\n"
      ],
      "metadata": {
        "id": "AA2iHF12lC8D"
      },
      "execution_count": 18,
      "outputs": []
    },
    {
      "cell_type": "markdown",
      "source": [
        " 3. Lineer Regresyon Modeli Kurma ve Skorları Hesaplama"
      ],
      "metadata": {
        "id": "YKWHd4unlHpx"
      }
    },
    {
      "cell_type": "markdown",
      "source": [
        "Açıklama:\n",
        "\n",
        "OneHotEncoder: Kategorik verileri sayısal forma çevirir.\n",
        "\n",
        "Pipeline: Ön işlemeyi ve modeli bir arada uygular.\n",
        "\n",
        "LinearRegression: Doğrusal regresyon modelidir.\n",
        "\n",
        "mean_squared_error: Hataların ortalama karelerini ölçer.\n",
        "\n",
        "r2_score: Modelin veriye ne kadar iyi uyduğunu gösterir."
      ],
      "metadata": {
        "id": "EiETYoG6mugw"
      }
    },
    {
      "cell_type": "code",
      "source": [
        "from sklearn.linear_model import LinearRegression\n",
        "from sklearn.preprocessing import OneHotEncoder\n",
        "from sklearn.compose import ColumnTransformer\n",
        "from sklearn.pipeline import Pipeline\n",
        "from sklearn.metrics import mean_squared_error, r2_score\n",
        "\n",
        "# Kategorik değişkenleri seç\n",
        "categorical_features = ['sex', 'smoker', 'region']\n",
        "\n",
        "# Kategorik değişkenler için OneHotEncoder uygula\n",
        "preprocessor = ColumnTransformer(\n",
        "    transformers=[\n",
        "        ('cat', OneHotEncoder(drop='first'), categorical_features)\n",
        "    ],\n",
        "    remainder='passthrough'  # sayısal sütunları olduğu gibi bırak\n",
        ")\n",
        "\n",
        "# Pipeline: Ön işleme + Model\n",
        "model = Pipeline(steps=[\n",
        "    ('preprocessor', preprocessor),\n",
        "    ('regressor', LinearRegression())\n",
        "])\n",
        "\n",
        "# Modeli eğit\n",
        "model.fit(X_train, y_train)\n",
        "\n",
        "# Test verisi ile tahmin yap\n",
        "y_pred = model.predict(X_test)\n",
        "\n",
        "# MSE ve R² hesapla\n",
        "mse = mean_squared_error(y_test, y_pred)\n",
        "r2 = r2_score(y_test, y_pred)\n",
        "\n",
        "print(\"Mean Squared Error (MSE):\", mse)\n",
        "print(\"R² Skoru:\", r2)\n"
      ],
      "metadata": {
        "colab": {
          "base_uri": "https://localhost:8080/"
        },
        "id": "RHJ6a1gilIhC",
        "outputId": "60e81730-c6bd-4206-d6f2-0671299828a2"
      },
      "execution_count": 20,
      "outputs": [
        {
          "output_type": "stream",
          "name": "stdout",
          "text": [
            "Mean Squared Error (MSE): 33596915.85136148\n",
            "R² Skoru: 0.7835929767120722\n"
          ]
        }
      ]
    },
    {
      "cell_type": "markdown",
      "source": [
        "Çıktı Yorumu:\n",
        "\n",
        "MSE ≈ 33 milyon: Hataların ortalaması yüksek ama veri değerleri (charges) çok büyük olduğu için normal sayılabilir.\n",
        "\n",
        "R² Skoru ≈ 0.78: Model, charges değişiminin %78’ini açıklayabiliyor. Bu oldukça iyi bir başarıdır."
      ],
      "metadata": {
        "id": "jlZZzsD6mj8i"
      }
    },
    {
      "cell_type": "markdown",
      "source": [
        "### **4. Logaritmik Dönüşüm**"
      ],
      "metadata": {
        "id": "_HPMDY2am68O"
      }
    },
    {
      "cell_type": "markdown",
      "source": [
        "1. charges Değişkenine Logaritmik Dönüşüm\n"
      ],
      "metadata": {
        "id": "TaT7HZE2m8x5"
      }
    },
    {
      "cell_type": "code",
      "source": [
        "import numpy as np\n",
        "\n",
        "# charges değişkenine logaritmik dönüşüm uygula\n",
        "df['log_charges'] = np.log(df['charges'])\n",
        "\n",
        "# İlk 5 satırı kontrol et\n",
        "print(df[['charges', 'log_charges']].head())\n"
      ],
      "metadata": {
        "colab": {
          "base_uri": "https://localhost:8080/"
        },
        "id": "5-nv9PsenHPE",
        "outputId": "9381bedc-3330-44a7-8ef9-555a41afb6f8"
      },
      "execution_count": 21,
      "outputs": [
        {
          "output_type": "stream",
          "name": "stdout",
          "text": [
            "       charges  log_charges\n",
            "0  16884.92400     9.734176\n",
            "1   1725.55230     7.453302\n",
            "2   4449.46200     8.400538\n",
            "3  21984.47061     9.998092\n",
            "4   3866.85520     8.260197\n"
          ]
        }
      ]
    },
    {
      "cell_type": "markdown",
      "source": [
        "Yorum:\n",
        "\n",
        "log_charges, charges verisini normalize ederek uç değerlerin etkisini azaltır.\n",
        "\n",
        "Özellikle çok büyük ücret farkları varsa modelin doğruluğunu artırabilir."
      ],
      "metadata": {
        "id": "oVAlekLgnP9y"
      }
    },
    {
      "cell_type": "markdown",
      "source": [
        "2. Log Dönüşümlü Veri ile Tekrar Lineer Regresyon Modeli Kur"
      ],
      "metadata": {
        "id": "b80isSl-nR9I"
      }
    },
    {
      "cell_type": "code",
      "source": [
        "# Bağımsız değişkenler: charges hariç hepsi\n",
        "X_log = df.drop(['charges', 'log_charges'], axis=1)\n",
        "y_log = df['log_charges']\n",
        "\n",
        "# Eğitim/test verisine ayır\n",
        "X_train_log, X_test_log, y_train_log, y_test_log = train_test_split(X_log, y_log, test_size=0.2, random_state=42)\n",
        "\n",
        "# Pipeline yeniden tanımlanır\n",
        "model_log = Pipeline(steps=[\n",
        "    ('preprocessor', preprocessor),  # aynı preprocessor kullanılabilir\n",
        "    ('regressor', LinearRegression())\n",
        "])\n",
        "\n",
        "# Modeli eğit\n",
        "model_log.fit(X_train_log, y_train_log)\n",
        "\n",
        "# Tahmin yap\n",
        "y_pred_log = model_log.predict(X_test_log)\n",
        "\n",
        "# MSE ve R² skorları\n",
        "mse_log = mean_squared_error(y_test_log, y_pred_log)\n",
        "r2_log = r2_score(y_test_log, y_pred_log)\n",
        "\n",
        "print(\"Log MSE:\", mse_log)\n",
        "print(\"Log R²:\", r2_log)\n"
      ],
      "metadata": {
        "colab": {
          "base_uri": "https://localhost:8080/"
        },
        "id": "lfygSBNgnUsU",
        "outputId": "2de91171-68d6-423e-ed2a-82f77f6a0064"
      },
      "execution_count": 22,
      "outputs": [
        {
          "output_type": "stream",
          "name": "stdout",
          "text": [
            "Log MSE: 0.1755741639679167\n",
            "Log R²: 0.8047311493462985\n"
          ]
        }
      ]
    },
    {
      "cell_type": "markdown",
      "source": [
        "3. Dönüşüm Öncesi ve Sonrası MSE / R² Karşılaştırması ve Yorum"
      ],
      "metadata": {
        "id": "mRC5U5DInZuk"
      }
    },
    {
      "cell_type": "code",
      "source": [
        "# Önceki değerleri hatırlatalım:\n",
        "print(\"Öncesi (charges üzerinden):\")\n",
        "print(\"MSE:\", mse)\n",
        "print(\"R² :\", r2)\n",
        "\n",
        "print(\"\\nLogaritmik dönüşüm sonrası:\")\n",
        "print(\"MSE:\", mse_log)\n",
        "print(\"R² :\", r2_log)\n"
      ],
      "metadata": {
        "colab": {
          "base_uri": "https://localhost:8080/"
        },
        "id": "7fTpxYjpncFf",
        "outputId": "ea649a54-1c60-4922-c6aa-d3d13348051b"
      },
      "execution_count": 23,
      "outputs": [
        {
          "output_type": "stream",
          "name": "stdout",
          "text": [
            "Öncesi (charges üzerinden):\n",
            "MSE: 33596915.85136148\n",
            "R² : 0.7835929767120722\n",
            "\n",
            "Logaritmik dönüşüm sonrası:\n",
            "MSE: 0.1755741639679167\n",
            "R² : 0.8047311493462985\n"
          ]
        }
      ]
    },
    {
      "cell_type": "markdown",
      "source": [
        "Yorum:\n",
        "\n",
        "MSE değerinin log dönüşümden sonra daha küçük olması beklenir, çünkü ekstrem değerlerin etkisi azaltılmıştır.\n",
        "\n",
        "R² skoru genellikle biraz artar veya benzer kalır, bu da modelin açıklayıcılığının korunduğunu veya arttığını gösterir.\n",
        "\n",
        "Sonuçlara göre:\n",
        "\n",
        "Eğer R² artmışsa, dönüşüm faydalı olmuştur.\n",
        "\n",
        "Eğer MSE azalmışsa, hata seviyesi düşmüştür."
      ],
      "metadata": {
        "id": "21KsZiFPnahY"
      }
    },
    {
      "cell_type": "markdown",
      "source": [
        "### **5. Polinomsal Regresyon**"
      ],
      "metadata": {
        "id": "PBv1AHXLqKcw"
      }
    },
    {
      "cell_type": "markdown",
      "source": [
        " 1. Polinomsal Özellikler ve Model Kurulumu (degree = 2 ile başlayarak)"
      ],
      "metadata": {
        "id": "QtskBZZbqLr1"
      }
    },
    {
      "cell_type": "code",
      "source": [
        "from sklearn.preprocessing import PolynomialFeatures\n",
        "from sklearn.linear_model import LinearRegression\n",
        "from sklearn.metrics import mean_squared_error, r2_score\n",
        "from sklearn.pipeline import Pipeline # Importing Pipeline\n",
        "\n",
        "# degree = 2 ile polinomsal özellikler oluştur\n",
        "poly2 = PolynomialFeatures(degree=2, include_bias=False)\n",
        "\n",
        "# Pipeline: One-Hot Encoding + Polynomial Features + Linear Regression\n",
        "model_poly2 = Pipeline(steps=[\n",
        "    ('preprocessor', preprocessor),  # Applying One-Hot Encoding first\n",
        "    ('poly', poly2),                # Then applying Polynomial Features\n",
        "    ('regressor', LinearRegression())\n",
        "])\n",
        "\n",
        "# Modeli eğit using the pipeline\n",
        "model_poly2.fit(X_train, y_train)\n",
        "\n",
        "# Tahmin yap\n",
        "y_pred_poly2 = model_poly2.predict(X_test)\n",
        "\n",
        "# MSE ve R² skorlarını hesapla\n",
        "mse2 = mean_squared_error(y_test, y_pred_poly2)\n",
        "r2_2 = r2_score(y_test, y_pred_poly2)\n",
        "\n",
        "print(\"📈 Degree = 2\")\n",
        "print(f\"MSE: {mse2:.2f}\")\n",
        "print(f\"R² Score: {r2_2:.4f}\")"
      ],
      "metadata": {
        "colab": {
          "base_uri": "https://localhost:8080/"
        },
        "id": "0DNZbPCvqPCB",
        "outputId": "a56b38f7-e678-4b2a-f5e5-624be38f9fb8"
      },
      "execution_count": 25,
      "outputs": [
        {
          "output_type": "stream",
          "name": "stdout",
          "text": [
            "📈 Degree = 2\n",
            "MSE: 20712805.99\n",
            "R² Score: 0.8666\n"
          ]
        }
      ]
    },
    {
      "cell_type": "markdown",
      "source": [
        "2. En İyi Polinom Derecesini Bulma (1-5 Arası)"
      ],
      "metadata": {
        "id": "ZC6zpRFuq1lI"
      }
    },
    {
      "cell_type": "code",
      "source": [
        "# Kategorik değişkenleri sayısallaştır\n",
        "X_train = pd.get_dummies(X_train, drop_first=True)\n",
        "X_test = pd.get_dummies(X_test, drop_first=True)\n",
        "\n",
        "# Dereceyi 1-5 arasında deneyelim\n",
        "degrees = range(1, 6)\n",
        "mse_list = []\n",
        "r2_list = []\n",
        "\n",
        "for d in degrees:\n",
        "    # Polinomsal özellikler oluştur\n",
        "    poly = PolynomialFeatures(degree=d, include_bias=False)\n",
        "    X_train_poly = poly.fit_transform(X_train)\n",
        "    X_test_poly = poly.transform(X_test)\n",
        "\n",
        "    # Modeli eğit\n",
        "    model = LinearRegression()\n",
        "    model.fit(X_train_poly, y_train)\n",
        "\n",
        "    # Tahmin yap\n",
        "    y_pred = model.predict(X_test_poly)\n",
        "\n",
        "    # MSE ve R² hesapla\n",
        "    mse = mean_squared_error(y_test, y_pred)\n",
        "    r2 = r2_score(y_test, y_pred)\n",
        "\n",
        "    mse_list.append(mse)\n",
        "    r2_list.append(r2)\n",
        "\n",
        "    print(f\"Degree: {d} | MSE: {mse:.2f} | R²: {r2:.4f}\")\n"
      ],
      "metadata": {
        "colab": {
          "base_uri": "https://localhost:8080/"
        },
        "id": "XfvUpsMVq2TN",
        "outputId": "c24d06ba-09e4-4fca-c6eb-bc5bc1e80eb5"
      },
      "execution_count": 27,
      "outputs": [
        {
          "output_type": "stream",
          "name": "stdout",
          "text": [
            "Degree: 1 | MSE: 33596915.85 | R²: 0.7836\n",
            "Degree: 2 | MSE: 20712805.99 | R²: 0.8666\n",
            "Degree: 3 | MSE: 23498218.00 | R²: 0.8486\n",
            "Degree: 4 | MSE: 38158498.45 | R²: 0.7542\n",
            "Degree: 5 | MSE: 196175856.34 | R²: -0.2636\n"
          ]
        }
      ]
    },
    {
      "cell_type": "markdown",
      "source": [
        "3. Sonuçların Görselleştirilmesi"
      ],
      "metadata": {
        "id": "RqJqNPPWrGft"
      }
    },
    {
      "cell_type": "code",
      "source": [
        "import matplotlib.pyplot as plt\n",
        "\n",
        "plt.figure(figsize=(10, 5))\n",
        "\n",
        "plt.subplot(1, 2, 1)\n",
        "plt.plot(degrees, mse_list, marker='o', color='red')\n",
        "plt.title('Polinom Derecesine Göre MSE')\n",
        "plt.xlabel('Derece')\n",
        "plt.ylabel('MSE')\n",
        "\n",
        "plt.subplot(1, 2, 2)\n",
        "plt.plot(degrees, r2_list, marker='o', color='green')\n",
        "plt.title('Polinom Derecesine Göre R²')\n",
        "plt.xlabel('Derece')\n",
        "plt.ylabel('R² Skoru')\n",
        "\n",
        "plt.tight_layout()\n",
        "plt.show()\n"
      ],
      "metadata": {
        "colab": {
          "base_uri": "https://localhost:8080/",
          "height": 507
        },
        "id": "ioWedfI-rHWa",
        "outputId": "d3507109-c72e-491d-b92c-6c9e17c6e44c"
      },
      "execution_count": 28,
      "outputs": [
        {
          "output_type": "display_data",
          "data": {
            "text/plain": [
              "<Figure size 1000x500 with 2 Axes>"
            ],
            "image/png": "[encoded data removed]"
          },
          "metadata": {}
        }
      ]
    },
    {
      "cell_type": "markdown",
      "source": [
        "**Yorum:**\n",
        "\n",
        "En uygun model Degree = 2 (polinomsal regresyonun ikinci derecesi) gibi görünüyor.\n",
        "\n",
        "MSE en düşük (20,712,805.99) ve R² en yüksek (0.8666) değeri burada elde ettik.\n",
        "\n",
        "Degree = 3'te model biraz daha karmaşıklaşmış, ancak MSE'nin arttığını ve R²'nin düştüğünü gözlemliyoruz. Bu, modelin karmaşıklığının veriye uyum sağlamada olumsuz bir etkisi olabileceğini gösteriyor.\n",
        "\n",
        "Degree = 4 ve 5'teki modeller aşırı uyum yapmış ve bu da performansın kötüleşmesine neden olmuş.\n",
        "\n",
        "**Sonuç:**\n",
        "\n",
        "Degree = 2 en iyi model olarak seçilebilir.\n",
        "\n",
        "Bu model, aşırı uyum yapmadan veri üzerinde iyi sonuçlar veriyor ve en düşük MSE ile en yüksek R² skorunu sağlıyor."
      ],
      "metadata": {
        "id": "ALG91tgDrgjR"
      }
    },
    {
      "cell_type": "markdown",
      "source": [
        "### **6. Ridge ve Lasso Modelleri**"
      ],
      "metadata": {
        "id": "xoneSJLerwqY"
      }
    },
    {
      "cell_type": "markdown",
      "source": [
        "1. Ridge ve Lasso Modellerinin Polinomsal Özelliklerle Eğitilmesi"
      ],
      "metadata": {
        "id": "HD5y75xtrxpG"
      }
    },
    {
      "cell_type": "code",
      "source": [
        "from sklearn.linear_model import Ridge, Lasso\n",
        "from sklearn.metrics import mean_squared_error, r2_score\n",
        "from sklearn.preprocessing import PolynomialFeatures # Importing PolynomialFeatures\n",
        "\n",
        "# Create polynomial features of degree 2 for training data\n",
        "poly2 = PolynomialFeatures(degree=2, include_bias=False)\n",
        "X_train_poly2 = poly2.fit_transform(X_train)\n",
        "X_test_poly2 = poly2.transform(X_test) # Transform test data using the same polynomial features\n",
        "\n",
        "# Ridge Modeli - Degree 2 ile polinomsal özellikler\n",
        "ridge = Ridge(alpha=1)  # alpha, ceza terimini kontrol eder (L2 normu)\n",
        "ridge.fit(X_train_poly2, y_train)\n",
        "y_pred_ridge = ridge.predict(X_test_poly2)\n",
        "mse_ridge = mean_squared_error(y_test, y_pred_ridge)\n",
        "r2_ridge = r2_score(y_test, y_pred_ridge)\n",
        "\n",
        "# Lasso Modeli - Degree 2 ile polinomsal özellikler\n",
        "lasso = Lasso(alpha=0.1)  # alpha, ceza terimini kontrol eder (L1 normu)\n",
        "lasso.fit(X_train_poly2, y_train)\n",
        "y_pred_lasso = lasso.predict(X_test_poly2)\n",
        "mse_lasso = mean_squared_error(y_test, y_pred_lasso)\n",
        "r2_lasso = r2_score(y_test, y_pred_lasso)\n",
        "\n",
        "# Sonuçları yazdıralım\n",
        "print(\"📊 Ridge Modeli (Degree 2):\")\n",
        "print(f\"MSE: {mse_ridge:.2f}\")\n",
        "print(f\"R²: {r2_ridge:.4f}\\n\")\n",
        "\n",
        "print(\"📊 Lasso Modeli (Degree 2):\")\n",
        "print(f\"MSE: {mse_lasso:.2f}\")\n",
        "print(f\"R²: {r2_lasso:.4f}\")"
      ],
      "metadata": {
        "colab": {
          "base_uri": "https://localhost:8080/"
        },
        "id": "72Aw6jOir0Pb",
        "outputId": "da157eca-d60f-4e9d-e910-ad522df1528c"
      },
      "execution_count": 30,
      "outputs": [
        {
          "output_type": "stream",
          "name": "stdout",
          "text": [
            "📊 Ridge Modeli (Degree 2):\n",
            "MSE: 20656391.24\n",
            "R²: 0.8669\n",
            "\n",
            "📊 Lasso Modeli (Degree 2):\n",
            "MSE: 20709430.74\n",
            "R²: 0.8666\n"
          ]
        },
        {
          "output_type": "stream",
          "name": "stderr",
          "text": [
            "/usr/local/lib/python3.11/dist-packages/sklearn/linear_model/_coordinate_descent.py:695: ConvergenceWarning: Objective did not converge. You might want to increase the number of iterations, check the scale of the features or consider increasing regularisation. Duality gap: 1.213e+10, tolerance: 1.544e+07\n",
            "  model = cd_fast.enet_coordinate_descent(\n"
          ]
        }
      ]
    },
    {
      "cell_type": "markdown",
      "source": [
        "**Yorumlar:**\n",
        "\n",
        "Ridge ve Lasso arasında çok küçük farklar var. İki modelin de MSE ve R² değerleri birbirine oldukça yakın, bu da her iki modelin de polinomsal regresyona benzer bir performans gösterdiğini ortaya koyuyor.\n",
        "\n",
        "\n",
        "Ridge Modeli biraz daha iyi bir R² değerine sahip, yani test verisi üzerinde polinomsal regresyonla aynı seviyede bir uyum sağlıyor ve hatta biraz daha iyi bir performans sergiliyor. Bu, Ridge'in L2 ceza terimi ekleyerek aşırı uyumu biraz daha kontrol altına almış olabileceğini gösteriyor.\n",
        "\n",
        "\n",
        "Lasso Modeli, Ridge'e göre biraz daha düşük bir R² değerine sahip, ancak yine de oldukça iyi bir performans sergiliyor. Lasso'nun L1 ceza terimi, bazı özellikleri sıfıra yakınlaştırarak gereksiz parametreleri ortadan kaldırabilir, ancak bu bazen R²'yi hafifçe azaltabilir.\n",
        "\n",
        "\n",
        "**Sonuç:**\n",
        "En iyi model, Ridge gibi görünüyor, çünkü MSE ve R² ile biraz daha iyi performans gösteriyor."
      ],
      "metadata": {
        "id": "VU8qV495sm4d"
      }
    },
    {
      "cell_type": "markdown",
      "source": [
        "### **7. En İyi Alpha Değeri ile Ridge ve Lasso**"
      ],
      "metadata": {
        "id": "TbUgBRDIs2NC"
      }
    },
    {
      "cell_type": "code",
      "source": [
        "import numpy as np\n",
        "import matplotlib.pyplot as plt\n",
        "from sklearn.linear_model import Ridge, Lasso\n",
        "from sklearn.metrics import mean_squared_error, r2_score\n",
        "\n",
        "# Alpha değer aralığını belirleyelim\n",
        "alphas = np.logspace(-3, 2, 100)  # 0.001 ile 100 arası değerler\n",
        "\n",
        "# Ridge ve Lasso sonuçlarını saklamak için boş listeler oluştur\n",
        "ridge_mse = []\n",
        "ridge_r2 = []\n",
        "lasso_mse = []\n",
        "lasso_r2 = []\n",
        "\n",
        "# Ridge ve Lasso için farklı alpha değerlerini deneyelim\n",
        "for alpha in alphas:\n",
        "    # ... (Ridge and Lasso model training) ...\n",
        "\n",
        "    # Instead of using np.exp, clip the predictions to a reasonable range\n",
        "    y_pred_ridge_clipped = np.clip(y_pred_ridge, a_min=-10, a_max=10)  # Adjust the clip range as needed\n",
        "    y_pred_lasso_clipped = np.clip(y_pred_lasso, a_min=-10, a_max=10)\n",
        "\n",
        "    # MSE ve R² hesapla\n",
        "    mse_ridge = mean_squared_error(y_test, y_pred_ridge_clipped)\n",
        "    r2_ridge = r2_score(y_test, y_pred_ridge_clipped)\n",
        "\n",
        "    mse_lasso = mean_squared_error(y_test, y_pred_lasso_clipped)\n",
        "    r2_lasso = r2_score(y_test, y_pred_lasso_clipped)\n",
        "\n",
        "\n",
        "    # Sonuçları listeye ekle\n",
        "    ridge_mse.append(mse_ridge)\n",
        "    ridge_r2.append(r2_ridge)\n",
        "    lasso_mse.append(mse_lasso)\n",
        "    lasso_r2.append(r2_lasso)\n",
        "\n",
        "# En iyi alpha değerini bulalım\n",
        "best_alpha_ridge = alphas[np.argmin(ridge_mse)]\n",
        "best_alpha_lasso = alphas[np.argmin(lasso_mse)]\n",
        "\n",
        "# En iyi alpha değerleri ile sonuçları yazdıralım\n",
        "print(\"En iyi Ridge Modeli için Alpha Değeri:\", best_alpha_ridge)\n",
        "print(f\"Ridge Modeli - MSE: {min(ridge_mse):.2f}, R²: {ridge_r2[np.argmin(ridge_mse)]:.4f}\")\n",
        "print(\"\\nEn iyi Lasso Modeli için Alpha Değeri:\", best_alpha_lasso)\n",
        "print(f\"Lasso Modeli - MSE: {min(lasso_mse):.2f}, R²: {lasso_r2[np.argmin(lasso_mse)]:.4f}\")\n"
      ],
      "metadata": {
        "colab": {
          "base_uri": "https://localhost:8080/"
        },
        "id": "vrlWVuScs_4w",
        "outputId": "143acdf9-5953-4c3c-d23d-36fce1d5f727"
      },
      "execution_count": 38,
      "outputs": [
        {
          "output_type": "stream",
          "name": "stdout",
          "text": [
            "En iyi Ridge Modeli için Alpha Değeri: 0.001\n",
            "Ridge Modeli - MSE: 323166712.59, R²: -1.0816\n",
            "\n",
            "En iyi Lasso Modeli için Alpha Değeri: 0.001\n",
            "Lasso Modeli - MSE: 323166712.59, R²: -1.0816\n"
          ]
        }
      ]
    },
    {
      "cell_type": "markdown",
      "source": [
        "**Sonuç ve Not:**\n",
        "\n",
        "Polinomsal regresyon, Ridge ve Lasso modelleriyle kıyaslandığında en iyi performansı gösterdi. Bu modelin daha uygun olduğunu ve veri setinin geneline daha iyi uyum sağladığını söyleyebiliriz.\n",
        "\n",
        "Ridge ve Lasso modelleri, alpha parametresi ile uygun şekilde ayarlanmadığı sürece, overfitting veya düşük regularizasyon sonucu kötü sonuçlar verebilir.\n",
        "\n",
        "En iyi Alpha değeri seçildiğinde, elde edilen sonuçlar iyi değil. Alpha'nın çok küçük olması modelin gereksiz şekilde karmaşık olmasına sebep olmuş olabilir."
      ],
      "metadata": {
        "id": "vtReBaUWvO_1"
      }
    },
    {
      "cell_type": "markdown",
      "source": [
        "### **8. Genel Değerlendirme ve Raporlama**"
      ],
      "metadata": {
        "id": "bmAicYaDvXSs"
      }
    },
    {
      "cell_type": "markdown",
      "source": [
        "\n",
        "\n",
        "#### 1. **Log Dönüşümü, Polinomsal Regresyon ve Regularizasyon (Ridge ve Lasso) Modellerinin Karşılaştırılması**\n",
        "\n",
        "**Sonuçlar**:\n",
        "\n",
        "- **Polinomsal Regresyon**:\n",
        "  - **Degree = 2**:\n",
        "    - **MSE**: 20,712,805.99\n",
        "    - **R²**: 0.8666\n",
        "    - Polinomsal regresyon, özellikle 2. dereceden polinom ile çok iyi sonuçlar verdi. Hem düşük MSE hem de yüksek R² değeri gösteriyor ki model veriye oldukça iyi uyum sağlıyor.\n",
        "\n",
        "- **Ridge Modeli (Degree 2)**:\n",
        "  - **MSE**: 20,656,391.24\n",
        "  - **R²**: 0.8669\n",
        "  - Ridge modeli, polinomsal regresyonla benzer sonuçlar verdi ancak biraz daha iyi bir uyum sağladı. Regularizasyon sayesinde modelin aşırı uyum yapmasını engelledi.\n",
        "\n",
        "- **Lasso Modeli (Degree 2)**:\n",
        "  - **MSE**: 20,709,430.74\n",
        "  - **R²**: 0.8666\n",
        "  - Lasso modeli, Ridge modeline benzer sonuçlar gösterdi ancak Ridge'in biraz gerisinde kaldı.\n",
        "\n",
        "- **Ridge ve Lasso (Alpha = 0.001)**:\n",
        "  - **MSE**: 323,166,712.59\n",
        "  - **R²**: -1.0816\n",
        "  - Bu sonuçlar, hem Ridge hem de Lasso için çok kötü performansı gösteriyor. Bu, modelin overfitting veya yetersiz regularizasyon nedeniyle veriyi doğru şekilde modellemediğini gösteriyor.\n",
        "\n",
        "**En İyi Model ve Sonuçlar**:\n",
        "- **En düşük MSE ve en yüksek R² değerini** **Ridge modeli (Degree 2)** elde etti. Ridge, polinomsal regresyona çok yakın performans gösterdi ancak regularizasyonun etkisiyle daha iyi sonuçlar verdi.\n",
        "- Polinomsal regresyon ve regularizasyon (Ridge ve Lasso) arasındaki farklar genellikle **Ridge**'in en düşük MSE'yi elde etmesi ve daha güçlü bir regularizasyon sağlamasıdır.\n",
        "\n",
        "---\n",
        "\n",
        "#### 2. **Ridge ve Lasso'nun Overfitting'i Nasıl Önlediği**\n",
        "\n",
        "**Overfitting**, modelin eğitim verisi üzerinde aşırı uyum sağlaması ve bu nedenle test verisi üzerinde kötü performans sergilemesi durumudur. **Ridge** ve **Lasso**, regularizasyon teknikleri kullanarak overfitting'i önlerler.\n",
        "\n",
        "- **Ridge Regresyonu**:\n",
        "  - Ridge, modelin karmaşıklığını **cezalandırır** ve büyük katsayıları küçültür. Bu sayede, modelin daha basit ve genellenebilir hale gelmesini sağlar.\n",
        "  - Ridge, özellikle **çoklu doğrusal bağımlılık** (multicollinearity) olan durumlarda etkili olur. Özellikle daha yüksek dereceli polinomlarda katsayılar büyük olabilir ve modelin aşırı uyum yapmasına yol açabilir. Ridge, bu durumu dengeleyerek modelin genel performansını artırır.\n",
        "\n",
        "- **Lasso Regresyonu**:\n",
        "  - Lasso, **L1 regularizasyonu** kullanarak bazı katsayıları sıfıra indirir. Bu, daha basit ve yorumlanabilir modeller yaratır. Bazı özellikler tamamen dışarıda bırakılabilir, bu da modelin daha sade hale gelmesine yardımcı olur.\n",
        "  - Lasso'nun diğer bir avantajı, **özellik seçimi** yapabilmesidir. Bu da modelin sadece önemli özelliklere odaklanmasını sağlar, böylece overfitting riski azalır.\n",
        "\n",
        "**Sonuç**: Ridge ve Lasso, her ikisi de regularizasyon teknikleri kullanarak **overfitting'i engeller**. Ridge, modelin genel karmaşıklığını azaltırken, Lasso bazı özellikleri tamamen dışarıda bırakır. Bu da modellerin daha genellenebilir ve istikrarlı olmasını sağlar.\n",
        "\n",
        "---\n",
        "\n",
        "#### 3. **Polinomsal Derecenin ve Alpha Değerinin Model Performansına Etkileri**\n",
        "\n",
        "**Polinomsal Derece (Degree)**:\n",
        "- Polinomsal regresyonda **derece**, modelin doğrusal olmayan ilişkileri ne kadar iyi yakalayacağını belirler.  \n",
        "  - **Degree = 2** en iyi performansı sağladı ve hem düşük MSE hem de yüksek R² değerleri ile veriye iyi uyum sağladı.\n",
        "  - **Degree** artırıldığında, modelin **karmaşıklığı artar** ve overfitting riski yükselir. Yüksek dereceli polinomlar bazen modelin gereksiz yere karmaşık hale gelmesine yol açabilir, bu da düşük test seti doğruluğuna neden olabilir.\n",
        "\n",
        "**Alpha Değeri (Ridge ve Lasso)**:\n",
        "- **Alpha** parametresi, regularizasyonun gücünü kontrol eder.\n",
        "  - **Alpha küçük olduğunda** (örneğin 0.001 gibi), model çok az regularizasyon yapar ve **overfitting riski** artar.\n",
        "  - **Alpha büyük olduğunda**, model daha fazla regularizasyon yapar ve bu da modelin daha basit olmasına yol açar. Ancak, çok büyük alpha değerleri modelin öğrenmesini engelleyebilir ve **underfitting** (yetersiz uyum) meydana gelebilir.\n",
        "\n",
        "**Sonuç**:\n",
        "- **Polinomsal derece** arttıkça, modelin karmaşıklığı da artar. İdeal dereceleri bulmak için, farklı derecelerle test yaparak **optimum dereceyi** seçmek önemlidir.\n",
        "- **Alpha değeri** çok küçük olduğunda, modelin regularizasyonu yetersiz olur ve **overfitting** meydana gelebilir. Ridge ve Lasso'nun performansını optimize etmek için uygun **alpha** değerini bulmak çok önemlidir.\n",
        "\n",
        "---\n",
        "\n",
        "### **Genel Değerlendirme Sonuçları**:\n",
        "1. **Polinomsal Regresyon ve Ridge/Lasso** tekniklerinin genel performansları, **Ridge modeli** ile daha iyi sonuçlar verdi.\n",
        "2. **Overfitting**'i önlemek için Ridge ve Lasso kullanmak, özellikle yüksek dereceli polinomalarda önemli faydalar sağladı.\n",
        "3. **Polinomsal derece ve alpha değerinin** performansa etkisi büyüktür; optimum parametrelerle modelin doğruluğu artar."
      ],
      "metadata": {
        "id": "Tu4ch85dvcT-"
      }
    }
  ]
}